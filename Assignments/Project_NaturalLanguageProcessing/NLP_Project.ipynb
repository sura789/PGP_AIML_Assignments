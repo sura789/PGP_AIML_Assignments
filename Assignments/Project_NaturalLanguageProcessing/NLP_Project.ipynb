{
 "cells": [
  {
   "cell_type": "markdown",
   "metadata": {
    "id": "WJdujYj0Zjwx"
   },
   "source": [
    "# NLP Project\n",
    "\n",
    "# PART A\n",
    "\n",
    "## Domain:\n",
    "Digital content management\n",
    "\n",
    "## Context:\n",
    "Classification is probably the most popular task that you would deal with in real life. Text in the form of blogs, posts, articles, etc.\n",
    "are written every second. It is a challenge to predict the information about the writer without knowing about him/her. We are going to create a\n",
    "classifier that predicts multiple features of the author of a given text. We have designed it as a Multi label classification problem.\n",
    "\n",
    "## Data Description:\n",
    "Over 600,000 posts from more than 19 thousand bloggers The Blog Authorship Corpus consists of the collected posts of\n",
    "19,320 bloggers gathered from blogger.com in August 2004. The corpus incorporates a total of 681,288 posts and over 140 million words - or\n",
    "approximately 35 posts and 7250 words per person. Each blog is presented as a separate file, the name of which indicates a blogger id# and\n",
    "the blogger’s self-provided gender, age, industry, and astrological sign. (All are labelled for gender and age but for many, industry and/or sign is\n",
    "marked as unknown.) All bloggers included in the corpus fall into one of three age groups:\n",
    "• 8240 \"10s\" blogs (ages 13-17),\n",
    "• 8086 \"20s\" blogs(ages 23-27) and\n",
    "• 2994 \"30s\" blogs (ages 33-47)\n",
    "• For each age group, there is an equal number of male and female bloggers. Each blog in the corpus includes at least 200 occurrences of\n",
    "common English words. All formatting has been stripped with two exceptions. Individual posts within a single blogger are separated by the\n",
    "date of the following post and links within a post are denoted by the label url link.\n",
    "\n",
    "## Project Objective:\n",
    "To build a NLP classifier which can use input text parameters to determine the label/s of the blog. Specific to this case\n",
    "study, you can consider the text of the blog: ‘text’ feature as independent variable and ‘topic’ as dependent variable."
   ]
  },
  {
   "cell_type": "markdown",
   "metadata": {
    "id": "iPFlYyBuZ3iy"
   },
   "source": [
    "# Digital content management"
   ]
  },
  {
   "cell_type": "markdown",
   "metadata": {
    "id": "AWflVx_daKhL"
   },
   "source": [
    "## 1. Read and Analyse Dataset."
   ]
  },
  {
   "cell_type": "markdown",
   "metadata": {
    "id": "0T4xkwNZaTIX"
   },
   "source": [
    "### A. Clearly write outcome of data analysis"
   ]
  },
  {
   "cell_type": "code",
   "execution_count": 1,
   "metadata": {
    "colab": {
     "base_uri": "https://localhost:8080/"
    },
    "id": "VNUf9KD_6RFw",
    "outputId": "73a7b0b5-4b67-4f01-d4a1-93c59dce6dc1"
   },
   "outputs": [
    {
     "name": "stdout",
     "output_type": "stream",
     "text": [
      "Mounted at /content/drive\n"
     ]
    }
   ],
   "source": [
    "from google.colab import drive\n",
    "drive.mount('/content/drive')"
   ]
  },
  {
   "cell_type": "code",
   "execution_count": 2,
   "metadata": {
    "colab": {
     "base_uri": "https://localhost:8080/"
    },
    "id": "h-Psiz_g6gQh",
    "outputId": "a3219050-9c50-4c4f-eb61-fc58a651d35f"
   },
   "outputs": [
    {
     "name": "stdout",
     "output_type": "stream",
     "text": [
      "/content/drive/MyDrive/AIML\n"
     ]
    }
   ],
   "source": [
    "cd \"/content/drive/MyDrive/AIML\""
   ]
  },
  {
   "cell_type": "code",
   "execution_count": 3,
   "metadata": {
    "id": "mHmAVBoHBuFF"
   },
   "outputs": [],
   "source": [
    "project_path = '/content/drive/MyDrive/AIML/'"
   ]
  },
  {
   "cell_type": "markdown",
   "metadata": {
    "id": "lm8PLFjXWfzV"
   },
   "source": [
    "**Importing the Libraries**"
   ]
  },
  {
   "cell_type": "code",
   "execution_count": 4,
   "metadata": {
    "colab": {
     "base_uri": "https://localhost:8080/"
    },
    "id": "fabWwgIeNxY5",
    "outputId": "6dac36da-16d4-4cc7-d27f-15b84c106cb7"
   },
   "outputs": [
    {
     "name": "stdout",
     "output_type": "stream",
     "text": [
      "Collecting langdetect\n",
      "  Downloading langdetect-1.0.9.tar.gz (981 kB)\n",
      "\u001b[K     |████████████████████████████████| 981 kB 5.4 MB/s \n",
      "\u001b[?25hRequirement already satisfied: six in /usr/local/lib/python3.7/dist-packages (from langdetect) (1.15.0)\n",
      "Building wheels for collected packages: langdetect\n",
      "  Building wheel for langdetect (setup.py) ... \u001b[?25l\u001b[?25hdone\n",
      "  Created wheel for langdetect: filename=langdetect-1.0.9-py3-none-any.whl size=993242 sha256=f71bbe8ef7473c6ff0db0ac3efa72b34cd1b3d6a7006a4e304f69645bf7cbaa5\n",
      "  Stored in directory: /root/.cache/pip/wheels/c5/96/8a/f90c59ed25d75e50a8c10a1b1c2d4c402e4dacfa87f3aff36a\n",
      "Successfully built langdetect\n",
      "Installing collected packages: langdetect\n",
      "Successfully installed langdetect-1.0.9\n"
     ]
    }
   ],
   "source": [
    "!pip install langdetect\n",
    "import pandas as pd\n",
    "import numpy as np \n",
    "import re\n",
    "from nltk.corpus import stopwords\n",
    "from langdetect import detect\n",
    "from sklearn.feature_extraction.text import CountVectorizer\n",
    "from sklearn.model_selection import train_test_split\n",
    "from nltk.stem.snowball import SnowballStemmer\n",
    "import warnings\n",
    "warnings.filterwarnings('ignore')\n",
    "import pandas_profiling as pp\n",
    "import seaborn as sns\n",
    "import matplotlib as plt\n",
    "%matplotlib inline"
   ]
  },
  {
   "cell_type": "markdown",
   "metadata": {
    "id": "nG5NGO7c34yX"
   },
   "source": [
    "**Extract the contents of zip file**"
   ]
  },
  {
   "cell_type": "code",
   "execution_count": 5,
   "metadata": {
    "colab": {
     "base_uri": "https://localhost:8080/"
    },
    "id": "qrOpOagR34yZ",
    "outputId": "0f870387-38b4-4634-a521-2c98347b1994"
   },
   "outputs": [
    {
     "name": "stdout",
     "output_type": "stream",
     "text": [
      "Extracting all the files now...\n",
      "Done!\n"
     ]
    }
   ],
   "source": [
    "from zipfile import ZipFile\n",
    "\n",
    "# specifying the zip file name\n",
    "file_name = project_path + \"blogs.zip\"\n",
    "  \n",
    "# opening the zip file in READ mode\n",
    "with ZipFile(file_name, 'r') as zip:\n",
    "    # printing all the contents of the zip file\n",
    "    # zip.printdir()\n",
    "  \n",
    "    # extracting all the files\n",
    "    print('Extracting all the files now...')\n",
    "    zip.extractall()\n",
    "    print('Done!')"
   ]
  },
  {
   "cell_type": "markdown",
   "metadata": {
    "id": "QI1WCMoH34yf"
   },
   "source": [
    "**Read the csv using pandas**"
   ]
  },
  {
   "cell_type": "code",
   "execution_count": 6,
   "metadata": {
    "id": "ld3YYhgJErYP"
   },
   "outputs": [],
   "source": [
    "filepath = project_path + \"blogtext.csv\""
   ]
  },
  {
   "cell_type": "code",
   "execution_count": 7,
   "metadata": {
    "id": "UnHeJhCb34yh"
   },
   "outputs": [],
   "source": [
    "blog_df = pd.read_csv(filepath)"
   ]
  },
  {
   "cell_type": "markdown",
   "metadata": {
    "id": "iSdOhe9I34yr"
   },
   "source": [
    "**Get the names of the columns**"
   ]
  },
  {
   "cell_type": "code",
   "execution_count": 8,
   "metadata": {
    "colab": {
     "base_uri": "https://localhost:8080/"
    },
    "id": "65-iG85P34ys",
    "outputId": "1b0f0b4f-7f85-4241-d86f-8d13949f5b43"
   },
   "outputs": [
    {
     "data": {
      "text/plain": [
       "Index(['id', 'gender', 'age', 'topic', 'sign', 'date', 'text'], dtype='object')"
      ]
     },
     "execution_count": 8,
     "metadata": {},
     "output_type": "execute_result"
    }
   ],
   "source": [
    "blog_df.columns"
   ]
  },
  {
   "cell_type": "code",
   "execution_count": 9,
   "metadata": {
    "colab": {
     "base_uri": "https://localhost:8080/"
    },
    "id": "k2tHgNGn8j2D",
    "outputId": "a8c18f6b-38df-468d-d462-26a3200e6353"
   },
   "outputs": [
    {
     "data": {
      "text/plain": [
       "(681284, 7)"
      ]
     },
     "execution_count": 9,
     "metadata": {},
     "output_type": "execute_result"
    }
   ],
   "source": [
    "# check the shape of the data frame by using the shape attribute of the data frame\n",
    "blog_df.shape"
   ]
  },
  {
   "cell_type": "code",
   "execution_count": 10,
   "metadata": {
    "colab": {
     "base_uri": "https://localhost:8080/",
     "height": 206
    },
    "id": "BtrLsKaz8q3C",
    "outputId": "d550ebfe-d19c-4694-d098-9a5d8a665815"
   },
   "outputs": [
    {
     "data": {
      "text/html": [
       "\n",
       "  <div id=\"df-14cfd868-c8aa-41be-a5d8-2f579f5105fc\">\n",
       "    <div class=\"colab-df-container\">\n",
       "      <div>\n",
       "<style scoped>\n",
       "    .dataframe tbody tr th:only-of-type {\n",
       "        vertical-align: middle;\n",
       "    }\n",
       "\n",
       "    .dataframe tbody tr th {\n",
       "        vertical-align: top;\n",
       "    }\n",
       "\n",
       "    .dataframe thead th {\n",
       "        text-align: right;\n",
       "    }\n",
       "</style>\n",
       "<table border=\"1\" class=\"dataframe\">\n",
       "  <thead>\n",
       "    <tr style=\"text-align: right;\">\n",
       "      <th></th>\n",
       "      <th>id</th>\n",
       "      <th>gender</th>\n",
       "      <th>age</th>\n",
       "      <th>topic</th>\n",
       "      <th>sign</th>\n",
       "      <th>date</th>\n",
       "      <th>text</th>\n",
       "    </tr>\n",
       "  </thead>\n",
       "  <tbody>\n",
       "    <tr>\n",
       "      <th>74649</th>\n",
       "      <td>3105869</td>\n",
       "      <td>female</td>\n",
       "      <td>23</td>\n",
       "      <td>Student</td>\n",
       "      <td>Capricorn</td>\n",
       "      <td>12,June,2004</td>\n",
       "      <td>urlLink    Somewhere in Vatican&amp;nbsp; ...</td>\n",
       "    </tr>\n",
       "    <tr>\n",
       "      <th>411179</th>\n",
       "      <td>1461401</td>\n",
       "      <td>female</td>\n",
       "      <td>16</td>\n",
       "      <td>Student</td>\n",
       "      <td>Scorpio</td>\n",
       "      <td>20,October,2003</td>\n",
       "      <td>Today was another bad day. There ...</td>\n",
       "    </tr>\n",
       "    <tr>\n",
       "      <th>380520</th>\n",
       "      <td>1417798</td>\n",
       "      <td>female</td>\n",
       "      <td>35</td>\n",
       "      <td>indUnk</td>\n",
       "      <td>Scorpio</td>\n",
       "      <td>22,September,2003</td>\n",
       "      <td>Hey Gals! I feel SOOOOOOO ter...</td>\n",
       "    </tr>\n",
       "    <tr>\n",
       "      <th>239898</th>\n",
       "      <td>449628</td>\n",
       "      <td>male</td>\n",
       "      <td>34</td>\n",
       "      <td>indUnk</td>\n",
       "      <td>Aries</td>\n",
       "      <td>07,February,2004</td>\n",
       "      <td>2004 Reading Jamboree   Keisha a...</td>\n",
       "    </tr>\n",
       "    <tr>\n",
       "      <th>324273</th>\n",
       "      <td>3172762</td>\n",
       "      <td>male</td>\n",
       "      <td>16</td>\n",
       "      <td>Student</td>\n",
       "      <td>Scorpio</td>\n",
       "      <td>22,June,2004</td>\n",
       "      <td>urlLink    flowers&amp;nbsp; urlLink</td>\n",
       "    </tr>\n",
       "  </tbody>\n",
       "</table>\n",
       "</div>\n",
       "      <button class=\"colab-df-convert\" onclick=\"convertToInteractive('df-14cfd868-c8aa-41be-a5d8-2f579f5105fc')\"\n",
       "              title=\"Convert this dataframe to an interactive table.\"\n",
       "              style=\"display:none;\">\n",
       "        \n",
       "  <svg xmlns=\"http://www.w3.org/2000/svg\" height=\"24px\"viewBox=\"0 0 24 24\"\n",
       "       width=\"24px\">\n",
       "    <path d=\"M0 0h24v24H0V0z\" fill=\"none\"/>\n",
       "    <path d=\"M18.56 5.44l.94 2.06.94-2.06 2.06-.94-2.06-.94-.94-2.06-.94 2.06-2.06.94zm-11 1L8.5 8.5l.94-2.06 2.06-.94-2.06-.94L8.5 2.5l-.94 2.06-2.06.94zm10 10l.94 2.06.94-2.06 2.06-.94-2.06-.94-.94-2.06-.94 2.06-2.06.94z\"/><path d=\"M17.41 7.96l-1.37-1.37c-.4-.4-.92-.59-1.43-.59-.52 0-1.04.2-1.43.59L10.3 9.45l-7.72 7.72c-.78.78-.78 2.05 0 2.83L4 21.41c.39.39.9.59 1.41.59.51 0 1.02-.2 1.41-.59l7.78-7.78 2.81-2.81c.8-.78.8-2.07 0-2.86zM5.41 20L4 18.59l7.72-7.72 1.47 1.35L5.41 20z\"/>\n",
       "  </svg>\n",
       "      </button>\n",
       "      \n",
       "  <style>\n",
       "    .colab-df-container {\n",
       "      display:flex;\n",
       "      flex-wrap:wrap;\n",
       "      gap: 12px;\n",
       "    }\n",
       "\n",
       "    .colab-df-convert {\n",
       "      background-color: #E8F0FE;\n",
       "      border: none;\n",
       "      border-radius: 50%;\n",
       "      cursor: pointer;\n",
       "      display: none;\n",
       "      fill: #1967D2;\n",
       "      height: 32px;\n",
       "      padding: 0 0 0 0;\n",
       "      width: 32px;\n",
       "    }\n",
       "\n",
       "    .colab-df-convert:hover {\n",
       "      background-color: #E2EBFA;\n",
       "      box-shadow: 0px 1px 2px rgba(60, 64, 67, 0.3), 0px 1px 3px 1px rgba(60, 64, 67, 0.15);\n",
       "      fill: #174EA6;\n",
       "    }\n",
       "\n",
       "    [theme=dark] .colab-df-convert {\n",
       "      background-color: #3B4455;\n",
       "      fill: #D2E3FC;\n",
       "    }\n",
       "\n",
       "    [theme=dark] .colab-df-convert:hover {\n",
       "      background-color: #434B5C;\n",
       "      box-shadow: 0px 1px 3px 1px rgba(0, 0, 0, 0.15);\n",
       "      filter: drop-shadow(0px 1px 2px rgba(0, 0, 0, 0.3));\n",
       "      fill: #FFFFFF;\n",
       "    }\n",
       "  </style>\n",
       "\n",
       "      <script>\n",
       "        const buttonEl =\n",
       "          document.querySelector('#df-14cfd868-c8aa-41be-a5d8-2f579f5105fc button.colab-df-convert');\n",
       "        buttonEl.style.display =\n",
       "          google.colab.kernel.accessAllowed ? 'block' : 'none';\n",
       "\n",
       "        async function convertToInteractive(key) {\n",
       "          const element = document.querySelector('#df-14cfd868-c8aa-41be-a5d8-2f579f5105fc');\n",
       "          const dataTable =\n",
       "            await google.colab.kernel.invokeFunction('convertToInteractive',\n",
       "                                                     [key], {});\n",
       "          if (!dataTable) return;\n",
       "\n",
       "          const docLinkHtml = 'Like what you see? Visit the ' +\n",
       "            '<a target=\"_blank\" href=https://colab.research.google.com/notebooks/data_table.ipynb>data table notebook</a>'\n",
       "            + ' to learn more about interactive tables.';\n",
       "          element.innerHTML = '';\n",
       "          dataTable['output_type'] = 'display_data';\n",
       "          await google.colab.output.renderOutput(dataTable, element);\n",
       "          const docLink = document.createElement('div');\n",
       "          docLink.innerHTML = docLinkHtml;\n",
       "          element.appendChild(docLink);\n",
       "        }\n",
       "      </script>\n",
       "    </div>\n",
       "  </div>\n",
       "  "
      ],
      "text/plain": [
       "             id  gender  age    topic       sign               date  \\\n",
       "74649   3105869  female   23  Student  Capricorn       12,June,2004   \n",
       "411179  1461401  female   16  Student    Scorpio    20,October,2003   \n",
       "380520  1417798  female   35   indUnk    Scorpio  22,September,2003   \n",
       "239898   449628    male   34   indUnk      Aries   07,February,2004   \n",
       "324273  3172762    male   16  Student    Scorpio       22,June,2004   \n",
       "\n",
       "                                                     text  \n",
       "74649           urlLink    Somewhere in Vatican&nbsp; ...  \n",
       "411179               Today was another bad day. There ...  \n",
       "380520                   Hey Gals! I feel SOOOOOOO ter...  \n",
       "239898                2004 Reading Jamboree   Keisha a...  \n",
       "324273            urlLink    flowers&nbsp; urlLink         "
      ]
     },
     "execution_count": 10,
     "metadata": {},
     "output_type": "execute_result"
    }
   ],
   "source": [
    "#check if the data frame is properly loaded using the sample() method\n",
    "blog_df.sample(5)"
   ]
  },
  {
   "cell_type": "code",
   "execution_count": 11,
   "metadata": {
    "id": "O2E62cnI-nvf"
   },
   "outputs": [],
   "source": [
    "#Tip: As the dataset is large, use fewer rows. Check what is working well on your machine and decide accordingly.\n",
    "#Limiting the data and using fewer rows as the data size is large\n",
    "#blog_df = blog_df.head(10000)\n",
    "\n",
    "#blog_df = pd.read_csv(filepath,nrows=100000)\n",
    "blog_df = pd.read_csv(filepath,nrows=3000)"
   ]
  },
  {
   "cell_type": "code",
   "execution_count": 12,
   "metadata": {
    "colab": {
     "base_uri": "https://localhost:8080/",
     "height": 206
    },
    "id": "FASE1hpBFkGN",
    "outputId": "d26feb0d-80c8-43cf-b4dc-da3e8443ff40"
   },
   "outputs": [
    {
     "data": {
      "text/html": [
       "\n",
       "  <div id=\"df-c9e8528c-a836-4ad8-a806-8992aaa3e226\">\n",
       "    <div class=\"colab-df-container\">\n",
       "      <div>\n",
       "<style scoped>\n",
       "    .dataframe tbody tr th:only-of-type {\n",
       "        vertical-align: middle;\n",
       "    }\n",
       "\n",
       "    .dataframe tbody tr th {\n",
       "        vertical-align: top;\n",
       "    }\n",
       "\n",
       "    .dataframe thead th {\n",
       "        text-align: right;\n",
       "    }\n",
       "</style>\n",
       "<table border=\"1\" class=\"dataframe\">\n",
       "  <thead>\n",
       "    <tr style=\"text-align: right;\">\n",
       "      <th></th>\n",
       "      <th>id</th>\n",
       "      <th>gender</th>\n",
       "      <th>age</th>\n",
       "      <th>topic</th>\n",
       "      <th>sign</th>\n",
       "      <th>date</th>\n",
       "      <th>text</th>\n",
       "    </tr>\n",
       "  </thead>\n",
       "  <tbody>\n",
       "    <tr>\n",
       "      <th>0</th>\n",
       "      <td>2059027</td>\n",
       "      <td>male</td>\n",
       "      <td>15</td>\n",
       "      <td>Student</td>\n",
       "      <td>Leo</td>\n",
       "      <td>14,May,2004</td>\n",
       "      <td>Info has been found (+/- 100 pages,...</td>\n",
       "    </tr>\n",
       "    <tr>\n",
       "      <th>1</th>\n",
       "      <td>2059027</td>\n",
       "      <td>male</td>\n",
       "      <td>15</td>\n",
       "      <td>Student</td>\n",
       "      <td>Leo</td>\n",
       "      <td>13,May,2004</td>\n",
       "      <td>These are the team members:   Drewe...</td>\n",
       "    </tr>\n",
       "    <tr>\n",
       "      <th>2</th>\n",
       "      <td>2059027</td>\n",
       "      <td>male</td>\n",
       "      <td>15</td>\n",
       "      <td>Student</td>\n",
       "      <td>Leo</td>\n",
       "      <td>12,May,2004</td>\n",
       "      <td>In het kader van kernfusie op aarde...</td>\n",
       "    </tr>\n",
       "    <tr>\n",
       "      <th>3</th>\n",
       "      <td>2059027</td>\n",
       "      <td>male</td>\n",
       "      <td>15</td>\n",
       "      <td>Student</td>\n",
       "      <td>Leo</td>\n",
       "      <td>12,May,2004</td>\n",
       "      <td>testing!!!  testing!!!</td>\n",
       "    </tr>\n",
       "    <tr>\n",
       "      <th>4</th>\n",
       "      <td>3581210</td>\n",
       "      <td>male</td>\n",
       "      <td>33</td>\n",
       "      <td>InvestmentBanking</td>\n",
       "      <td>Aquarius</td>\n",
       "      <td>11,June,2004</td>\n",
       "      <td>Thanks to Yahoo!'s Toolbar I can ...</td>\n",
       "    </tr>\n",
       "  </tbody>\n",
       "</table>\n",
       "</div>\n",
       "      <button class=\"colab-df-convert\" onclick=\"convertToInteractive('df-c9e8528c-a836-4ad8-a806-8992aaa3e226')\"\n",
       "              title=\"Convert this dataframe to an interactive table.\"\n",
       "              style=\"display:none;\">\n",
       "        \n",
       "  <svg xmlns=\"http://www.w3.org/2000/svg\" height=\"24px\"viewBox=\"0 0 24 24\"\n",
       "       width=\"24px\">\n",
       "    <path d=\"M0 0h24v24H0V0z\" fill=\"none\"/>\n",
       "    <path d=\"M18.56 5.44l.94 2.06.94-2.06 2.06-.94-2.06-.94-.94-2.06-.94 2.06-2.06.94zm-11 1L8.5 8.5l.94-2.06 2.06-.94-2.06-.94L8.5 2.5l-.94 2.06-2.06.94zm10 10l.94 2.06.94-2.06 2.06-.94-2.06-.94-.94-2.06-.94 2.06-2.06.94z\"/><path d=\"M17.41 7.96l-1.37-1.37c-.4-.4-.92-.59-1.43-.59-.52 0-1.04.2-1.43.59L10.3 9.45l-7.72 7.72c-.78.78-.78 2.05 0 2.83L4 21.41c.39.39.9.59 1.41.59.51 0 1.02-.2 1.41-.59l7.78-7.78 2.81-2.81c.8-.78.8-2.07 0-2.86zM5.41 20L4 18.59l7.72-7.72 1.47 1.35L5.41 20z\"/>\n",
       "  </svg>\n",
       "      </button>\n",
       "      \n",
       "  <style>\n",
       "    .colab-df-container {\n",
       "      display:flex;\n",
       "      flex-wrap:wrap;\n",
       "      gap: 12px;\n",
       "    }\n",
       "\n",
       "    .colab-df-convert {\n",
       "      background-color: #E8F0FE;\n",
       "      border: none;\n",
       "      border-radius: 50%;\n",
       "      cursor: pointer;\n",
       "      display: none;\n",
       "      fill: #1967D2;\n",
       "      height: 32px;\n",
       "      padding: 0 0 0 0;\n",
       "      width: 32px;\n",
       "    }\n",
       "\n",
       "    .colab-df-convert:hover {\n",
       "      background-color: #E2EBFA;\n",
       "      box-shadow: 0px 1px 2px rgba(60, 64, 67, 0.3), 0px 1px 3px 1px rgba(60, 64, 67, 0.15);\n",
       "      fill: #174EA6;\n",
       "    }\n",
       "\n",
       "    [theme=dark] .colab-df-convert {\n",
       "      background-color: #3B4455;\n",
       "      fill: #D2E3FC;\n",
       "    }\n",
       "\n",
       "    [theme=dark] .colab-df-convert:hover {\n",
       "      background-color: #434B5C;\n",
       "      box-shadow: 0px 1px 3px 1px rgba(0, 0, 0, 0.15);\n",
       "      filter: drop-shadow(0px 1px 2px rgba(0, 0, 0, 0.3));\n",
       "      fill: #FFFFFF;\n",
       "    }\n",
       "  </style>\n",
       "\n",
       "      <script>\n",
       "        const buttonEl =\n",
       "          document.querySelector('#df-c9e8528c-a836-4ad8-a806-8992aaa3e226 button.colab-df-convert');\n",
       "        buttonEl.style.display =\n",
       "          google.colab.kernel.accessAllowed ? 'block' : 'none';\n",
       "\n",
       "        async function convertToInteractive(key) {\n",
       "          const element = document.querySelector('#df-c9e8528c-a836-4ad8-a806-8992aaa3e226');\n",
       "          const dataTable =\n",
       "            await google.colab.kernel.invokeFunction('convertToInteractive',\n",
       "                                                     [key], {});\n",
       "          if (!dataTable) return;\n",
       "\n",
       "          const docLinkHtml = 'Like what you see? Visit the ' +\n",
       "            '<a target=\"_blank\" href=https://colab.research.google.com/notebooks/data_table.ipynb>data table notebook</a>'\n",
       "            + ' to learn more about interactive tables.';\n",
       "          element.innerHTML = '';\n",
       "          dataTable['output_type'] = 'display_data';\n",
       "          await google.colab.output.renderOutput(dataTable, element);\n",
       "          const docLink = document.createElement('div');\n",
       "          docLink.innerHTML = docLinkHtml;\n",
       "          element.appendChild(docLink);\n",
       "        }\n",
       "      </script>\n",
       "    </div>\n",
       "  </div>\n",
       "  "
      ],
      "text/plain": [
       "        id gender  age              topic      sign          date  \\\n",
       "0  2059027   male   15            Student       Leo   14,May,2004   \n",
       "1  2059027   male   15            Student       Leo   13,May,2004   \n",
       "2  2059027   male   15            Student       Leo   12,May,2004   \n",
       "3  2059027   male   15            Student       Leo   12,May,2004   \n",
       "4  3581210   male   33  InvestmentBanking  Aquarius  11,June,2004   \n",
       "\n",
       "                                                text  \n",
       "0             Info has been found (+/- 100 pages,...  \n",
       "1             These are the team members:   Drewe...  \n",
       "2             In het kader van kernfusie op aarde...  \n",
       "3                   testing!!!  testing!!!            \n",
       "4               Thanks to Yahoo!'s Toolbar I can ...  "
      ]
     },
     "execution_count": 12,
     "metadata": {},
     "output_type": "execute_result"
    }
   ],
   "source": [
    "blog_df.head()"
   ]
  },
  {
   "cell_type": "code",
   "execution_count": 13,
   "metadata": {
    "colab": {
     "base_uri": "https://localhost:8080/",
     "height": 206
    },
    "id": "Bqk0j6RIFkwf",
    "outputId": "f949ec38-fe46-45be-e6a2-03caef7c7178"
   },
   "outputs": [
    {
     "data": {
      "text/html": [
       "\n",
       "  <div id=\"df-209f985a-0263-4325-9621-150f350390e1\">\n",
       "    <div class=\"colab-df-container\">\n",
       "      <div>\n",
       "<style scoped>\n",
       "    .dataframe tbody tr th:only-of-type {\n",
       "        vertical-align: middle;\n",
       "    }\n",
       "\n",
       "    .dataframe tbody tr th {\n",
       "        vertical-align: top;\n",
       "    }\n",
       "\n",
       "    .dataframe thead th {\n",
       "        text-align: right;\n",
       "    }\n",
       "</style>\n",
       "<table border=\"1\" class=\"dataframe\">\n",
       "  <thead>\n",
       "    <tr style=\"text-align: right;\">\n",
       "      <th></th>\n",
       "      <th>id</th>\n",
       "      <th>gender</th>\n",
       "      <th>age</th>\n",
       "      <th>topic</th>\n",
       "      <th>sign</th>\n",
       "      <th>date</th>\n",
       "      <th>text</th>\n",
       "    </tr>\n",
       "  </thead>\n",
       "  <tbody>\n",
       "    <tr>\n",
       "      <th>2995</th>\n",
       "      <td>589736</td>\n",
       "      <td>male</td>\n",
       "      <td>35</td>\n",
       "      <td>Technology</td>\n",
       "      <td>Aries</td>\n",
       "      <td>05,August,2004</td>\n",
       "      <td>but that zoo exhibit thing was much...</td>\n",
       "    </tr>\n",
       "    <tr>\n",
       "      <th>2996</th>\n",
       "      <td>589736</td>\n",
       "      <td>male</td>\n",
       "      <td>35</td>\n",
       "      <td>Technology</td>\n",
       "      <td>Aries</td>\n",
       "      <td>05,August,2004</td>\n",
       "      <td>my fave song for the day: Aimee Man...</td>\n",
       "    </tr>\n",
       "    <tr>\n",
       "      <th>2997</th>\n",
       "      <td>589736</td>\n",
       "      <td>male</td>\n",
       "      <td>35</td>\n",
       "      <td>Technology</td>\n",
       "      <td>Aries</td>\n",
       "      <td>05,August,2004</td>\n",
       "      <td>urlLink America's Best Zoo Exhibit...</td>\n",
       "    </tr>\n",
       "    <tr>\n",
       "      <th>2998</th>\n",
       "      <td>589736</td>\n",
       "      <td>male</td>\n",
       "      <td>35</td>\n",
       "      <td>Technology</td>\n",
       "      <td>Aries</td>\n",
       "      <td>05,August,2004</td>\n",
       "      <td>'The less one makes declaritive sta...</td>\n",
       "    </tr>\n",
       "    <tr>\n",
       "      <th>2999</th>\n",
       "      <td>589736</td>\n",
       "      <td>male</td>\n",
       "      <td>35</td>\n",
       "      <td>Technology</td>\n",
       "      <td>Aries</td>\n",
       "      <td>05,August,2004</td>\n",
       "      <td>While his status as a media persona...</td>\n",
       "    </tr>\n",
       "  </tbody>\n",
       "</table>\n",
       "</div>\n",
       "      <button class=\"colab-df-convert\" onclick=\"convertToInteractive('df-209f985a-0263-4325-9621-150f350390e1')\"\n",
       "              title=\"Convert this dataframe to an interactive table.\"\n",
       "              style=\"display:none;\">\n",
       "        \n",
       "  <svg xmlns=\"http://www.w3.org/2000/svg\" height=\"24px\"viewBox=\"0 0 24 24\"\n",
       "       width=\"24px\">\n",
       "    <path d=\"M0 0h24v24H0V0z\" fill=\"none\"/>\n",
       "    <path d=\"M18.56 5.44l.94 2.06.94-2.06 2.06-.94-2.06-.94-.94-2.06-.94 2.06-2.06.94zm-11 1L8.5 8.5l.94-2.06 2.06-.94-2.06-.94L8.5 2.5l-.94 2.06-2.06.94zm10 10l.94 2.06.94-2.06 2.06-.94-2.06-.94-.94-2.06-.94 2.06-2.06.94z\"/><path d=\"M17.41 7.96l-1.37-1.37c-.4-.4-.92-.59-1.43-.59-.52 0-1.04.2-1.43.59L10.3 9.45l-7.72 7.72c-.78.78-.78 2.05 0 2.83L4 21.41c.39.39.9.59 1.41.59.51 0 1.02-.2 1.41-.59l7.78-7.78 2.81-2.81c.8-.78.8-2.07 0-2.86zM5.41 20L4 18.59l7.72-7.72 1.47 1.35L5.41 20z\"/>\n",
       "  </svg>\n",
       "      </button>\n",
       "      \n",
       "  <style>\n",
       "    .colab-df-container {\n",
       "      display:flex;\n",
       "      flex-wrap:wrap;\n",
       "      gap: 12px;\n",
       "    }\n",
       "\n",
       "    .colab-df-convert {\n",
       "      background-color: #E8F0FE;\n",
       "      border: none;\n",
       "      border-radius: 50%;\n",
       "      cursor: pointer;\n",
       "      display: none;\n",
       "      fill: #1967D2;\n",
       "      height: 32px;\n",
       "      padding: 0 0 0 0;\n",
       "      width: 32px;\n",
       "    }\n",
       "\n",
       "    .colab-df-convert:hover {\n",
       "      background-color: #E2EBFA;\n",
       "      box-shadow: 0px 1px 2px rgba(60, 64, 67, 0.3), 0px 1px 3px 1px rgba(60, 64, 67, 0.15);\n",
       "      fill: #174EA6;\n",
       "    }\n",
       "\n",
       "    [theme=dark] .colab-df-convert {\n",
       "      background-color: #3B4455;\n",
       "      fill: #D2E3FC;\n",
       "    }\n",
       "\n",
       "    [theme=dark] .colab-df-convert:hover {\n",
       "      background-color: #434B5C;\n",
       "      box-shadow: 0px 1px 3px 1px rgba(0, 0, 0, 0.15);\n",
       "      filter: drop-shadow(0px 1px 2px rgba(0, 0, 0, 0.3));\n",
       "      fill: #FFFFFF;\n",
       "    }\n",
       "  </style>\n",
       "\n",
       "      <script>\n",
       "        const buttonEl =\n",
       "          document.querySelector('#df-209f985a-0263-4325-9621-150f350390e1 button.colab-df-convert');\n",
       "        buttonEl.style.display =\n",
       "          google.colab.kernel.accessAllowed ? 'block' : 'none';\n",
       "\n",
       "        async function convertToInteractive(key) {\n",
       "          const element = document.querySelector('#df-209f985a-0263-4325-9621-150f350390e1');\n",
       "          const dataTable =\n",
       "            await google.colab.kernel.invokeFunction('convertToInteractive',\n",
       "                                                     [key], {});\n",
       "          if (!dataTable) return;\n",
       "\n",
       "          const docLinkHtml = 'Like what you see? Visit the ' +\n",
       "            '<a target=\"_blank\" href=https://colab.research.google.com/notebooks/data_table.ipynb>data table notebook</a>'\n",
       "            + ' to learn more about interactive tables.';\n",
       "          element.innerHTML = '';\n",
       "          dataTable['output_type'] = 'display_data';\n",
       "          await google.colab.output.renderOutput(dataTable, element);\n",
       "          const docLink = document.createElement('div');\n",
       "          docLink.innerHTML = docLinkHtml;\n",
       "          element.appendChild(docLink);\n",
       "        }\n",
       "      </script>\n",
       "    </div>\n",
       "  </div>\n",
       "  "
      ],
      "text/plain": [
       "          id gender  age       topic   sign            date  \\\n",
       "2995  589736   male   35  Technology  Aries  05,August,2004   \n",
       "2996  589736   male   35  Technology  Aries  05,August,2004   \n",
       "2997  589736   male   35  Technology  Aries  05,August,2004   \n",
       "2998  589736   male   35  Technology  Aries  05,August,2004   \n",
       "2999  589736   male   35  Technology  Aries  05,August,2004   \n",
       "\n",
       "                                                   text  \n",
       "2995             but that zoo exhibit thing was much...  \n",
       "2996             my fave song for the day: Aimee Man...  \n",
       "2997              urlLink America's Best Zoo Exhibit...  \n",
       "2998             'The less one makes declaritive sta...  \n",
       "2999             While his status as a media persona...  "
      ]
     },
     "execution_count": 13,
     "metadata": {},
     "output_type": "execute_result"
    }
   ],
   "source": [
    "blog_df.tail()"
   ]
  },
  {
   "cell_type": "code",
   "execution_count": 14,
   "metadata": {
    "colab": {
     "base_uri": "https://localhost:8080/"
    },
    "id": "C6QhblAAFnrV",
    "outputId": "fcabaea9-834b-4d16-def1-3775898f8b7d"
   },
   "outputs": [
    {
     "name": "stdout",
     "output_type": "stream",
     "text": [
      "<class 'pandas.core.frame.DataFrame'>\n",
      "RangeIndex: 3000 entries, 0 to 2999\n",
      "Data columns (total 7 columns):\n",
      " #   Column  Non-Null Count  Dtype \n",
      "---  ------  --------------  ----- \n",
      " 0   id      3000 non-null   int64 \n",
      " 1   gender  3000 non-null   object\n",
      " 2   age     3000 non-null   int64 \n",
      " 3   topic   3000 non-null   object\n",
      " 4   sign    3000 non-null   object\n",
      " 5   date    3000 non-null   object\n",
      " 6   text    3000 non-null   object\n",
      "dtypes: int64(2), object(5)\n",
      "memory usage: 164.2+ KB\n"
     ]
    }
   ],
   "source": [
    "blog_df.info()"
   ]
  },
  {
   "cell_type": "code",
   "execution_count": 15,
   "metadata": {
    "colab": {
     "base_uri": "https://localhost:8080/"
    },
    "id": "7lrJ9PifFqmb",
    "outputId": "8fc86f41-4bc8-4939-d6b6-1a1a49cf57c1"
   },
   "outputs": [
    {
     "data": {
      "text/plain": [
       "male      2272\n",
       "female     728\n",
       "Name: gender, dtype: int64"
      ]
     },
     "execution_count": 15,
     "metadata": {},
     "output_type": "execute_result"
    }
   ],
   "source": [
    "blog_df.gender.value_counts()"
   ]
  },
  {
   "cell_type": "code",
   "execution_count": 16,
   "metadata": {
    "colab": {
     "base_uri": "https://localhost:8080/"
    },
    "id": "26Kfres-scBu",
    "outputId": "9c468b1c-b753-43a6-9029-2124a224309b"
   },
   "outputs": [
    {
     "data": {
      "text/plain": [
       "Technology              1607\n",
       "indUnk                   452\n",
       "Student                  403\n",
       "Engineering              119\n",
       "Education                118\n",
       "Sports-Recreation         75\n",
       "InvestmentBanking         70\n",
       "Non-Profit                46\n",
       "Science                   33\n",
       "BusinessServices          21\n",
       "Internet                  20\n",
       "Banking                   16\n",
       "Communications-Media      14\n",
       "Arts                       2\n",
       "Museums-Libraries          2\n",
       "Accounting                 2\n",
       "Name: topic, dtype: int64"
      ]
     },
     "execution_count": 16,
     "metadata": {},
     "output_type": "execute_result"
    }
   ],
   "source": [
    "blog_df.topic.value_counts()"
   ]
  },
  {
   "cell_type": "markdown",
   "metadata": {
    "id": "nqozdtexGMZ8"
   },
   "source": [
    "### B. Clean the Structured Data"
   ]
  },
  {
   "cell_type": "markdown",
   "metadata": {
    "id": "TJ2L3eThGQ25"
   },
   "source": [
    "**i. Missing value analysis and imputation.**"
   ]
  },
  {
   "cell_type": "code",
   "execution_count": 17,
   "metadata": {
    "colab": {
     "base_uri": "https://localhost:8080/"
    },
    "id": "LUfu8FPaGWKo",
    "outputId": "081f8378-2742-41e6-e896-44cdccede0f6"
   },
   "outputs": [
    {
     "data": {
      "text/plain": [
       "id        0\n",
       "gender    0\n",
       "age       0\n",
       "topic     0\n",
       "sign      0\n",
       "date      0\n",
       "text      0\n",
       "dtype: int64"
      ]
     },
     "execution_count": 17,
     "metadata": {},
     "output_type": "execute_result"
    }
   ],
   "source": [
    "#chceck for na values\n",
    "blog_df.isna().sum()"
   ]
  },
  {
   "cell_type": "code",
   "execution_count": 18,
   "metadata": {
    "colab": {
     "base_uri": "https://localhost:8080/"
    },
    "id": "DzV3szeaGvIV",
    "outputId": "87fe2a8e-d14d-455b-e6c9-c976bef1f757"
   },
   "outputs": [
    {
     "data": {
      "text/plain": [
       "id        0\n",
       "gender    0\n",
       "age       0\n",
       "topic     0\n",
       "sign      0\n",
       "date      0\n",
       "text      0\n",
       "dtype: int64"
      ]
     },
     "execution_count": 18,
     "metadata": {},
     "output_type": "execute_result"
    }
   ],
   "source": [
    "#chceck for null values\n",
    "blog_df.isnull().sum()"
   ]
  },
  {
   "cell_type": "markdown",
   "metadata": {
    "id": "I-plbuiWG0fX"
   },
   "source": [
    "**ii. Eliminate Non-English textual data.**"
   ]
  },
  {
   "cell_type": "code",
   "execution_count": 19,
   "metadata": {
    "id": "DXX0DFdmG5ko"
   },
   "outputs": [],
   "source": [
    "def detect_english(text):\n",
    "  try:\n",
    "    return detect(text) == 'en'\n",
    "  except:\n",
    "    return False"
   ]
  },
  {
   "cell_type": "code",
   "execution_count": 20,
   "metadata": {
    "id": "4Sx5AT9_SaPy"
   },
   "outputs": [],
   "source": [
    "blog_df = blog_df[blog_df['text'].apply(detect_english)]\n"
   ]
  },
  {
   "cell_type": "code",
   "execution_count": 21,
   "metadata": {
    "colab": {
     "base_uri": "https://localhost:8080/"
    },
    "id": "Fbo8iIU_WyH1",
    "outputId": "b0633d59-7692-43a8-9020-0fa2446bbbad"
   },
   "outputs": [
    {
     "data": {
      "text/plain": [
       "(2820, 7)"
      ]
     },
     "execution_count": 21,
     "metadata": {},
     "output_type": "execute_result"
    }
   ],
   "source": [
    "blog_df.shape"
   ]
  },
  {
   "cell_type": "code",
   "execution_count": 22,
   "metadata": {
    "colab": {
     "base_uri": "https://localhost:8080/"
    },
    "id": "I9Z85Q0kXPie",
    "outputId": "604a13ab-0f6a-4752-a102-9e5510c62106"
   },
   "outputs": [
    {
     "data": {
      "text/plain": [
       "male      2113\n",
       "female     707\n",
       "Name: gender, dtype: int64"
      ]
     },
     "execution_count": 22,
     "metadata": {},
     "output_type": "execute_result"
    }
   ],
   "source": [
    "blog_df.gender.value_counts()"
   ]
  },
  {
   "cell_type": "code",
   "execution_count": 23,
   "metadata": {
    "colab": {
     "base_uri": "https://localhost:8080/",
     "height": 424
    },
    "id": "EAi0vOreV1Qm",
    "outputId": "85880c5e-2134-4c4c-e1b2-14408f451abd"
   },
   "outputs": [
    {
     "data": {
      "text/html": [
       "\n",
       "  <div id=\"df-30567bc1-885b-411a-9ed9-336839f6ac54\">\n",
       "    <div class=\"colab-df-container\">\n",
       "      <div>\n",
       "<style scoped>\n",
       "    .dataframe tbody tr th:only-of-type {\n",
       "        vertical-align: middle;\n",
       "    }\n",
       "\n",
       "    .dataframe tbody tr th {\n",
       "        vertical-align: top;\n",
       "    }\n",
       "\n",
       "    .dataframe thead th {\n",
       "        text-align: right;\n",
       "    }\n",
       "</style>\n",
       "<table border=\"1\" class=\"dataframe\">\n",
       "  <thead>\n",
       "    <tr style=\"text-align: right;\">\n",
       "      <th></th>\n",
       "      <th>id</th>\n",
       "      <th>gender</th>\n",
       "      <th>age</th>\n",
       "      <th>topic</th>\n",
       "      <th>sign</th>\n",
       "      <th>date</th>\n",
       "      <th>text</th>\n",
       "    </tr>\n",
       "  </thead>\n",
       "  <tbody>\n",
       "    <tr>\n",
       "      <th>0</th>\n",
       "      <td>2059027</td>\n",
       "      <td>male</td>\n",
       "      <td>15</td>\n",
       "      <td>Student</td>\n",
       "      <td>Leo</td>\n",
       "      <td>14,May,2004</td>\n",
       "      <td>Info has been found (+/- 100 pages,...</td>\n",
       "    </tr>\n",
       "    <tr>\n",
       "      <th>1</th>\n",
       "      <td>2059027</td>\n",
       "      <td>male</td>\n",
       "      <td>15</td>\n",
       "      <td>Student</td>\n",
       "      <td>Leo</td>\n",
       "      <td>13,May,2004</td>\n",
       "      <td>These are the team members:   Drewe...</td>\n",
       "    </tr>\n",
       "    <tr>\n",
       "      <th>2</th>\n",
       "      <td>2059027</td>\n",
       "      <td>male</td>\n",
       "      <td>15</td>\n",
       "      <td>Student</td>\n",
       "      <td>Leo</td>\n",
       "      <td>12,May,2004</td>\n",
       "      <td>In het kader van kernfusie op aarde...</td>\n",
       "    </tr>\n",
       "    <tr>\n",
       "      <th>3</th>\n",
       "      <td>2059027</td>\n",
       "      <td>male</td>\n",
       "      <td>15</td>\n",
       "      <td>Student</td>\n",
       "      <td>Leo</td>\n",
       "      <td>12,May,2004</td>\n",
       "      <td>testing!!!  testing!!!</td>\n",
       "    </tr>\n",
       "    <tr>\n",
       "      <th>4</th>\n",
       "      <td>3581210</td>\n",
       "      <td>male</td>\n",
       "      <td>33</td>\n",
       "      <td>InvestmentBanking</td>\n",
       "      <td>Aquarius</td>\n",
       "      <td>11,June,2004</td>\n",
       "      <td>Thanks to Yahoo!'s Toolbar I can ...</td>\n",
       "    </tr>\n",
       "    <tr>\n",
       "      <th>...</th>\n",
       "      <td>...</td>\n",
       "      <td>...</td>\n",
       "      <td>...</td>\n",
       "      <td>...</td>\n",
       "      <td>...</td>\n",
       "      <td>...</td>\n",
       "      <td>...</td>\n",
       "    </tr>\n",
       "    <tr>\n",
       "      <th>2994</th>\n",
       "      <td>589736</td>\n",
       "      <td>male</td>\n",
       "      <td>35</td>\n",
       "      <td>Technology</td>\n",
       "      <td>Aries</td>\n",
       "      <td>05,August,2004</td>\n",
       "      <td>hey, how is everyone doing?  i want...</td>\n",
       "    </tr>\n",
       "    <tr>\n",
       "      <th>2995</th>\n",
       "      <td>589736</td>\n",
       "      <td>male</td>\n",
       "      <td>35</td>\n",
       "      <td>Technology</td>\n",
       "      <td>Aries</td>\n",
       "      <td>05,August,2004</td>\n",
       "      <td>but that zoo exhibit thing was much...</td>\n",
       "    </tr>\n",
       "    <tr>\n",
       "      <th>2996</th>\n",
       "      <td>589736</td>\n",
       "      <td>male</td>\n",
       "      <td>35</td>\n",
       "      <td>Technology</td>\n",
       "      <td>Aries</td>\n",
       "      <td>05,August,2004</td>\n",
       "      <td>my fave song for the day: Aimee Man...</td>\n",
       "    </tr>\n",
       "    <tr>\n",
       "      <th>2998</th>\n",
       "      <td>589736</td>\n",
       "      <td>male</td>\n",
       "      <td>35</td>\n",
       "      <td>Technology</td>\n",
       "      <td>Aries</td>\n",
       "      <td>05,August,2004</td>\n",
       "      <td>'The less one makes declaritive sta...</td>\n",
       "    </tr>\n",
       "    <tr>\n",
       "      <th>2999</th>\n",
       "      <td>589736</td>\n",
       "      <td>male</td>\n",
       "      <td>35</td>\n",
       "      <td>Technology</td>\n",
       "      <td>Aries</td>\n",
       "      <td>05,August,2004</td>\n",
       "      <td>While his status as a media persona...</td>\n",
       "    </tr>\n",
       "  </tbody>\n",
       "</table>\n",
       "<p>2820 rows × 7 columns</p>\n",
       "</div>\n",
       "      <button class=\"colab-df-convert\" onclick=\"convertToInteractive('df-30567bc1-885b-411a-9ed9-336839f6ac54')\"\n",
       "              title=\"Convert this dataframe to an interactive table.\"\n",
       "              style=\"display:none;\">\n",
       "        \n",
       "  <svg xmlns=\"http://www.w3.org/2000/svg\" height=\"24px\"viewBox=\"0 0 24 24\"\n",
       "       width=\"24px\">\n",
       "    <path d=\"M0 0h24v24H0V0z\" fill=\"none\"/>\n",
       "    <path d=\"M18.56 5.44l.94 2.06.94-2.06 2.06-.94-2.06-.94-.94-2.06-.94 2.06-2.06.94zm-11 1L8.5 8.5l.94-2.06 2.06-.94-2.06-.94L8.5 2.5l-.94 2.06-2.06.94zm10 10l.94 2.06.94-2.06 2.06-.94-2.06-.94-.94-2.06-.94 2.06-2.06.94z\"/><path d=\"M17.41 7.96l-1.37-1.37c-.4-.4-.92-.59-1.43-.59-.52 0-1.04.2-1.43.59L10.3 9.45l-7.72 7.72c-.78.78-.78 2.05 0 2.83L4 21.41c.39.39.9.59 1.41.59.51 0 1.02-.2 1.41-.59l7.78-7.78 2.81-2.81c.8-.78.8-2.07 0-2.86zM5.41 20L4 18.59l7.72-7.72 1.47 1.35L5.41 20z\"/>\n",
       "  </svg>\n",
       "      </button>\n",
       "      \n",
       "  <style>\n",
       "    .colab-df-container {\n",
       "      display:flex;\n",
       "      flex-wrap:wrap;\n",
       "      gap: 12px;\n",
       "    }\n",
       "\n",
       "    .colab-df-convert {\n",
       "      background-color: #E8F0FE;\n",
       "      border: none;\n",
       "      border-radius: 50%;\n",
       "      cursor: pointer;\n",
       "      display: none;\n",
       "      fill: #1967D2;\n",
       "      height: 32px;\n",
       "      padding: 0 0 0 0;\n",
       "      width: 32px;\n",
       "    }\n",
       "\n",
       "    .colab-df-convert:hover {\n",
       "      background-color: #E2EBFA;\n",
       "      box-shadow: 0px 1px 2px rgba(60, 64, 67, 0.3), 0px 1px 3px 1px rgba(60, 64, 67, 0.15);\n",
       "      fill: #174EA6;\n",
       "    }\n",
       "\n",
       "    [theme=dark] .colab-df-convert {\n",
       "      background-color: #3B4455;\n",
       "      fill: #D2E3FC;\n",
       "    }\n",
       "\n",
       "    [theme=dark] .colab-df-convert:hover {\n",
       "      background-color: #434B5C;\n",
       "      box-shadow: 0px 1px 3px 1px rgba(0, 0, 0, 0.15);\n",
       "      filter: drop-shadow(0px 1px 2px rgba(0, 0, 0, 0.3));\n",
       "      fill: #FFFFFF;\n",
       "    }\n",
       "  </style>\n",
       "\n",
       "      <script>\n",
       "        const buttonEl =\n",
       "          document.querySelector('#df-30567bc1-885b-411a-9ed9-336839f6ac54 button.colab-df-convert');\n",
       "        buttonEl.style.display =\n",
       "          google.colab.kernel.accessAllowed ? 'block' : 'none';\n",
       "\n",
       "        async function convertToInteractive(key) {\n",
       "          const element = document.querySelector('#df-30567bc1-885b-411a-9ed9-336839f6ac54');\n",
       "          const dataTable =\n",
       "            await google.colab.kernel.invokeFunction('convertToInteractive',\n",
       "                                                     [key], {});\n",
       "          if (!dataTable) return;\n",
       "\n",
       "          const docLinkHtml = 'Like what you see? Visit the ' +\n",
       "            '<a target=\"_blank\" href=https://colab.research.google.com/notebooks/data_table.ipynb>data table notebook</a>'\n",
       "            + ' to learn more about interactive tables.';\n",
       "          element.innerHTML = '';\n",
       "          dataTable['output_type'] = 'display_data';\n",
       "          await google.colab.output.renderOutput(dataTable, element);\n",
       "          const docLink = document.createElement('div');\n",
       "          docLink.innerHTML = docLinkHtml;\n",
       "          element.appendChild(docLink);\n",
       "        }\n",
       "      </script>\n",
       "    </div>\n",
       "  </div>\n",
       "  "
      ],
      "text/plain": [
       "           id gender  age              topic      sign            date  \\\n",
       "0     2059027   male   15            Student       Leo     14,May,2004   \n",
       "1     2059027   male   15            Student       Leo     13,May,2004   \n",
       "2     2059027   male   15            Student       Leo     12,May,2004   \n",
       "3     2059027   male   15            Student       Leo     12,May,2004   \n",
       "4     3581210   male   33  InvestmentBanking  Aquarius    11,June,2004   \n",
       "...       ...    ...  ...                ...       ...             ...   \n",
       "2994   589736   male   35         Technology     Aries  05,August,2004   \n",
       "2995   589736   male   35         Technology     Aries  05,August,2004   \n",
       "2996   589736   male   35         Technology     Aries  05,August,2004   \n",
       "2998   589736   male   35         Technology     Aries  05,August,2004   \n",
       "2999   589736   male   35         Technology     Aries  05,August,2004   \n",
       "\n",
       "                                                   text  \n",
       "0                Info has been found (+/- 100 pages,...  \n",
       "1                These are the team members:   Drewe...  \n",
       "2                In het kader van kernfusie op aarde...  \n",
       "3                      testing!!!  testing!!!            \n",
       "4                  Thanks to Yahoo!'s Toolbar I can ...  \n",
       "...                                                 ...  \n",
       "2994             hey, how is everyone doing?  i want...  \n",
       "2995             but that zoo exhibit thing was much...  \n",
       "2996             my fave song for the day: Aimee Man...  \n",
       "2998             'The less one makes declaritive sta...  \n",
       "2999             While his status as a media persona...  \n",
       "\n",
       "[2820 rows x 7 columns]"
      ]
     },
     "execution_count": 23,
     "metadata": {},
     "output_type": "execute_result"
    }
   ],
   "source": [
    "blog_df"
   ]
  },
  {
   "cell_type": "markdown",
   "metadata": {
    "id": "atSg3qOXYxnc"
   },
   "source": [
    "## 2. Preprocess unstructured data to make it consumable for model training."
   ]
  },
  {
   "cell_type": "markdown",
   "metadata": {
    "id": "IOo_sOYLY17n"
   },
   "source": [
    "### A. Eliminate All special Characters and Numbers"
   ]
  },
  {
   "cell_type": "code",
   "execution_count": 24,
   "metadata": {
    "id": "T2AzuNIpfdtr"
   },
   "outputs": [],
   "source": [
    "# Select only alphabets\n",
    "import re\n",
    "blog_df.text = blog_df.text.apply(lambda x: re.sub('[^A-Za-z]+', ' ', x))"
   ]
  },
  {
   "cell_type": "markdown",
   "metadata": {
    "id": "MczXFgWSfmi_"
   },
   "source": [
    "### B. Lowercase all textual data"
   ]
  },
  {
   "cell_type": "code",
   "execution_count": 25,
   "metadata": {
    "id": "tpaTq6S2fo8R"
   },
   "outputs": [],
   "source": [
    "blog_df.text = blog_df.text.apply(lambda x: x.lower())"
   ]
  },
  {
   "cell_type": "markdown",
   "metadata": {
    "id": "wY1KE8Sugpx3"
   },
   "source": [
    "### C. Remove all Stopwords"
   ]
  },
  {
   "cell_type": "code",
   "execution_count": 26,
   "metadata": {
    "colab": {
     "base_uri": "https://localhost:8080/"
    },
    "id": "TaR1jgjBgswG",
    "outputId": "a79790f4-82f2-4102-b670-3ca90abbe8f8"
   },
   "outputs": [
    {
     "name": "stdout",
     "output_type": "stream",
     "text": [
      "[nltk_data] Downloading package stopwords to /root/nltk_data...\n",
      "[nltk_data]   Unzipping corpora/stopwords.zip.\n"
     ]
    }
   ],
   "source": [
    "import nltk\n",
    "nltk.download('stopwords')\n",
    "from nltk.corpus import stopwords\n",
    "stopwords=set(stopwords.words('english'))\n",
    "blog_df.text = blog_df.text.apply(lambda x: ' '.join([word for word in x.split() if word not in stopwords]))"
   ]
  },
  {
   "cell_type": "markdown",
   "metadata": {
    "id": "1-ulnSQNiHPe"
   },
   "source": [
    "### D. Remove all extra white spaces"
   ]
  },
  {
   "cell_type": "code",
   "execution_count": 27,
   "metadata": {
    "id": "xbsgsDxviKsS"
   },
   "outputs": [],
   "source": [
    "blog_df.text = blog_df.text.apply(lambda s: s.strip())"
   ]
  },
  {
   "cell_type": "code",
   "execution_count": 28,
   "metadata": {
    "colab": {
     "base_uri": "https://localhost:8080/",
     "height": 206
    },
    "id": "Q5vqd3m9iPOi",
    "outputId": "e86ee304-ae3c-4b94-f9de-9c904d3be379"
   },
   "outputs": [
    {
     "data": {
      "text/html": [
       "\n",
       "  <div id=\"df-b3f0f204-dda5-49ea-9292-6cddd9983736\">\n",
       "    <div class=\"colab-df-container\">\n",
       "      <div>\n",
       "<style scoped>\n",
       "    .dataframe tbody tr th:only-of-type {\n",
       "        vertical-align: middle;\n",
       "    }\n",
       "\n",
       "    .dataframe tbody tr th {\n",
       "        vertical-align: top;\n",
       "    }\n",
       "\n",
       "    .dataframe thead th {\n",
       "        text-align: right;\n",
       "    }\n",
       "</style>\n",
       "<table border=\"1\" class=\"dataframe\">\n",
       "  <thead>\n",
       "    <tr style=\"text-align: right;\">\n",
       "      <th></th>\n",
       "      <th>id</th>\n",
       "      <th>gender</th>\n",
       "      <th>age</th>\n",
       "      <th>topic</th>\n",
       "      <th>sign</th>\n",
       "      <th>date</th>\n",
       "      <th>text</th>\n",
       "    </tr>\n",
       "  </thead>\n",
       "  <tbody>\n",
       "    <tr>\n",
       "      <th>0</th>\n",
       "      <td>2059027</td>\n",
       "      <td>male</td>\n",
       "      <td>15</td>\n",
       "      <td>Student</td>\n",
       "      <td>Leo</td>\n",
       "      <td>14,May,2004</td>\n",
       "      <td>info found pages mb pdf files wait untill team...</td>\n",
       "    </tr>\n",
       "    <tr>\n",
       "      <th>1</th>\n",
       "      <td>2059027</td>\n",
       "      <td>male</td>\n",
       "      <td>15</td>\n",
       "      <td>Student</td>\n",
       "      <td>Leo</td>\n",
       "      <td>13,May,2004</td>\n",
       "      <td>team members drewes van der laag urllink mail ...</td>\n",
       "    </tr>\n",
       "    <tr>\n",
       "      <th>2</th>\n",
       "      <td>2059027</td>\n",
       "      <td>male</td>\n",
       "      <td>15</td>\n",
       "      <td>Student</td>\n",
       "      <td>Leo</td>\n",
       "      <td>12,May,2004</td>\n",
       "      <td>het kader van kernfusie op aarde maak je eigen...</td>\n",
       "    </tr>\n",
       "    <tr>\n",
       "      <th>3</th>\n",
       "      <td>2059027</td>\n",
       "      <td>male</td>\n",
       "      <td>15</td>\n",
       "      <td>Student</td>\n",
       "      <td>Leo</td>\n",
       "      <td>12,May,2004</td>\n",
       "      <td>testing testing</td>\n",
       "    </tr>\n",
       "    <tr>\n",
       "      <th>4</th>\n",
       "      <td>3581210</td>\n",
       "      <td>male</td>\n",
       "      <td>33</td>\n",
       "      <td>InvestmentBanking</td>\n",
       "      <td>Aquarius</td>\n",
       "      <td>11,June,2004</td>\n",
       "      <td>thanks yahoo toolbar capture urls popups means...</td>\n",
       "    </tr>\n",
       "  </tbody>\n",
       "</table>\n",
       "</div>\n",
       "      <button class=\"colab-df-convert\" onclick=\"convertToInteractive('df-b3f0f204-dda5-49ea-9292-6cddd9983736')\"\n",
       "              title=\"Convert this dataframe to an interactive table.\"\n",
       "              style=\"display:none;\">\n",
       "        \n",
       "  <svg xmlns=\"http://www.w3.org/2000/svg\" height=\"24px\"viewBox=\"0 0 24 24\"\n",
       "       width=\"24px\">\n",
       "    <path d=\"M0 0h24v24H0V0z\" fill=\"none\"/>\n",
       "    <path d=\"M18.56 5.44l.94 2.06.94-2.06 2.06-.94-2.06-.94-.94-2.06-.94 2.06-2.06.94zm-11 1L8.5 8.5l.94-2.06 2.06-.94-2.06-.94L8.5 2.5l-.94 2.06-2.06.94zm10 10l.94 2.06.94-2.06 2.06-.94-2.06-.94-.94-2.06-.94 2.06-2.06.94z\"/><path d=\"M17.41 7.96l-1.37-1.37c-.4-.4-.92-.59-1.43-.59-.52 0-1.04.2-1.43.59L10.3 9.45l-7.72 7.72c-.78.78-.78 2.05 0 2.83L4 21.41c.39.39.9.59 1.41.59.51 0 1.02-.2 1.41-.59l7.78-7.78 2.81-2.81c.8-.78.8-2.07 0-2.86zM5.41 20L4 18.59l7.72-7.72 1.47 1.35L5.41 20z\"/>\n",
       "  </svg>\n",
       "      </button>\n",
       "      \n",
       "  <style>\n",
       "    .colab-df-container {\n",
       "      display:flex;\n",
       "      flex-wrap:wrap;\n",
       "      gap: 12px;\n",
       "    }\n",
       "\n",
       "    .colab-df-convert {\n",
       "      background-color: #E8F0FE;\n",
       "      border: none;\n",
       "      border-radius: 50%;\n",
       "      cursor: pointer;\n",
       "      display: none;\n",
       "      fill: #1967D2;\n",
       "      height: 32px;\n",
       "      padding: 0 0 0 0;\n",
       "      width: 32px;\n",
       "    }\n",
       "\n",
       "    .colab-df-convert:hover {\n",
       "      background-color: #E2EBFA;\n",
       "      box-shadow: 0px 1px 2px rgba(60, 64, 67, 0.3), 0px 1px 3px 1px rgba(60, 64, 67, 0.15);\n",
       "      fill: #174EA6;\n",
       "    }\n",
       "\n",
       "    [theme=dark] .colab-df-convert {\n",
       "      background-color: #3B4455;\n",
       "      fill: #D2E3FC;\n",
       "    }\n",
       "\n",
       "    [theme=dark] .colab-df-convert:hover {\n",
       "      background-color: #434B5C;\n",
       "      box-shadow: 0px 1px 3px 1px rgba(0, 0, 0, 0.15);\n",
       "      filter: drop-shadow(0px 1px 2px rgba(0, 0, 0, 0.3));\n",
       "      fill: #FFFFFF;\n",
       "    }\n",
       "  </style>\n",
       "\n",
       "      <script>\n",
       "        const buttonEl =\n",
       "          document.querySelector('#df-b3f0f204-dda5-49ea-9292-6cddd9983736 button.colab-df-convert');\n",
       "        buttonEl.style.display =\n",
       "          google.colab.kernel.accessAllowed ? 'block' : 'none';\n",
       "\n",
       "        async function convertToInteractive(key) {\n",
       "          const element = document.querySelector('#df-b3f0f204-dda5-49ea-9292-6cddd9983736');\n",
       "          const dataTable =\n",
       "            await google.colab.kernel.invokeFunction('convertToInteractive',\n",
       "                                                     [key], {});\n",
       "          if (!dataTable) return;\n",
       "\n",
       "          const docLinkHtml = 'Like what you see? Visit the ' +\n",
       "            '<a target=\"_blank\" href=https://colab.research.google.com/notebooks/data_table.ipynb>data table notebook</a>'\n",
       "            + ' to learn more about interactive tables.';\n",
       "          element.innerHTML = '';\n",
       "          dataTable['output_type'] = 'display_data';\n",
       "          await google.colab.output.renderOutput(dataTable, element);\n",
       "          const docLink = document.createElement('div');\n",
       "          docLink.innerHTML = docLinkHtml;\n",
       "          element.appendChild(docLink);\n",
       "        }\n",
       "      </script>\n",
       "    </div>\n",
       "  </div>\n",
       "  "
      ],
      "text/plain": [
       "        id gender  age              topic      sign          date  \\\n",
       "0  2059027   male   15            Student       Leo   14,May,2004   \n",
       "1  2059027   male   15            Student       Leo   13,May,2004   \n",
       "2  2059027   male   15            Student       Leo   12,May,2004   \n",
       "3  2059027   male   15            Student       Leo   12,May,2004   \n",
       "4  3581210   male   33  InvestmentBanking  Aquarius  11,June,2004   \n",
       "\n",
       "                                                text  \n",
       "0  info found pages mb pdf files wait untill team...  \n",
       "1  team members drewes van der laag urllink mail ...  \n",
       "2  het kader van kernfusie op aarde maak je eigen...  \n",
       "3                                    testing testing  \n",
       "4  thanks yahoo toolbar capture urls popups means...  "
      ]
     },
     "execution_count": 28,
     "metadata": {},
     "output_type": "execute_result"
    }
   ],
   "source": [
    "blog_df.head()"
   ]
  },
  {
   "cell_type": "code",
   "execution_count": 29,
   "metadata": {
    "id": "BuBVOLqJqARu"
   },
   "outputs": [],
   "source": [
    "blog_df.reset_index(inplace= True, drop= True)"
   ]
  },
  {
   "cell_type": "code",
   "execution_count": 30,
   "metadata": {
    "colab": {
     "base_uri": "https://localhost:8080/",
     "height": 424
    },
    "id": "UhGOJpU3qhP-",
    "outputId": "f4d2e85f-691b-4301-9c68-68e5f1d11812"
   },
   "outputs": [
    {
     "data": {
      "text/html": [
       "\n",
       "  <div id=\"df-59425dc5-673a-4557-9836-3c626ba51ed9\">\n",
       "    <div class=\"colab-df-container\">\n",
       "      <div>\n",
       "<style scoped>\n",
       "    .dataframe tbody tr th:only-of-type {\n",
       "        vertical-align: middle;\n",
       "    }\n",
       "\n",
       "    .dataframe tbody tr th {\n",
       "        vertical-align: top;\n",
       "    }\n",
       "\n",
       "    .dataframe thead th {\n",
       "        text-align: right;\n",
       "    }\n",
       "</style>\n",
       "<table border=\"1\" class=\"dataframe\">\n",
       "  <thead>\n",
       "    <tr style=\"text-align: right;\">\n",
       "      <th></th>\n",
       "      <th>id</th>\n",
       "      <th>gender</th>\n",
       "      <th>age</th>\n",
       "      <th>topic</th>\n",
       "      <th>sign</th>\n",
       "      <th>date</th>\n",
       "      <th>text</th>\n",
       "    </tr>\n",
       "  </thead>\n",
       "  <tbody>\n",
       "    <tr>\n",
       "      <th>0</th>\n",
       "      <td>2059027</td>\n",
       "      <td>male</td>\n",
       "      <td>15</td>\n",
       "      <td>Student</td>\n",
       "      <td>Leo</td>\n",
       "      <td>14,May,2004</td>\n",
       "      <td>info found pages mb pdf files wait untill team...</td>\n",
       "    </tr>\n",
       "    <tr>\n",
       "      <th>1</th>\n",
       "      <td>2059027</td>\n",
       "      <td>male</td>\n",
       "      <td>15</td>\n",
       "      <td>Student</td>\n",
       "      <td>Leo</td>\n",
       "      <td>13,May,2004</td>\n",
       "      <td>team members drewes van der laag urllink mail ...</td>\n",
       "    </tr>\n",
       "    <tr>\n",
       "      <th>2</th>\n",
       "      <td>2059027</td>\n",
       "      <td>male</td>\n",
       "      <td>15</td>\n",
       "      <td>Student</td>\n",
       "      <td>Leo</td>\n",
       "      <td>12,May,2004</td>\n",
       "      <td>het kader van kernfusie op aarde maak je eigen...</td>\n",
       "    </tr>\n",
       "    <tr>\n",
       "      <th>3</th>\n",
       "      <td>2059027</td>\n",
       "      <td>male</td>\n",
       "      <td>15</td>\n",
       "      <td>Student</td>\n",
       "      <td>Leo</td>\n",
       "      <td>12,May,2004</td>\n",
       "      <td>testing testing</td>\n",
       "    </tr>\n",
       "    <tr>\n",
       "      <th>4</th>\n",
       "      <td>3581210</td>\n",
       "      <td>male</td>\n",
       "      <td>33</td>\n",
       "      <td>InvestmentBanking</td>\n",
       "      <td>Aquarius</td>\n",
       "      <td>11,June,2004</td>\n",
       "      <td>thanks yahoo toolbar capture urls popups means...</td>\n",
       "    </tr>\n",
       "    <tr>\n",
       "      <th>...</th>\n",
       "      <td>...</td>\n",
       "      <td>...</td>\n",
       "      <td>...</td>\n",
       "      <td>...</td>\n",
       "      <td>...</td>\n",
       "      <td>...</td>\n",
       "      <td>...</td>\n",
       "    </tr>\n",
       "    <tr>\n",
       "      <th>2815</th>\n",
       "      <td>589736</td>\n",
       "      <td>male</td>\n",
       "      <td>35</td>\n",
       "      <td>Technology</td>\n",
       "      <td>Aries</td>\n",
       "      <td>05,August,2004</td>\n",
       "      <td>hey everyone want go game still looking job st...</td>\n",
       "    </tr>\n",
       "    <tr>\n",
       "      <th>2816</th>\n",
       "      <td>589736</td>\n",
       "      <td>male</td>\n",
       "      <td>35</td>\n",
       "      <td>Technology</td>\n",
       "      <td>Aries</td>\n",
       "      <td>05,August,2004</td>\n",
       "      <td>zoo exhibit thing mucho mucho funny</td>\n",
       "    </tr>\n",
       "    <tr>\n",
       "      <th>2817</th>\n",
       "      <td>589736</td>\n",
       "      <td>male</td>\n",
       "      <td>35</td>\n",
       "      <td>Technology</td>\n",
       "      <td>Aries</td>\n",
       "      <td>05,August,2004</td>\n",
       "      <td>fave song day aimee mann pavlov bell album los...</td>\n",
       "    </tr>\n",
       "    <tr>\n",
       "      <th>2818</th>\n",
       "      <td>589736</td>\n",
       "      <td>male</td>\n",
       "      <td>35</td>\n",
       "      <td>Technology</td>\n",
       "      <td>Aries</td>\n",
       "      <td>05,August,2004</td>\n",
       "      <td>less one makes declaritive statements less apt...</td>\n",
       "    </tr>\n",
       "    <tr>\n",
       "      <th>2819</th>\n",
       "      <td>589736</td>\n",
       "      <td>male</td>\n",
       "      <td>35</td>\n",
       "      <td>Technology</td>\n",
       "      <td>Aries</td>\n",
       "      <td>05,August,2004</td>\n",
       "      <td>status media personality arguably changes rule...</td>\n",
       "    </tr>\n",
       "  </tbody>\n",
       "</table>\n",
       "<p>2820 rows × 7 columns</p>\n",
       "</div>\n",
       "      <button class=\"colab-df-convert\" onclick=\"convertToInteractive('df-59425dc5-673a-4557-9836-3c626ba51ed9')\"\n",
       "              title=\"Convert this dataframe to an interactive table.\"\n",
       "              style=\"display:none;\">\n",
       "        \n",
       "  <svg xmlns=\"http://www.w3.org/2000/svg\" height=\"24px\"viewBox=\"0 0 24 24\"\n",
       "       width=\"24px\">\n",
       "    <path d=\"M0 0h24v24H0V0z\" fill=\"none\"/>\n",
       "    <path d=\"M18.56 5.44l.94 2.06.94-2.06 2.06-.94-2.06-.94-.94-2.06-.94 2.06-2.06.94zm-11 1L8.5 8.5l.94-2.06 2.06-.94-2.06-.94L8.5 2.5l-.94 2.06-2.06.94zm10 10l.94 2.06.94-2.06 2.06-.94-2.06-.94-.94-2.06-.94 2.06-2.06.94z\"/><path d=\"M17.41 7.96l-1.37-1.37c-.4-.4-.92-.59-1.43-.59-.52 0-1.04.2-1.43.59L10.3 9.45l-7.72 7.72c-.78.78-.78 2.05 0 2.83L4 21.41c.39.39.9.59 1.41.59.51 0 1.02-.2 1.41-.59l7.78-7.78 2.81-2.81c.8-.78.8-2.07 0-2.86zM5.41 20L4 18.59l7.72-7.72 1.47 1.35L5.41 20z\"/>\n",
       "  </svg>\n",
       "      </button>\n",
       "      \n",
       "  <style>\n",
       "    .colab-df-container {\n",
       "      display:flex;\n",
       "      flex-wrap:wrap;\n",
       "      gap: 12px;\n",
       "    }\n",
       "\n",
       "    .colab-df-convert {\n",
       "      background-color: #E8F0FE;\n",
       "      border: none;\n",
       "      border-radius: 50%;\n",
       "      cursor: pointer;\n",
       "      display: none;\n",
       "      fill: #1967D2;\n",
       "      height: 32px;\n",
       "      padding: 0 0 0 0;\n",
       "      width: 32px;\n",
       "    }\n",
       "\n",
       "    .colab-df-convert:hover {\n",
       "      background-color: #E2EBFA;\n",
       "      box-shadow: 0px 1px 2px rgba(60, 64, 67, 0.3), 0px 1px 3px 1px rgba(60, 64, 67, 0.15);\n",
       "      fill: #174EA6;\n",
       "    }\n",
       "\n",
       "    [theme=dark] .colab-df-convert {\n",
       "      background-color: #3B4455;\n",
       "      fill: #D2E3FC;\n",
       "    }\n",
       "\n",
       "    [theme=dark] .colab-df-convert:hover {\n",
       "      background-color: #434B5C;\n",
       "      box-shadow: 0px 1px 3px 1px rgba(0, 0, 0, 0.15);\n",
       "      filter: drop-shadow(0px 1px 2px rgba(0, 0, 0, 0.3));\n",
       "      fill: #FFFFFF;\n",
       "    }\n",
       "  </style>\n",
       "\n",
       "      <script>\n",
       "        const buttonEl =\n",
       "          document.querySelector('#df-59425dc5-673a-4557-9836-3c626ba51ed9 button.colab-df-convert');\n",
       "        buttonEl.style.display =\n",
       "          google.colab.kernel.accessAllowed ? 'block' : 'none';\n",
       "\n",
       "        async function convertToInteractive(key) {\n",
       "          const element = document.querySelector('#df-59425dc5-673a-4557-9836-3c626ba51ed9');\n",
       "          const dataTable =\n",
       "            await google.colab.kernel.invokeFunction('convertToInteractive',\n",
       "                                                     [key], {});\n",
       "          if (!dataTable) return;\n",
       "\n",
       "          const docLinkHtml = 'Like what you see? Visit the ' +\n",
       "            '<a target=\"_blank\" href=https://colab.research.google.com/notebooks/data_table.ipynb>data table notebook</a>'\n",
       "            + ' to learn more about interactive tables.';\n",
       "          element.innerHTML = '';\n",
       "          dataTable['output_type'] = 'display_data';\n",
       "          await google.colab.output.renderOutput(dataTable, element);\n",
       "          const docLink = document.createElement('div');\n",
       "          docLink.innerHTML = docLinkHtml;\n",
       "          element.appendChild(docLink);\n",
       "        }\n",
       "      </script>\n",
       "    </div>\n",
       "  </div>\n",
       "  "
      ],
      "text/plain": [
       "           id gender  age              topic      sign            date  \\\n",
       "0     2059027   male   15            Student       Leo     14,May,2004   \n",
       "1     2059027   male   15            Student       Leo     13,May,2004   \n",
       "2     2059027   male   15            Student       Leo     12,May,2004   \n",
       "3     2059027   male   15            Student       Leo     12,May,2004   \n",
       "4     3581210   male   33  InvestmentBanking  Aquarius    11,June,2004   \n",
       "...       ...    ...  ...                ...       ...             ...   \n",
       "2815   589736   male   35         Technology     Aries  05,August,2004   \n",
       "2816   589736   male   35         Technology     Aries  05,August,2004   \n",
       "2817   589736   male   35         Technology     Aries  05,August,2004   \n",
       "2818   589736   male   35         Technology     Aries  05,August,2004   \n",
       "2819   589736   male   35         Technology     Aries  05,August,2004   \n",
       "\n",
       "                                                   text  \n",
       "0     info found pages mb pdf files wait untill team...  \n",
       "1     team members drewes van der laag urllink mail ...  \n",
       "2     het kader van kernfusie op aarde maak je eigen...  \n",
       "3                                       testing testing  \n",
       "4     thanks yahoo toolbar capture urls popups means...  \n",
       "...                                                 ...  \n",
       "2815  hey everyone want go game still looking job st...  \n",
       "2816                zoo exhibit thing mucho mucho funny  \n",
       "2817  fave song day aimee mann pavlov bell album los...  \n",
       "2818  less one makes declaritive statements less apt...  \n",
       "2819  status media personality arguably changes rule...  \n",
       "\n",
       "[2820 rows x 7 columns]"
      ]
     },
     "execution_count": 30,
     "metadata": {},
     "output_type": "execute_result"
    }
   ],
   "source": [
    "blog_df"
   ]
  },
  {
   "cell_type": "markdown",
   "metadata": {
    "id": "2WaDdIKluV0x"
   },
   "source": [
    "**Drop unnecessary columns**"
   ]
  },
  {
   "cell_type": "code",
   "execution_count": 31,
   "metadata": {
    "id": "vhkL8MTv2kWg"
   },
   "outputs": [],
   "source": [
    "# drop id and date columns\n",
    "blog_df.drop(labels=['id','date'], axis=1,inplace=True)"
   ]
  },
  {
   "cell_type": "code",
   "execution_count": 32,
   "metadata": {
    "colab": {
     "base_uri": "https://localhost:8080/",
     "height": 206
    },
    "id": "Dy8KxU6L2lWS",
    "outputId": "5e454bc9-22b4-4f25-eca4-fac325ff9f04"
   },
   "outputs": [
    {
     "data": {
      "text/html": [
       "\n",
       "  <div id=\"df-f1712659-0629-419c-bf25-19c16d599942\">\n",
       "    <div class=\"colab-df-container\">\n",
       "      <div>\n",
       "<style scoped>\n",
       "    .dataframe tbody tr th:only-of-type {\n",
       "        vertical-align: middle;\n",
       "    }\n",
       "\n",
       "    .dataframe tbody tr th {\n",
       "        vertical-align: top;\n",
       "    }\n",
       "\n",
       "    .dataframe thead th {\n",
       "        text-align: right;\n",
       "    }\n",
       "</style>\n",
       "<table border=\"1\" class=\"dataframe\">\n",
       "  <thead>\n",
       "    <tr style=\"text-align: right;\">\n",
       "      <th></th>\n",
       "      <th>gender</th>\n",
       "      <th>age</th>\n",
       "      <th>topic</th>\n",
       "      <th>sign</th>\n",
       "      <th>text</th>\n",
       "    </tr>\n",
       "  </thead>\n",
       "  <tbody>\n",
       "    <tr>\n",
       "      <th>0</th>\n",
       "      <td>male</td>\n",
       "      <td>15</td>\n",
       "      <td>Student</td>\n",
       "      <td>Leo</td>\n",
       "      <td>info found pages mb pdf files wait untill team...</td>\n",
       "    </tr>\n",
       "    <tr>\n",
       "      <th>1</th>\n",
       "      <td>male</td>\n",
       "      <td>15</td>\n",
       "      <td>Student</td>\n",
       "      <td>Leo</td>\n",
       "      <td>team members drewes van der laag urllink mail ...</td>\n",
       "    </tr>\n",
       "    <tr>\n",
       "      <th>2</th>\n",
       "      <td>male</td>\n",
       "      <td>15</td>\n",
       "      <td>Student</td>\n",
       "      <td>Leo</td>\n",
       "      <td>het kader van kernfusie op aarde maak je eigen...</td>\n",
       "    </tr>\n",
       "    <tr>\n",
       "      <th>3</th>\n",
       "      <td>male</td>\n",
       "      <td>15</td>\n",
       "      <td>Student</td>\n",
       "      <td>Leo</td>\n",
       "      <td>testing testing</td>\n",
       "    </tr>\n",
       "    <tr>\n",
       "      <th>4</th>\n",
       "      <td>male</td>\n",
       "      <td>33</td>\n",
       "      <td>InvestmentBanking</td>\n",
       "      <td>Aquarius</td>\n",
       "      <td>thanks yahoo toolbar capture urls popups means...</td>\n",
       "    </tr>\n",
       "  </tbody>\n",
       "</table>\n",
       "</div>\n",
       "      <button class=\"colab-df-convert\" onclick=\"convertToInteractive('df-f1712659-0629-419c-bf25-19c16d599942')\"\n",
       "              title=\"Convert this dataframe to an interactive table.\"\n",
       "              style=\"display:none;\">\n",
       "        \n",
       "  <svg xmlns=\"http://www.w3.org/2000/svg\" height=\"24px\"viewBox=\"0 0 24 24\"\n",
       "       width=\"24px\">\n",
       "    <path d=\"M0 0h24v24H0V0z\" fill=\"none\"/>\n",
       "    <path d=\"M18.56 5.44l.94 2.06.94-2.06 2.06-.94-2.06-.94-.94-2.06-.94 2.06-2.06.94zm-11 1L8.5 8.5l.94-2.06 2.06-.94-2.06-.94L8.5 2.5l-.94 2.06-2.06.94zm10 10l.94 2.06.94-2.06 2.06-.94-2.06-.94-.94-2.06-.94 2.06-2.06.94z\"/><path d=\"M17.41 7.96l-1.37-1.37c-.4-.4-.92-.59-1.43-.59-.52 0-1.04.2-1.43.59L10.3 9.45l-7.72 7.72c-.78.78-.78 2.05 0 2.83L4 21.41c.39.39.9.59 1.41.59.51 0 1.02-.2 1.41-.59l7.78-7.78 2.81-2.81c.8-.78.8-2.07 0-2.86zM5.41 20L4 18.59l7.72-7.72 1.47 1.35L5.41 20z\"/>\n",
       "  </svg>\n",
       "      </button>\n",
       "      \n",
       "  <style>\n",
       "    .colab-df-container {\n",
       "      display:flex;\n",
       "      flex-wrap:wrap;\n",
       "      gap: 12px;\n",
       "    }\n",
       "\n",
       "    .colab-df-convert {\n",
       "      background-color: #E8F0FE;\n",
       "      border: none;\n",
       "      border-radius: 50%;\n",
       "      cursor: pointer;\n",
       "      display: none;\n",
       "      fill: #1967D2;\n",
       "      height: 32px;\n",
       "      padding: 0 0 0 0;\n",
       "      width: 32px;\n",
       "    }\n",
       "\n",
       "    .colab-df-convert:hover {\n",
       "      background-color: #E2EBFA;\n",
       "      box-shadow: 0px 1px 2px rgba(60, 64, 67, 0.3), 0px 1px 3px 1px rgba(60, 64, 67, 0.15);\n",
       "      fill: #174EA6;\n",
       "    }\n",
       "\n",
       "    [theme=dark] .colab-df-convert {\n",
       "      background-color: #3B4455;\n",
       "      fill: #D2E3FC;\n",
       "    }\n",
       "\n",
       "    [theme=dark] .colab-df-convert:hover {\n",
       "      background-color: #434B5C;\n",
       "      box-shadow: 0px 1px 3px 1px rgba(0, 0, 0, 0.15);\n",
       "      filter: drop-shadow(0px 1px 2px rgba(0, 0, 0, 0.3));\n",
       "      fill: #FFFFFF;\n",
       "    }\n",
       "  </style>\n",
       "\n",
       "      <script>\n",
       "        const buttonEl =\n",
       "          document.querySelector('#df-f1712659-0629-419c-bf25-19c16d599942 button.colab-df-convert');\n",
       "        buttonEl.style.display =\n",
       "          google.colab.kernel.accessAllowed ? 'block' : 'none';\n",
       "\n",
       "        async function convertToInteractive(key) {\n",
       "          const element = document.querySelector('#df-f1712659-0629-419c-bf25-19c16d599942');\n",
       "          const dataTable =\n",
       "            await google.colab.kernel.invokeFunction('convertToInteractive',\n",
       "                                                     [key], {});\n",
       "          if (!dataTable) return;\n",
       "\n",
       "          const docLinkHtml = 'Like what you see? Visit the ' +\n",
       "            '<a target=\"_blank\" href=https://colab.research.google.com/notebooks/data_table.ipynb>data table notebook</a>'\n",
       "            + ' to learn more about interactive tables.';\n",
       "          element.innerHTML = '';\n",
       "          dataTable['output_type'] = 'display_data';\n",
       "          await google.colab.output.renderOutput(dataTable, element);\n",
       "          const docLink = document.createElement('div');\n",
       "          docLink.innerHTML = docLinkHtml;\n",
       "          element.appendChild(docLink);\n",
       "        }\n",
       "      </script>\n",
       "    </div>\n",
       "  </div>\n",
       "  "
      ],
      "text/plain": [
       "  gender  age              topic      sign  \\\n",
       "0   male   15            Student       Leo   \n",
       "1   male   15            Student       Leo   \n",
       "2   male   15            Student       Leo   \n",
       "3   male   15            Student       Leo   \n",
       "4   male   33  InvestmentBanking  Aquarius   \n",
       "\n",
       "                                                text  \n",
       "0  info found pages mb pdf files wait untill team...  \n",
       "1  team members drewes van der laag urllink mail ...  \n",
       "2  het kader van kernfusie op aarde maak je eigen...  \n",
       "3                                    testing testing  \n",
       "4  thanks yahoo toolbar capture urls popups means...  "
      ]
     },
     "execution_count": 32,
     "metadata": {},
     "output_type": "execute_result"
    }
   ],
   "source": [
    "blog_df.head()"
   ]
  },
  {
   "cell_type": "markdown",
   "metadata": {
    "id": "_T4AUZ3wlxAh"
   },
   "source": [
    "## 3. Build a base Classification model"
   ]
  },
  {
   "cell_type": "markdown",
   "metadata": {
    "id": "imFTRxl-l1az"
   },
   "source": [
    "### A. Create dependent and independent variables"
   ]
  },
  {
   "cell_type": "code",
   "execution_count": 33,
   "metadata": {
    "colab": {
     "base_uri": "https://localhost:8080/",
     "height": 206
    },
    "id": "SiGwBzm3vton",
    "outputId": "4d99c066-dc32-43c4-a7e3-8aa97d464bb0"
   },
   "outputs": [
    {
     "data": {
      "text/html": [
       "\n",
       "  <div id=\"df-b8e2e184-435c-459c-8414-287a4e708902\">\n",
       "    <div class=\"colab-df-container\">\n",
       "      <div>\n",
       "<style scoped>\n",
       "    .dataframe tbody tr th:only-of-type {\n",
       "        vertical-align: middle;\n",
       "    }\n",
       "\n",
       "    .dataframe tbody tr th {\n",
       "        vertical-align: top;\n",
       "    }\n",
       "\n",
       "    .dataframe thead th {\n",
       "        text-align: right;\n",
       "    }\n",
       "</style>\n",
       "<table border=\"1\" class=\"dataframe\">\n",
       "  <thead>\n",
       "    <tr style=\"text-align: right;\">\n",
       "      <th></th>\n",
       "      <th>gender</th>\n",
       "      <th>age</th>\n",
       "      <th>topic</th>\n",
       "      <th>sign</th>\n",
       "      <th>text</th>\n",
       "    </tr>\n",
       "  </thead>\n",
       "  <tbody>\n",
       "    <tr>\n",
       "      <th>0</th>\n",
       "      <td>male</td>\n",
       "      <td>15</td>\n",
       "      <td>Student</td>\n",
       "      <td>Leo</td>\n",
       "      <td>info found pages mb pdf files wait untill team...</td>\n",
       "    </tr>\n",
       "    <tr>\n",
       "      <th>1</th>\n",
       "      <td>male</td>\n",
       "      <td>15</td>\n",
       "      <td>Student</td>\n",
       "      <td>Leo</td>\n",
       "      <td>team members drewes van der laag urllink mail ...</td>\n",
       "    </tr>\n",
       "    <tr>\n",
       "      <th>2</th>\n",
       "      <td>male</td>\n",
       "      <td>15</td>\n",
       "      <td>Student</td>\n",
       "      <td>Leo</td>\n",
       "      <td>het kader van kernfusie op aarde maak je eigen...</td>\n",
       "    </tr>\n",
       "    <tr>\n",
       "      <th>3</th>\n",
       "      <td>male</td>\n",
       "      <td>15</td>\n",
       "      <td>Student</td>\n",
       "      <td>Leo</td>\n",
       "      <td>testing testing</td>\n",
       "    </tr>\n",
       "    <tr>\n",
       "      <th>4</th>\n",
       "      <td>male</td>\n",
       "      <td>33</td>\n",
       "      <td>InvestmentBanking</td>\n",
       "      <td>Aquarius</td>\n",
       "      <td>thanks yahoo toolbar capture urls popups means...</td>\n",
       "    </tr>\n",
       "  </tbody>\n",
       "</table>\n",
       "</div>\n",
       "      <button class=\"colab-df-convert\" onclick=\"convertToInteractive('df-b8e2e184-435c-459c-8414-287a4e708902')\"\n",
       "              title=\"Convert this dataframe to an interactive table.\"\n",
       "              style=\"display:none;\">\n",
       "        \n",
       "  <svg xmlns=\"http://www.w3.org/2000/svg\" height=\"24px\"viewBox=\"0 0 24 24\"\n",
       "       width=\"24px\">\n",
       "    <path d=\"M0 0h24v24H0V0z\" fill=\"none\"/>\n",
       "    <path d=\"M18.56 5.44l.94 2.06.94-2.06 2.06-.94-2.06-.94-.94-2.06-.94 2.06-2.06.94zm-11 1L8.5 8.5l.94-2.06 2.06-.94-2.06-.94L8.5 2.5l-.94 2.06-2.06.94zm10 10l.94 2.06.94-2.06 2.06-.94-2.06-.94-.94-2.06-.94 2.06-2.06.94z\"/><path d=\"M17.41 7.96l-1.37-1.37c-.4-.4-.92-.59-1.43-.59-.52 0-1.04.2-1.43.59L10.3 9.45l-7.72 7.72c-.78.78-.78 2.05 0 2.83L4 21.41c.39.39.9.59 1.41.59.51 0 1.02-.2 1.41-.59l7.78-7.78 2.81-2.81c.8-.78.8-2.07 0-2.86zM5.41 20L4 18.59l7.72-7.72 1.47 1.35L5.41 20z\"/>\n",
       "  </svg>\n",
       "      </button>\n",
       "      \n",
       "  <style>\n",
       "    .colab-df-container {\n",
       "      display:flex;\n",
       "      flex-wrap:wrap;\n",
       "      gap: 12px;\n",
       "    }\n",
       "\n",
       "    .colab-df-convert {\n",
       "      background-color: #E8F0FE;\n",
       "      border: none;\n",
       "      border-radius: 50%;\n",
       "      cursor: pointer;\n",
       "      display: none;\n",
       "      fill: #1967D2;\n",
       "      height: 32px;\n",
       "      padding: 0 0 0 0;\n",
       "      width: 32px;\n",
       "    }\n",
       "\n",
       "    .colab-df-convert:hover {\n",
       "      background-color: #E2EBFA;\n",
       "      box-shadow: 0px 1px 2px rgba(60, 64, 67, 0.3), 0px 1px 3px 1px rgba(60, 64, 67, 0.15);\n",
       "      fill: #174EA6;\n",
       "    }\n",
       "\n",
       "    [theme=dark] .colab-df-convert {\n",
       "      background-color: #3B4455;\n",
       "      fill: #D2E3FC;\n",
       "    }\n",
       "\n",
       "    [theme=dark] .colab-df-convert:hover {\n",
       "      background-color: #434B5C;\n",
       "      box-shadow: 0px 1px 3px 1px rgba(0, 0, 0, 0.15);\n",
       "      filter: drop-shadow(0px 1px 2px rgba(0, 0, 0, 0.3));\n",
       "      fill: #FFFFFF;\n",
       "    }\n",
       "  </style>\n",
       "\n",
       "      <script>\n",
       "        const buttonEl =\n",
       "          document.querySelector('#df-b8e2e184-435c-459c-8414-287a4e708902 button.colab-df-convert');\n",
       "        buttonEl.style.display =\n",
       "          google.colab.kernel.accessAllowed ? 'block' : 'none';\n",
       "\n",
       "        async function convertToInteractive(key) {\n",
       "          const element = document.querySelector('#df-b8e2e184-435c-459c-8414-287a4e708902');\n",
       "          const dataTable =\n",
       "            await google.colab.kernel.invokeFunction('convertToInteractive',\n",
       "                                                     [key], {});\n",
       "          if (!dataTable) return;\n",
       "\n",
       "          const docLinkHtml = 'Like what you see? Visit the ' +\n",
       "            '<a target=\"_blank\" href=https://colab.research.google.com/notebooks/data_table.ipynb>data table notebook</a>'\n",
       "            + ' to learn more about interactive tables.';\n",
       "          element.innerHTML = '';\n",
       "          dataTable['output_type'] = 'display_data';\n",
       "          await google.colab.output.renderOutput(dataTable, element);\n",
       "          const docLink = document.createElement('div');\n",
       "          docLink.innerHTML = docLinkHtml;\n",
       "          element.appendChild(docLink);\n",
       "        }\n",
       "      </script>\n",
       "    </div>\n",
       "  </div>\n",
       "  "
      ],
      "text/plain": [
       "  gender  age              topic      sign  \\\n",
       "0   male   15            Student       Leo   \n",
       "1   male   15            Student       Leo   \n",
       "2   male   15            Student       Leo   \n",
       "3   male   15            Student       Leo   \n",
       "4   male   33  InvestmentBanking  Aquarius   \n",
       "\n",
       "                                                text  \n",
       "0  info found pages mb pdf files wait untill team...  \n",
       "1  team members drewes van der laag urllink mail ...  \n",
       "2  het kader van kernfusie op aarde maak je eigen...  \n",
       "3                                    testing testing  \n",
       "4  thanks yahoo toolbar capture urls popups means...  "
      ]
     },
     "execution_count": 33,
     "metadata": {},
     "output_type": "execute_result"
    }
   ],
   "source": [
    "blog_df.head()"
   ]
  },
  {
   "cell_type": "code",
   "execution_count": 34,
   "metadata": {
    "id": "J9mnIxzN952Q"
   },
   "outputs": [],
   "source": [
    "#drop  gender,age,topic & sign as they are already merged to labels column\n",
    "blog_df.drop(columns=['gender','age','sign'], axis=1, inplace=True)"
   ]
  },
  {
   "cell_type": "code",
   "execution_count": 35,
   "metadata": {
    "colab": {
     "base_uri": "https://localhost:8080/",
     "height": 206
    },
    "id": "tBhOE9agK_2q",
    "outputId": "b6c73ae3-de25-4bc9-8b6c-ad4e83a100c5"
   },
   "outputs": [
    {
     "data": {
      "text/html": [
       "\n",
       "  <div id=\"df-728782b9-bd8b-45d1-a42a-6547f9fe4eff\">\n",
       "    <div class=\"colab-df-container\">\n",
       "      <div>\n",
       "<style scoped>\n",
       "    .dataframe tbody tr th:only-of-type {\n",
       "        vertical-align: middle;\n",
       "    }\n",
       "\n",
       "    .dataframe tbody tr th {\n",
       "        vertical-align: top;\n",
       "    }\n",
       "\n",
       "    .dataframe thead th {\n",
       "        text-align: right;\n",
       "    }\n",
       "</style>\n",
       "<table border=\"1\" class=\"dataframe\">\n",
       "  <thead>\n",
       "    <tr style=\"text-align: right;\">\n",
       "      <th></th>\n",
       "      <th>topic</th>\n",
       "      <th>text</th>\n",
       "    </tr>\n",
       "  </thead>\n",
       "  <tbody>\n",
       "    <tr>\n",
       "      <th>0</th>\n",
       "      <td>Student</td>\n",
       "      <td>info found pages mb pdf files wait untill team...</td>\n",
       "    </tr>\n",
       "    <tr>\n",
       "      <th>1</th>\n",
       "      <td>Student</td>\n",
       "      <td>team members drewes van der laag urllink mail ...</td>\n",
       "    </tr>\n",
       "    <tr>\n",
       "      <th>2</th>\n",
       "      <td>Student</td>\n",
       "      <td>het kader van kernfusie op aarde maak je eigen...</td>\n",
       "    </tr>\n",
       "    <tr>\n",
       "      <th>3</th>\n",
       "      <td>Student</td>\n",
       "      <td>testing testing</td>\n",
       "    </tr>\n",
       "    <tr>\n",
       "      <th>4</th>\n",
       "      <td>InvestmentBanking</td>\n",
       "      <td>thanks yahoo toolbar capture urls popups means...</td>\n",
       "    </tr>\n",
       "  </tbody>\n",
       "</table>\n",
       "</div>\n",
       "      <button class=\"colab-df-convert\" onclick=\"convertToInteractive('df-728782b9-bd8b-45d1-a42a-6547f9fe4eff')\"\n",
       "              title=\"Convert this dataframe to an interactive table.\"\n",
       "              style=\"display:none;\">\n",
       "        \n",
       "  <svg xmlns=\"http://www.w3.org/2000/svg\" height=\"24px\"viewBox=\"0 0 24 24\"\n",
       "       width=\"24px\">\n",
       "    <path d=\"M0 0h24v24H0V0z\" fill=\"none\"/>\n",
       "    <path d=\"M18.56 5.44l.94 2.06.94-2.06 2.06-.94-2.06-.94-.94-2.06-.94 2.06-2.06.94zm-11 1L8.5 8.5l.94-2.06 2.06-.94-2.06-.94L8.5 2.5l-.94 2.06-2.06.94zm10 10l.94 2.06.94-2.06 2.06-.94-2.06-.94-.94-2.06-.94 2.06-2.06.94z\"/><path d=\"M17.41 7.96l-1.37-1.37c-.4-.4-.92-.59-1.43-.59-.52 0-1.04.2-1.43.59L10.3 9.45l-7.72 7.72c-.78.78-.78 2.05 0 2.83L4 21.41c.39.39.9.59 1.41.59.51 0 1.02-.2 1.41-.59l7.78-7.78 2.81-2.81c.8-.78.8-2.07 0-2.86zM5.41 20L4 18.59l7.72-7.72 1.47 1.35L5.41 20z\"/>\n",
       "  </svg>\n",
       "      </button>\n",
       "      \n",
       "  <style>\n",
       "    .colab-df-container {\n",
       "      display:flex;\n",
       "      flex-wrap:wrap;\n",
       "      gap: 12px;\n",
       "    }\n",
       "\n",
       "    .colab-df-convert {\n",
       "      background-color: #E8F0FE;\n",
       "      border: none;\n",
       "      border-radius: 50%;\n",
       "      cursor: pointer;\n",
       "      display: none;\n",
       "      fill: #1967D2;\n",
       "      height: 32px;\n",
       "      padding: 0 0 0 0;\n",
       "      width: 32px;\n",
       "    }\n",
       "\n",
       "    .colab-df-convert:hover {\n",
       "      background-color: #E2EBFA;\n",
       "      box-shadow: 0px 1px 2px rgba(60, 64, 67, 0.3), 0px 1px 3px 1px rgba(60, 64, 67, 0.15);\n",
       "      fill: #174EA6;\n",
       "    }\n",
       "\n",
       "    [theme=dark] .colab-df-convert {\n",
       "      background-color: #3B4455;\n",
       "      fill: #D2E3FC;\n",
       "    }\n",
       "\n",
       "    [theme=dark] .colab-df-convert:hover {\n",
       "      background-color: #434B5C;\n",
       "      box-shadow: 0px 1px 3px 1px rgba(0, 0, 0, 0.15);\n",
       "      filter: drop-shadow(0px 1px 2px rgba(0, 0, 0, 0.3));\n",
       "      fill: #FFFFFF;\n",
       "    }\n",
       "  </style>\n",
       "\n",
       "      <script>\n",
       "        const buttonEl =\n",
       "          document.querySelector('#df-728782b9-bd8b-45d1-a42a-6547f9fe4eff button.colab-df-convert');\n",
       "        buttonEl.style.display =\n",
       "          google.colab.kernel.accessAllowed ? 'block' : 'none';\n",
       "\n",
       "        async function convertToInteractive(key) {\n",
       "          const element = document.querySelector('#df-728782b9-bd8b-45d1-a42a-6547f9fe4eff');\n",
       "          const dataTable =\n",
       "            await google.colab.kernel.invokeFunction('convertToInteractive',\n",
       "                                                     [key], {});\n",
       "          if (!dataTable) return;\n",
       "\n",
       "          const docLinkHtml = 'Like what you see? Visit the ' +\n",
       "            '<a target=\"_blank\" href=https://colab.research.google.com/notebooks/data_table.ipynb>data table notebook</a>'\n",
       "            + ' to learn more about interactive tables.';\n",
       "          element.innerHTML = '';\n",
       "          dataTable['output_type'] = 'display_data';\n",
       "          await google.colab.output.renderOutput(dataTable, element);\n",
       "          const docLink = document.createElement('div');\n",
       "          docLink.innerHTML = docLinkHtml;\n",
       "          element.appendChild(docLink);\n",
       "        }\n",
       "      </script>\n",
       "    </div>\n",
       "  </div>\n",
       "  "
      ],
      "text/plain": [
       "               topic                                               text\n",
       "0            Student  info found pages mb pdf files wait untill team...\n",
       "1            Student  team members drewes van der laag urllink mail ...\n",
       "2            Student  het kader van kernfusie op aarde maak je eigen...\n",
       "3            Student                                    testing testing\n",
       "4  InvestmentBanking  thanks yahoo toolbar capture urls popups means..."
      ]
     },
     "execution_count": 35,
     "metadata": {},
     "output_type": "execute_result"
    }
   ],
   "source": [
    "blog_df.head()"
   ]
  },
  {
   "cell_type": "code",
   "execution_count": 36,
   "metadata": {
    "id": "u-Xg-bQgg3sW"
   },
   "outputs": [],
   "source": [
    "X= blog_df.text"
   ]
  },
  {
   "cell_type": "code",
   "execution_count": 37,
   "metadata": {
    "id": "Kyrg0j9Sg5EG"
   },
   "outputs": [],
   "source": [
    "y = blog_df.topic"
   ]
  },
  {
   "cell_type": "markdown",
   "metadata": {
    "id": "1-g0aKem97IC"
   },
   "source": [
    "### B. Split data into train and test."
   ]
  },
  {
   "cell_type": "code",
   "execution_count": 38,
   "metadata": {
    "id": "GV3nWi9H99KU"
   },
   "outputs": [],
   "source": [
    "# split X and y into training and testing sets\n",
    "X_train, X_test, y_train, y_test = train_test_split(X,y, random_state=2,test_size = 0.2)"
   ]
  },
  {
   "cell_type": "code",
   "execution_count": 39,
   "metadata": {
    "colab": {
     "base_uri": "https://localhost:8080/"
    },
    "id": "YUy0jOzf-CZu",
    "outputId": "24ba99fc-fea5-45a4-8002-7034411d89bc"
   },
   "outputs": [
    {
     "name": "stdout",
     "output_type": "stream",
     "text": [
      "(2256,)\n",
      "(2256,)\n"
     ]
    }
   ],
   "source": [
    "print(X_train.shape)\n",
    "print(y_train.shape)"
   ]
  },
  {
   "cell_type": "code",
   "execution_count": 40,
   "metadata": {
    "colab": {
     "base_uri": "https://localhost:8080/"
    },
    "id": "yZAuoNKo-Ech",
    "outputId": "a6af51f0-2843-4cc9-e666-8d3f510c5845"
   },
   "outputs": [
    {
     "name": "stdout",
     "output_type": "stream",
     "text": [
      "(564,)\n",
      "(564,)\n"
     ]
    }
   ],
   "source": [
    "print(X_test.shape)\n",
    "print(y_test.shape)"
   ]
  },
  {
   "cell_type": "code",
   "execution_count": 41,
   "metadata": {
    "colab": {
     "base_uri": "https://localhost:8080/"
    },
    "id": "HtXLZzOa-GEE",
    "outputId": "591ca20c-dacd-4c76-bf2c-0114d74560ad"
   },
   "outputs": [
    {
     "data": {
      "text/plain": [
       "1181    cant believe im actually making another online...\n",
       "2020                ees thees say ah yes karl maggie show\n",
       "2628    oh jesus pulled livejournal friend ex boyfr oh...\n",
       "221     urllink church bells rang failures rows empty ...\n",
       "2122    must take issue sweeping statement one cultura...\n",
       "                              ...                        \n",
       "503     remember name remember first time met autism c...\n",
       "1413    going move tree save space sofa going write ma...\n",
       "156     toaster let nature hard work nice crispiness b...\n",
       "807     yeah days since updated lots stuff going thoug...\n",
       "2589    times become hyper aware color wondered colors...\n",
       "Name: text, Length: 564, dtype: object"
      ]
     },
     "execution_count": 41,
     "metadata": {},
     "output_type": "execute_result"
    }
   ],
   "source": [
    "X_test"
   ]
  },
  {
   "cell_type": "code",
   "execution_count": 42,
   "metadata": {
    "colab": {
     "base_uri": "https://localhost:8080/"
    },
    "id": "sKuUaW1hBtot",
    "outputId": "880dc985-d287-489e-bb92-0e0adb4aea9a"
   },
   "outputs": [
    {
     "data": {
      "text/plain": [
       "1181       Student\n",
       "2020    Technology\n",
       "2628    Technology\n",
       "221        Student\n",
       "2122    Technology\n",
       "           ...    \n",
       "503      Education\n",
       "1413    Technology\n",
       "156     Non-Profit\n",
       "807        Student\n",
       "2589    Technology\n",
       "Name: topic, Length: 564, dtype: object"
      ]
     },
     "execution_count": 42,
     "metadata": {},
     "output_type": "execute_result"
    }
   ],
   "source": [
    "y_test"
   ]
  },
  {
   "cell_type": "markdown",
   "metadata": {
    "id": "r34_ys-z-L9o"
   },
   "source": [
    "### C. Vectorize data using any one vectorizer."
   ]
  },
  {
   "cell_type": "markdown",
   "metadata": {
    "id": "q7CpqTiQ-ZPK"
   },
   "source": [
    " **Create a Bag of Words using count vectorizer**\n",
    "\n",
    "**i. Use ngram_range=(1, 2)**\n",
    "\n",
    "**ii. Vectorize training and testing features**"
   ]
  },
  {
   "cell_type": "code",
   "execution_count": 43,
   "metadata": {
    "id": "QkwgLggM-PYu"
   },
   "outputs": [],
   "source": [
    "from sklearn.feature_extraction.text import CountVectorizer\n",
    "\n",
    "vectorizer = CountVectorizer(binary=True, ngram_range=(1, 2))\n",
    "X_train_bow = vectorizer.fit_transform(X_train)\n",
    "X_test_bow = vectorizer.transform(X_test)"
   ]
  },
  {
   "cell_type": "markdown",
   "metadata": {
    "id": "tZx4iAA-KwcC"
   },
   "source": [
    "**Have a look at some feature names**"
   ]
  },
  {
   "cell_type": "code",
   "execution_count": 44,
   "metadata": {
    "colab": {
     "base_uri": "https://localhost:8080/"
    },
    "id": "hopF4DVvKv34",
    "outputId": "4d09b7a0-7907-4240-bdd3-081e37dd2352"
   },
   "outputs": [
    {
     "data": {
      "text/plain": [
       "['aa', 'aa anger', 'aa compared', 'aaa', 'aaa take']"
      ]
     },
     "execution_count": 44,
     "metadata": {},
     "output_type": "execute_result"
    }
   ],
   "source": [
    "vectorizer.get_feature_names()[:5]"
   ]
  },
  {
   "cell_type": "markdown",
   "metadata": {
    "id": "ha1xX4yY34zo"
   },
   "source": [
    "**View term-document matrix**"
   ]
  },
  {
   "cell_type": "code",
   "execution_count": 45,
   "metadata": {
    "colab": {
     "base_uri": "https://localhost:8080/"
    },
    "id": "wY85rnyvp6Mc",
    "outputId": "1c435954-255f-4590-cb68-55517f8965bd"
   },
   "outputs": [
    {
     "data": {
      "text/plain": [
       "array([[0, 0, 0, ..., 0, 0, 0],\n",
       "       [0, 0, 0, ..., 0, 0, 0],\n",
       "       [0, 0, 0, ..., 0, 0, 0],\n",
       "       ...,\n",
       "       [0, 0, 0, ..., 0, 0, 0],\n",
       "       [0, 0, 0, ..., 0, 0, 0],\n",
       "       [0, 0, 0, ..., 0, 0, 0]])"
      ]
     },
     "execution_count": 45,
     "metadata": {},
     "output_type": "execute_result"
    }
   ],
   "source": [
    "X_train_bow.toarray()"
   ]
  },
  {
   "cell_type": "markdown",
   "metadata": {
    "id": "WT_pkHoO34zu"
   },
   "source": [
    "**Create a dictionary to get label counts**"
   ]
  },
  {
   "cell_type": "code",
   "execution_count": 46,
   "metadata": {
    "id": "n71bVKdo34zv"
   },
   "outputs": [],
   "source": [
    "label_counts=dict()\n",
    "\n",
    "for labels in blog_df.topic.values:\n",
    "    for label in labels:\n",
    "        if label in label_counts:\n",
    "            label_counts[str(label)]+=1\n",
    "        else:\n",
    "            label_counts[str(label)]=1"
   ]
  },
  {
   "cell_type": "markdown",
   "metadata": {
    "id": "3zoWzSvq34zz"
   },
   "source": [
    "**Print the dictionary**"
   ]
  },
  {
   "cell_type": "code",
   "execution_count": 47,
   "metadata": {
    "colab": {
     "base_uri": "https://localhost:8080/"
    },
    "id": "5bXDgiwD34z0",
    "outputId": "928de035-8c59-46de-eaf6-a6ea036f26d4"
   },
   "outputs": [
    {
     "data": {
      "text/plain": [
       "{'-': 136,\n",
       " 'A': 4,\n",
       " 'B': 95,\n",
       " 'C': 14,\n",
       " 'E': 235,\n",
       " 'I': 90,\n",
       " 'L': 2,\n",
       " 'M': 16,\n",
       " 'N': 45,\n",
       " 'P': 45,\n",
       " 'R': 75,\n",
       " 'S': 503,\n",
       " 'T': 1474,\n",
       " 'U': 437,\n",
       " 'a': 307,\n",
       " 'b': 2,\n",
       " 'c': 1754,\n",
       " 'd': 955,\n",
       " 'e': 2537,\n",
       " 'f': 45,\n",
       " 'g': 1800,\n",
       " 'h': 1474,\n",
       " 'i': 1094,\n",
       " 'k': 523,\n",
       " 'l': 1474,\n",
       " 'm': 100,\n",
       " 'n': 3753,\n",
       " 'o': 3334,\n",
       " 'p': 75,\n",
       " 'r': 349,\n",
       " 's': 203,\n",
       " 't': 1285,\n",
       " 'u': 533,\n",
       " 'v': 79,\n",
       " 'y': 1474}"
      ]
     },
     "execution_count": 47,
     "metadata": {},
     "output_type": "execute_result"
    }
   ],
   "source": [
    "label_counts"
   ]
  },
  {
   "cell_type": "markdown",
   "metadata": {
    "id": "OAa0bCY234z3"
   },
   "source": [
    "**Multi label binarizer**\n",
    "\n",
    "**Load a multilabel binarizer and fit it on the labels.**"
   ]
  },
  {
   "cell_type": "code",
   "execution_count": 48,
   "metadata": {
    "id": "w_6gL7JX34z5"
   },
   "outputs": [],
   "source": [
    "from sklearn.preprocessing import MultiLabelBinarizer\n",
    "\n",
    "mlb = MultiLabelBinarizer(classes=sorted(label_counts.keys()))\n",
    "y_train = mlb.fit_transform(y_train)\n",
    "y_test = mlb.transform(y_test)"
   ]
  },
  {
   "cell_type": "markdown",
   "metadata": {
    "id": "zBWM7_CT34z9"
   },
   "source": [
    "###Build a base model for Supervised Learning - Classification.\n",
    "\n",
    "**Use a linear classifier of your choice, wrap it up in OneVsRestClassifier to train it on every label.**"
   ]
  },
  {
   "cell_type": "code",
   "execution_count": 49,
   "metadata": {
    "id": "tTDalv2-34z-"
   },
   "outputs": [],
   "source": [
    "from sklearn.multiclass import OneVsRestClassifier\n",
    "from sklearn.linear_model import LogisticRegression\n",
    "\n",
    "clf = LogisticRegression(solver='lbfgs')\n",
    "clf = OneVsRestClassifier(clf)"
   ]
  },
  {
   "cell_type": "markdown",
   "metadata": {
    "id": "b4njir1Z340B"
   },
   "source": [
    "**Fit the classifier**"
   ]
  },
  {
   "cell_type": "code",
   "execution_count": 50,
   "metadata": {
    "colab": {
     "base_uri": "https://localhost:8080/"
    },
    "id": "BjqY1DlA340C",
    "outputId": "2ad1d5e6-a8c3-482a-b07e-3a3b87d6c347"
   },
   "outputs": [
    {
     "data": {
      "text/plain": [
       "OneVsRestClassifier(estimator=LogisticRegression())"
      ]
     },
     "execution_count": 50,
     "metadata": {},
     "output_type": "execute_result"
    }
   ],
   "source": [
    "clf.fit(X_train_bow, y_train)"
   ]
  },
  {
   "cell_type": "markdown",
   "metadata": {
    "id": "7rgEfe6l340G"
   },
   "source": [
    "**Make predictions**\n",
    "**- Get predicted labels and scores**"
   ]
  },
  {
   "cell_type": "code",
   "execution_count": 51,
   "metadata": {
    "id": "eBcgoW8O340H"
   },
   "outputs": [],
   "source": [
    "predicted_labels = clf.predict(X_test_bow)\n",
    "predicted_scores = clf.decision_function(X_test_bow)"
   ]
  },
  {
   "cell_type": "markdown",
   "metadata": {
    "id": "0-pvYIj9340K"
   },
   "source": [
    "**Get inverse transform for predicted labels and test labels**"
   ]
  },
  {
   "cell_type": "code",
   "execution_count": 52,
   "metadata": {
    "id": "SLXR4BIE340L"
   },
   "outputs": [],
   "source": [
    "pred_inversed = mlb.inverse_transform(predicted_labels)\n",
    "y_test_inversed = mlb.inverse_transform(y_test)"
   ]
  },
  {
   "cell_type": "markdown",
   "metadata": {
    "id": "05Vmhsrs340P"
   },
   "source": [
    "**Print some samples**"
   ]
  },
  {
   "cell_type": "code",
   "execution_count": 53,
   "metadata": {
    "colab": {
     "base_uri": "https://localhost:8080/"
    },
    "id": "Iax6yXDj340R",
    "outputId": "39f69938-38da-43b3-d018-12bd21295592"
   },
   "outputs": [
    {
     "name": "stdout",
     "output_type": "stream",
     "text": [
      "Title:\t  (0, 1086)\t1\n",
      "  (0, 1208)\t1\n",
      "  (0, 1223)\t1\n",
      "  (0, 1495)\t1\n",
      "  (0, 2130)\t1\n",
      "  (0, 4255)\t1\n",
      "  (0, 5081)\t1\n",
      "  (0, 5481)\t1\n",
      "  (0, 5556)\t1\n",
      "  (0, 5581)\t1\n",
      "  (0, 5972)\t1\n",
      "  (0, 6039)\t1\n",
      "  (0, 6171)\t1\n",
      "  (0, 6347)\t1\n",
      "  (0, 6605)\t1\n",
      "  (0, 7521)\t1\n",
      "  (0, 8075)\t1\n",
      "  (0, 8221)\t1\n",
      "  (0, 9785)\t1\n",
      "  (0, 9817)\t1\n",
      "  (0, 10275)\t1\n",
      "  (0, 10330)\t1\n",
      "  (0, 10499)\t1\n",
      "  (0, 10511)\t1\n",
      "  (0, 10667)\t1\n",
      "  :\t:\n",
      "  (0, 167010)\t1\n",
      "  (0, 168311)\t1\n",
      "  (0, 168424)\t1\n",
      "  (0, 168426)\t1\n",
      "  (0, 168442)\t1\n",
      "  (0, 168755)\t1\n",
      "  (0, 168775)\t1\n",
      "  (0, 168873)\t1\n",
      "  (0, 169289)\t1\n",
      "  (0, 169405)\t1\n",
      "  (0, 171134)\t1\n",
      "  (0, 172810)\t1\n",
      "  (0, 172896)\t1\n",
      "  (0, 172963)\t1\n",
      "  (0, 173421)\t1\n",
      "  (0, 173562)\t1\n",
      "  (0, 173670)\t1\n",
      "  (0, 173676)\t1\n",
      "  (0, 173738)\t1\n",
      "  (0, 173880)\t1\n",
      "  (0, 174357)\t1\n",
      "  (0, 174513)\t1\n",
      "  (0, 174650)\t1\n",
      "  (0, 174732)\t1\n",
      "  (0, 175345)\t1\n",
      "True labels:\tS,d,e,n,t,u\n",
      "Predicted labels:\tS,U,d,i,k,n,t\n",
      "\n",
      "\n",
      "Title:\t  (0, 2473)\t1\n",
      "  (0, 2505)\t1\n",
      "  (0, 42646)\t1\n",
      "  (0, 78199)\t1\n",
      "  (0, 78201)\t1\n",
      "  (0, 90722)\t1\n",
      "  (0, 90723)\t1\n",
      "  (0, 130136)\t1\n",
      "  (0, 135786)\t1\n",
      "  (0, 175034)\t1\n",
      "True labels:\tT,c,e,g,h,l,n,o,y\n",
      "Predicted labels:\tT,c,e,g,h,l,n,o,y\n",
      "\n",
      "\n",
      "Title:\t  (0, 25917)\t1\n",
      "  (0, 47336)\t1\n",
      "  (0, 55617)\t1\n",
      "  (0, 56796)\t1\n",
      "  (0, 68744)\t1\n",
      "  (0, 76746)\t1\n",
      "  (0, 87380)\t1\n",
      "  (0, 87381)\t1\n",
      "  (0, 93003)\t1\n",
      "  (0, 102095)\t1\n",
      "  (0, 105316)\t1\n",
      "  (0, 115227)\t1\n",
      "  (0, 119640)\t1\n",
      "  (0, 120724)\t1\n",
      "  (0, 120773)\t1\n",
      "  (0, 162108)\t1\n",
      "True labels:\tT,c,e,g,h,l,n,o,y\n",
      "Predicted labels:\tT,c,e,g,h,l,n,o,y\n",
      "\n",
      "\n",
      "Title:\t  (0, 13386)\t1\n",
      "  (0, 20486)\t1\n",
      "  (0, 20536)\t1\n",
      "  (0, 24396)\t1\n",
      "  (0, 24975)\t1\n",
      "  (0, 34412)\t1\n",
      "  (0, 43828)\t1\n",
      "  (0, 48689)\t1\n",
      "  (0, 48808)\t1\n",
      "  (0, 49151)\t1\n",
      "  (0, 49255)\t1\n",
      "  (0, 53129)\t1\n",
      "  (0, 53617)\t1\n",
      "  (0, 57831)\t1\n",
      "  (0, 71664)\t1\n",
      "  (0, 74637)\t1\n",
      "  (0, 92399)\t1\n",
      "  (0, 95720)\t1\n",
      "  (0, 117191)\t1\n",
      "  (0, 121532)\t1\n",
      "  (0, 128145)\t1\n",
      "  (0, 131886)\t1\n",
      "  (0, 140834)\t1\n",
      "  (0, 141021)\t1\n",
      "  (0, 148893)\t1\n",
      "  (0, 150073)\t1\n",
      "  (0, 157397)\t1\n",
      "  (0, 162108)\t1\n",
      "  (0, 163857)\t1\n",
      "  (0, 165616)\t1\n",
      "  (0, 170456)\t1\n",
      "  (0, 172643)\t1\n",
      "  (0, 173406)\t1\n",
      "True labels:\tS,d,e,n,t,u\n",
      "Predicted labels:\td,e,n\n",
      "\n",
      "\n",
      "Title:\t  (0, 4255)\t1\n",
      "  (0, 18062)\t1\n",
      "  (0, 22970)\t1\n",
      "  (0, 28144)\t1\n",
      "  (0, 33107)\t1\n",
      "  (0, 33108)\t1\n",
      "  (0, 44455)\t1\n",
      "  (0, 48128)\t1\n",
      "  (0, 53591)\t1\n",
      "  (0, 57459)\t1\n",
      "  (0, 74637)\t1\n",
      "  (0, 76013)\t1\n",
      "  (0, 99631)\t1\n",
      "  (0, 106199)\t1\n",
      "  (0, 112076)\t1\n",
      "  (0, 123689)\t1\n",
      "  (0, 126692)\t1\n",
      "  (0, 129784)\t1\n",
      "  (0, 134137)\t1\n",
      "  (0, 139673)\t1\n",
      "  (0, 143542)\t1\n",
      "  (0, 148313)\t1\n",
      "  (0, 148905)\t1\n",
      "  (0, 153643)\t1\n",
      "  (0, 165229)\t1\n",
      "True labels:\tT,c,e,g,h,l,n,o,y\n",
      "Predicted labels:\tT,c,e,g,h,l,n,o,y\n",
      "\n",
      "\n"
     ]
    }
   ],
   "source": [
    "for i in range(5):\n",
    "    print('Title:\\t{}\\nTrue labels:\\t{}\\nPredicted labels:\\t{}\\n\\n'.format(\n",
    "        X_test_bow[i],\n",
    "        ','.join(y_test_inversed[i]),\n",
    "        ','.join(pred_inversed[i])\n",
    "    ))"
   ]
  },
  {
   "cell_type": "markdown",
   "metadata": {
    "id": "VwWuEQdq340U"
   },
   "source": [
    "### Clearly print Performance Metrics.\n",
    "**- Accuracy**\n",
    "\n",
    "**- F1-score**\n",
    "\n",
    "**- Precision**\n",
    "\n",
    "**- Recall**\n",
    "\n",
    "**- ROC-AUC**"
   ]
  },
  {
   "cell_type": "code",
   "execution_count": 54,
   "metadata": {
    "id": "uN3ODxXt340U"
   },
   "outputs": [],
   "source": [
    "from sklearn.metrics import accuracy_score\n",
    "from sklearn.metrics import f1_score\n",
    "from sklearn.metrics import average_precision_score\n",
    "from sklearn.metrics import recall_score\n",
    "from sklearn.metrics import roc_auc_score\n",
    "\n",
    "def print_evaluation_scores(y_val, predicted):\n",
    "    print('Accuracy score: ', accuracy_score(y_val, predicted))\n",
    "    print('F1 score: ', f1_score(y_val, predicted, average='micro'))\n",
    "    print('Average precision score: ', average_precision_score(y_val, predicted, average='micro'))\n",
    "    print('Average recall score: ', recall_score(y_val, predicted, average='micro'))\n",
    "    print('Average ROC-AUC score: ', roc_auc_score(y_val, predicted, average='micro'))"
   ]
  },
  {
   "cell_type": "code",
   "execution_count": 55,
   "metadata": {
    "colab": {
     "base_uri": "https://localhost:8080/"
    },
    "id": "eIXQFl45340X",
    "outputId": "3a100bba-5ce6-4c4f-dc2d-e7815d74e88a",
    "scrolled": true
   },
   "outputs": [
    {
     "name": "stdout",
     "output_type": "stream",
     "text": [
      "Bag-of-words\n",
      "Accuracy score:  0.5709219858156028\n",
      "F1 score:  0.8326229697039511\n",
      "Average precision score:  0.741377468362899\n",
      "Average recall score:  0.79673721340388\n",
      "Average ROC-AUC score:  0.8809060968361154\n"
     ]
    }
   ],
   "source": [
    "print('Bag-of-words')\n",
    "print_evaluation_scores(y_test, predicted_labels)"
   ]
  },
  {
   "cell_type": "markdown",
   "metadata": {
    "id": "JPWOWxULrubg"
   },
   "source": [
    "## 4. Improve Performance of model."
   ]
  },
  {
   "cell_type": "markdown",
   "metadata": {
    "id": "MKd3qZlzrv-O"
   },
   "source": [
    "### A. Experiment with other vectorisers."
   ]
  },
  {
   "cell_type": "markdown",
   "metadata": {
    "id": "5JXAFU_joO59"
   },
   "source": [
    "**TFIDF Vectorizer**"
   ]
  },
  {
   "cell_type": "code",
   "execution_count": 56,
   "metadata": {
    "id": "vLRGgMsPrzxo"
   },
   "outputs": [],
   "source": [
    "from sklearn.feature_extraction.text import TfidfVectorizer\n",
    "\n",
    "vectorizer = TfidfVectorizer (max_features=2500, min_df=7, max_df=0.8)\n",
    "X_train_bow = vectorizer.fit_transform(X_train)\n",
    "X_test_bow = vectorizer.transform(X_test)"
   ]
  },
  {
   "cell_type": "code",
   "execution_count": 57,
   "metadata": {
    "colab": {
     "base_uri": "https://localhost:8080/"
    },
    "id": "cLnY0wKunAyQ",
    "outputId": "4661e33b-f90a-410e-a98d-d672644c0b63"
   },
   "outputs": [
    {
     "data": {
      "text/plain": [
       "TfidfVectorizer(max_df=0.8, max_features=2500, min_df=7)"
      ]
     },
     "execution_count": 57,
     "metadata": {},
     "output_type": "execute_result"
    }
   ],
   "source": [
    "vectorizer"
   ]
  },
  {
   "cell_type": "code",
   "execution_count": 58,
   "metadata": {
    "colab": {
     "base_uri": "https://localhost:8080/"
    },
    "id": "scUWkvagnErh",
    "outputId": "6f146522-ed2d-454d-db09-ce22df7dfb43"
   },
   "outputs": [
    {
     "data": {
      "text/plain": [
       "['ability', 'able', 'absolutely', 'accent', 'accept']"
      ]
     },
     "execution_count": 58,
     "metadata": {},
     "output_type": "execute_result"
    }
   ],
   "source": [
    "vectorizer.get_feature_names()[:5]"
   ]
  },
  {
   "cell_type": "markdown",
   "metadata": {
    "id": "ZOIGYx2cYcMJ"
   },
   "source": [
    "### B. Build classifier Models using other algorithms than base model."
   ]
  },
  {
   "cell_type": "markdown",
   "metadata": {
    "id": "LkQnm6TTY6TB"
   },
   "source": [
    "**Use a linear classifier (LinearSVC is used in the following) of your choice, wrap it up in OneVsRestClassifier to train it on every label**\n"
   ]
  },
  {
   "cell_type": "code",
   "execution_count": 59,
   "metadata": {
    "id": "8sHrVasJndIH"
   },
   "outputs": [],
   "source": [
    "from sklearn.metrics import accuracy_score\n",
    "from sklearn.metrics import f1_score\n",
    "from sklearn.metrics import average_precision_score\n",
    "from sklearn.metrics import recall_score\n",
    "from sklearn.metrics import roc_auc_score\n",
    "\n",
    "def display_metrics_micro(Ytest, Ypred):\n",
    "    print('Accuracy score: ', accuracy_score(Ytest, Ypred))\n",
    "    print('F1 score: Micro', f1_score(Ytest, Ypred, average='micro'))\n",
    "    print('Average precision score: Micro', average_precision_score(Ytest, Ypred, average='micro'))\n",
    "    print('Average recall score: Micro', recall_score(Ytest, Ypred, average='micro'))\n",
    "    print('Average ROC-AUC score: ', roc_auc_score(Ytest, Ypred, average='micro'))\n",
    "    \n",
    "    \n",
    "def display_metrics_macro(Ytest, Ypred):\n",
    "    print('Accuracy score: ', accuracy_score(Ytest, Ypred))\n",
    "    print('F1 score: Macro', f1_score(Ytest, Ypred, average='macro'))\n",
    "    print('Average recall score: MAcro', recall_score(Ytest, Ypred, average='macro'))\n",
    "    \n",
    "def display_metrics_weighted(Ytest, Ypred):\n",
    "    print('Accuracy score: ', accuracy_score(Ytest, Ypred))\n",
    "    print('F1 score: weighted', f1_score(Ytest, Ypred, average='weighted'))\n",
    "    print('Average precision score: weighted', average_precision_score(Ytest, Ypred, average='weighted'))\n",
    "    print('Average recall score: weighted', recall_score(Ytest, Ypred, average='weighted'))"
   ]
  },
  {
   "cell_type": "code",
   "execution_count": 60,
   "metadata": {
    "id": "oycdGlKeY7ry"
   },
   "outputs": [],
   "source": [
    "from sklearn.linear_model import LogisticRegression\n",
    "from sklearn.discriminant_analysis import LinearDiscriminantAnalysis\n",
    "from sklearn.svm import LinearSVC\n",
    "from sklearn.naive_bayes import MultinomialNB\n",
    "\n",
    "def build_model_train(X_train, y_train, X_valid=None, y_valid=None, C=1.0, model='lr'):\n",
    "    if model=='lr':\n",
    "        model = LogisticRegression(C=C, penalty='l1', dual=False, solver='liblinear')\n",
    "        model = OneVsRestClassifier(model)\n",
    "        model.fit(X_train, y_train)\n",
    "    \n",
    "    elif model=='svm':\n",
    "        model = LinearSVC(C=C, penalty='l1', dual=False, loss='squared_hinge')\n",
    "        model = OneVsRestClassifier(model)\n",
    "        model.fit(X_train, y_train)\n",
    "    \n",
    "    elif model=='nbayes':\n",
    "        model = MultinomialNB(alpha=1.0)\n",
    "        model = OneVsRestClassifier(model)\n",
    "        model.fit(X_train, y_train)\n",
    "        \n",
    "    elif model=='lda':\n",
    "        model = LinearDiscriminantAnalysis(solver='svd')\n",
    "        model = OneVsRestClassifier(model)\n",
    "        #model.fit(X_train.toarray(), y_train)\n",
    "\n",
    "    return model"
   ]
  },
  {
   "cell_type": "code",
   "execution_count": 62,
   "metadata": {
    "colab": {
     "base_uri": "https://localhost:8080/"
    },
    "id": "0-Z47McZdLLA",
    "outputId": "74f50b95-bb76-416f-ffdc-737d0ad2bda6"
   },
   "outputs": [
    {
     "name": "stdout",
     "output_type": "stream",
     "text": [
      "\n",
      "\n",
      "**displaying  metrics for the mode OneVsRestClassifier(estimator=LogisticRegression(penalty='l1',\n",
      "                                                 solver='liblinear'))\n",
      "\n",
      "Accuracy score:  0.4929078014184397\n",
      "F1 score: Micro 0.805445659762625\n",
      "Average precision score: Micro 0.7052138469933719\n",
      "Average recall score: Micro 0.7630070546737213\n",
      "Average ROC-AUC score:  0.8618705360187865\n",
      "\n",
      "\n",
      "\n",
      "\n",
      "Accuracy score:  0.4929078014184397\n",
      "F1 score: Macro 0.46357084699015605\n",
      "Average recall score: MAcro 0.4051653973772904\n",
      "\n",
      "\n",
      "\n",
      "\n",
      "Accuracy score:  0.4929078014184397\n",
      "F1 score: weighted 0.7722506498612003\n",
      "Average precision score: weighted 0.7214388463156779\n",
      "Average recall score: weighted 0.7630070546737213\n",
      "\n",
      "\n",
      "\n",
      "\n",
      "\n",
      "\n",
      "**displaying  metrics for the mode OneVsRestClassifier(estimator=LinearSVC(dual=False, penalty='l1'))\n",
      "\n",
      "Accuracy score:  0.5319148936170213\n",
      "F1 score: Micro 0.8365097588978186\n",
      "Average precision score: Micro 0.7461974755118821\n",
      "Average recall score: Micro 0.8031305114638448\n",
      "Average ROC-AUC score:  0.8841027458660978\n",
      "\n",
      "\n",
      "\n",
      "\n",
      "Accuracy score:  0.5319148936170213\n",
      "F1 score: Macro 0.5784681008810985\n",
      "Average recall score: MAcro 0.5146594215588388\n",
      "\n",
      "\n",
      "\n",
      "\n",
      "Accuracy score:  0.5319148936170213\n",
      "F1 score: weighted 0.8234700076225828\n",
      "Average precision score: weighted 0.7685626953547857\n",
      "Average recall score: weighted 0.8031305114638448\n",
      "\n",
      "\n",
      "\n",
      "\n",
      "\n",
      "\n",
      "**displaying  metrics for the mode OneVsRestClassifier(estimator=MultinomialNB())\n",
      "\n",
      "Accuracy score:  0.42907801418439717\n",
      "F1 score: Micro 0.7801260659992585\n",
      "Average precision score: Micro 0.6875856837433282\n",
      "Average recall score: Micro 0.6957671957671958\n",
      "Average ROC-AUC score:  0.834762050922272\n",
      "\n",
      "\n",
      "\n",
      "\n",
      "Accuracy score:  0.42907801418439717\n",
      "F1 score: Macro 0.3021022062588704\n",
      "Average recall score: MAcro 0.2734664741103473\n",
      "\n",
      "\n",
      "\n",
      "\n",
      "Accuracy score:  0.42907801418439717\n",
      "F1 score: weighted 0.7246933499662876\n",
      "Average precision score: weighted 0.7102129725386489\n",
      "Average recall score: weighted 0.6957671957671958\n",
      "\n",
      "\n",
      "\n",
      "\n",
      "\n",
      "\n",
      "**displaying  metrics for the mode OneVsRestClassifier(estimator=LinearDiscriminantAnalysis())\n",
      "\n",
      "Accuracy score:  0.09219858156028368\n",
      "F1 score: Micro 0.5870320339637205\n",
      "Average precision score: Micro 0.4257304637709579\n",
      "Average recall score: Micro 0.6706349206349206\n",
      "Average ROC-AUC score:  0.7436968341664474\n",
      "\n",
      "\n",
      "\n",
      "\n",
      "Accuracy score:  0.09219858156028368\n",
      "F1 score: Macro 0.33878876224990356\n",
      "Average recall score: MAcro 0.45758325840223657\n",
      "\n",
      "\n",
      "\n",
      "\n",
      "Accuracy score:  0.09219858156028368\n",
      "F1 score: weighted 0.6459536756819231\n",
      "Average precision score: weighted 0.6129115279768472\n",
      "Average recall score: weighted 0.6706349206349206\n",
      "\n",
      "\n",
      "\n",
      "\n"
     ]
    }
   ],
   "source": [
    "models = ['lr','svm','nbayes','lda']\n",
    "for model in models:\n",
    "    model1 = build_model_train(X_train_bow,y_train,model=model)\n",
    "    if model == 'lda':\n",
    "      model1.fit(X_train_bow.toarray(),y_train)\n",
    "      Ypred=model1.predict(X_test_bow)\n",
    "    else:\n",
    "      model1.fit(X_train_bow,y_train)\n",
    "      Ypred=model1.predict(X_test_bow)\n",
    "    print(\"\\n\")\n",
    "    print(f\"**displaying  metrics for the mode {model1}\\n\")\n",
    "    display_metrics_micro(y_test,Ypred)\n",
    "    print(\"\\n\")\n",
    "    print(\"\\n\")\n",
    "    display_metrics_macro(y_test,Ypred)\n",
    "    print(\"\\n\")\n",
    "    print(\"\\n\")\n",
    "    display_metrics_weighted(y_test,Ypred)\n",
    "    print(\"\\n\")\n",
    "    print(\"\\n\")\n",
    "    "
   ]
  },
  {
   "cell_type": "markdown",
   "metadata": {
    "id": "GJg6hXnspcQm"
   },
   "source": [
    "### C. Tune Parameters/Hyperparameters of the model/s."
   ]
  },
  {
   "cell_type": "markdown",
   "metadata": {
    "id": "6PcoYxo9pgUD"
   },
   "source": [
    "**Using Grid Search**"
   ]
  },
  {
   "cell_type": "markdown",
   "metadata": {
    "id": "ulxoRFsSzSTJ"
   },
   "source": [
    "**For LR Model**"
   ]
  },
  {
   "cell_type": "code",
   "execution_count": 63,
   "metadata": {
    "colab": {
     "base_uri": "https://localhost:8080/"
    },
    "id": "c8THctFOGlrv",
    "outputId": "d61ff879-21f3-4995-9298-3adaba2a5fc9"
   },
   "outputs": [
    {
     "name": "stdout",
     "output_type": "stream",
     "text": [
      "dict_keys(['memory', 'steps', 'verbose', 'vect', 'clf', 'vect__norm', 'vect__smooth_idf', 'vect__sublinear_tf', 'vect__use_idf', 'clf__estimator__C', 'clf__estimator__class_weight', 'clf__estimator__dual', 'clf__estimator__fit_intercept', 'clf__estimator__intercept_scaling', 'clf__estimator__l1_ratio', 'clf__estimator__max_iter', 'clf__estimator__multi_class', 'clf__estimator__n_jobs', 'clf__estimator__penalty', 'clf__estimator__random_state', 'clf__estimator__solver', 'clf__estimator__tol', 'clf__estimator__verbose', 'clf__estimator__warm_start', 'clf__estimator', 'clf__n_jobs'])\n",
      "Fitting 5 folds for each of 40 candidates, totalling 200 fits\n",
      "The best parameters: \n",
      " {'clf__estimator__C': 1.0, 'clf__estimator__penalty': 'l2', 'vect__use_idf': True}\n",
      "The best score: \n",
      " 0.5589633655789494\n",
      "Accuracy score:  0.5726950354609929\n",
      "F1 score: Micro 0.8538343893379944\n",
      "Average precision score: Micro 0.7609052452425132\n",
      "Average recall score: Micro 0.8615520282186949\n",
      "Average ROC-AUC score:  0.9074268954563615\n",
      "\n",
      "\n",
      "\n",
      "\n",
      "Accuracy score:  0.5726950354609929\n",
      "F1 score: Macro 0.6263908310410304\n",
      "Average recall score: MAcro 0.6237512198798564\n",
      "\n",
      "\n",
      "\n",
      "\n",
      "Accuracy score:  0.5726950354609929\n",
      "F1 score: weighted 0.8533985067140712\n",
      "Average precision score: weighted 0.7946734482776064\n",
      "Average recall score: weighted 0.8615520282186949\n",
      "\n",
      "\n",
      "\n",
      "\n"
     ]
    }
   ],
   "source": [
    "import numpy as np\n",
    "from sklearn.feature_extraction.text import TfidfTransformer\n",
    "from sklearn.multiclass import OneVsRestClassifier\n",
    "from sklearn.linear_model import LogisticRegression\n",
    "from sklearn.model_selection import GridSearchCV\n",
    "from sklearn.pipeline import Pipeline\n",
    "\n",
    "tfidf_transformer = TfidfTransformer(smooth_idf=True)\n",
    "\n",
    "log_reg_clf = OneVsRestClassifier(\n",
    "  estimator=LogisticRegression(\n",
    "    intercept_scaling=1,\n",
    "    class_weight='balanced',\n",
    "    random_state=0\n",
    "  )\n",
    ")\n",
    "\n",
    "# Create regularization hyperparameter space\n",
    "C = np.logspace(0, 4, 10)\n",
    "\n",
    "param_grid = [{\n",
    "  'vect__use_idf': (True, False),\n",
    "  'clf__estimator__C': C,\n",
    "  'clf__estimator__penalty': ['l1','l2']\n",
    "}]\n",
    "\n",
    "log_reg_clf_tfidf = Pipeline([\n",
    "  ('vect', tfidf_transformer),\n",
    "  ('clf', log_reg_clf)\n",
    "])\n",
    "\n",
    "print(log_reg_clf_tfidf.get_params().keys())\n",
    "\n",
    "gs_logReg_tfidf = GridSearchCV(\n",
    "  log_reg_clf_tfidf,\n",
    "  param_grid,\n",
    "  scoring='accuracy',\n",
    "  cv=5,\n",
    "  verbose=1,\n",
    "  n_jobs=-1\n",
    ")\n",
    "gs_logReg_tfidf.fit(X_train_bow, y_train)\n",
    "print(\"The best parameters: \\n\", gs_logReg_tfidf.best_params_)\n",
    "print(\"The best score: \\n\", gs_logReg_tfidf.best_score_)\n",
    "\n",
    "df_test_predicted_idf = gs_logReg_tfidf.predict(X_test_bow)\n",
    "\n",
    "display_metrics_micro(y_test,df_test_predicted_idf)\n",
    "print(\"\\n\")\n",
    "print(\"\\n\")\n",
    "display_metrics_macro(y_test,df_test_predicted_idf)\n",
    "print(\"\\n\")\n",
    "print(\"\\n\")\n",
    "display_metrics_weighted(y_test,df_test_predicted_idf)\n",
    "print(\"\\n\")\n",
    "print(\"\\n\")"
   ]
  },
  {
   "cell_type": "markdown",
   "metadata": {
    "id": "GFA75inDY7nB"
   },
   "source": [
    "**For SVM Model**"
   ]
  },
  {
   "cell_type": "code",
   "execution_count": 64,
   "metadata": {
    "colab": {
     "base_uri": "https://localhost:8080/"
    },
    "id": "koYAJzweHIUf",
    "outputId": "468e329a-7200-4c29-e463-e6de79f2a862"
   },
   "outputs": [
    {
     "name": "stdout",
     "output_type": "stream",
     "text": [
      "dict_keys(['memory', 'steps', 'verbose', 'tfidf', 'clf', 'tfidf__norm', 'tfidf__smooth_idf', 'tfidf__sublinear_tf', 'tfidf__use_idf', 'clf__estimator__C', 'clf__estimator__class_weight', 'clf__estimator__dual', 'clf__estimator__fit_intercept', 'clf__estimator__intercept_scaling', 'clf__estimator__loss', 'clf__estimator__max_iter', 'clf__estimator__multi_class', 'clf__estimator__penalty', 'clf__estimator__random_state', 'clf__estimator__tol', 'clf__estimator__verbose', 'clf__estimator', 'clf__n_jobs'])\n",
      "Fitting 5 folds for each of 32 candidates, totalling 160 fits\n",
      "[LibLinear][LibLinear][LibLinear][LibLinear][LibLinear][LibLinear][LibLinear][LibLinear][LibLinear][LibLinear][LibLinear][LibLinear][LibLinear][LibLinear][LibLinear][LibLinear][LibLinear][LibLinear][LibLinear][LibLinear][LibLinear][LibLinear][LibLinear][LibLinear][LibLinear][LibLinear][LibLinear][LibLinear][LibLinear][LibLinear][LibLinear][LibLinear][LibLinear][LibLinear][LibLinear]The best parameters: \n",
      " {'clf__estimator__C': 0.1, 'clf__estimator__loss': 'squared_hinge', 'clf__estimator__penalty': 'l2', 'tfidf__use_idf': True}\n",
      "The best score: \n",
      " 0.5598473402272237\n",
      "Accuracy score:  0.5780141843971631\n",
      "F1 score: Micro 0.8547101844776771\n",
      "Average precision score: Micro 0.7620574221638051\n",
      "Average recall score: Micro 0.8630952380952381\n",
      "Average ROC-AUC score:  0.908198500394633\n",
      "\n",
      "\n",
      "\n",
      "\n",
      "Accuracy score:  0.5780141843971631\n",
      "F1 score: Macro 0.6212113880730088\n",
      "Average recall score: MAcro 0.6157124923692543\n",
      "\n",
      "\n",
      "\n",
      "\n",
      "Accuracy score:  0.5780141843971631\n",
      "F1 score: weighted 0.8540309741407328\n",
      "Average precision score: weighted 0.7953365708412542\n",
      "Average recall score: weighted 0.8630952380952381\n",
      "\n",
      "\n",
      "\n",
      "\n"
     ]
    }
   ],
   "source": [
    "tfidf_transformer = TfidfTransformer(smooth_idf=True)\n",
    "\n",
    "svm_reg_clf = OneVsRestClassifier(\n",
    "  estimator=LinearSVC(verbose=True,class_weight='balanced'))\n",
    "\n",
    "param_grid = [{\n",
    "  'tfidf__use_idf': (True, False),\n",
    "  'clf__estimator__C': [0.1, 1, 10, 100],\n",
    "  'clf__estimator__loss': ['hinge', 'squared_hinge'],\n",
    "  'clf__estimator__penalty': ['l1', 'l2']\n",
    "}]\n",
    "\n",
    "svm_reg_clf_tfidf = Pipeline([\n",
    "  ('tfidf', tfidf_transformer),\n",
    "  ('clf', svm_reg_clf)\n",
    "])\n",
    "\n",
    "gs_svmReg_tfidf = GridSearchCV(\n",
    "  svm_reg_clf_tfidf,\n",
    "  param_grid,\n",
    "  scoring='accuracy',\n",
    "  cv=5,\n",
    "  verbose=1,\n",
    "  n_jobs=-1\n",
    ")\n",
    "\n",
    "print(svm_reg_clf_tfidf.get_params().keys())\n",
    "\n",
    "gs_svmReg_tfidf.fit(X_train_bow, y_train)\n",
    "print(\"The best parameters: \\n\", gs_svmReg_tfidf.best_params_)\n",
    "print(\"The best score: \\n\", gs_svmReg_tfidf.best_score_)\n",
    "\n",
    "df_test_predicted_idf = gs_svmReg_tfidf.predict(X_test_bow)\n",
    "\n",
    "display_metrics_micro(y_test,df_test_predicted_idf)\n",
    "print(\"\\n\")\n",
    "print(\"\\n\")\n",
    "display_metrics_macro(y_test,df_test_predicted_idf)\n",
    "print(\"\\n\")\n",
    "print(\"\\n\")\n",
    "display_metrics_weighted(y_test,df_test_predicted_idf)\n",
    "print(\"\\n\")\n",
    "print(\"\\n\")"
   ]
  },
  {
   "cell_type": "markdown",
   "metadata": {
    "id": "xpvSLCP-uDM1"
   },
   "source": [
    "**For Naive Bayes Model**"
   ]
  },
  {
   "cell_type": "code",
   "execution_count": 65,
   "metadata": {
    "colab": {
     "base_uri": "https://localhost:8080/"
    },
    "id": "vERis0bfuTRM",
    "outputId": "9cfd0d33-483d-41b7-d622-daee4caddbaf"
   },
   "outputs": [
    {
     "name": "stdout",
     "output_type": "stream",
     "text": [
      "dict_keys(['memory', 'steps', 'verbose', 'tfidf', 'clf', 'tfidf__norm', 'tfidf__smooth_idf', 'tfidf__sublinear_tf', 'tfidf__use_idf', 'clf__estimator__alpha', 'clf__estimator__class_prior', 'clf__estimator__fit_prior', 'clf__estimator', 'clf__n_jobs'])\n",
      "Fitting 5 folds for each of 8 candidates, totalling 40 fits\n",
      "The best parameters: \n",
      " {'clf__estimator__alpha': 0.1, 'tfidf__use_idf': True}\n",
      "The best score: \n",
      " 0.48937562545376057\n",
      "Accuracy score:  0.5053191489361702\n",
      "F1 score: Micro 0.8067084942084942\n",
      "Average precision score: Micro 0.7170900922587494\n",
      "Average recall score: Micro 0.7369929453262787\n",
      "Average ROC-AUC score:  0.855046064875715\n",
      "\n",
      "\n",
      "\n",
      "\n",
      "Accuracy score:  0.5053191489361702\n",
      "F1 score: Macro 0.4889800242137758\n",
      "Average recall score: MAcro 0.4131615323157131\n",
      "\n",
      "\n",
      "\n",
      "\n",
      "Accuracy score:  0.5053191489361702\n",
      "F1 score: weighted 0.7819449675431898\n",
      "Average precision score: weighted 0.7477479997848753\n",
      "Average recall score: weighted 0.7369929453262787\n",
      "\n",
      "\n",
      "\n",
      "\n"
     ]
    }
   ],
   "source": [
    "tfidf_transformer = TfidfTransformer(smooth_idf=True)\n",
    "\n",
    "nvb_reg_clf = OneVsRestClassifier(\n",
    "  estimator=MultinomialNB(alpha=1.0,fit_prior=True))\n",
    "\n",
    "param_grid = [{\n",
    "  'tfidf__use_idf': (True, False),\n",
    "  'clf__estimator__alpha': [0.0001, 0.001, 0.1, 1.0]\n",
    "}]\n",
    "\n",
    "nvb_reg_clf_tfidf = Pipeline([\n",
    "  ('tfidf', tfidf_transformer),\n",
    "  ('clf', nvb_reg_clf)\n",
    "])\n",
    "\n",
    "gs_nvbReg_tfidf = GridSearchCV(\n",
    "  nvb_reg_clf_tfidf,\n",
    "  param_grid,\n",
    "  scoring='accuracy',\n",
    "  cv=5,\n",
    "  verbose=1,\n",
    "  n_jobs=-1\n",
    ")\n",
    "\n",
    "print(nvb_reg_clf_tfidf.get_params().keys())\n",
    "\n",
    "gs_nvbReg_tfidf.fit(X_train_bow, y_train)\n",
    "print(\"The best parameters: \\n\", gs_nvbReg_tfidf.best_params_)\n",
    "print(\"The best score: \\n\", gs_nvbReg_tfidf.best_score_)\n",
    "\n",
    "df_test_predicted_idf = gs_nvbReg_tfidf.predict(X_test_bow)\n",
    "\n",
    "display_metrics_micro(y_test,df_test_predicted_idf)\n",
    "print(\"\\n\")\n",
    "print(\"\\n\")\n",
    "display_metrics_macro(y_test,df_test_predicted_idf)\n",
    "print(\"\\n\")\n",
    "print(\"\\n\")\n",
    "display_metrics_weighted(y_test,df_test_predicted_idf)\n",
    "print(\"\\n\")\n",
    "print(\"\\n\")"
   ]
  },
  {
   "cell_type": "markdown",
   "metadata": {
    "id": "ojMzTL-uzJjs"
   },
   "source": [
    "**For LDA Model**"
   ]
  },
  {
   "cell_type": "markdown",
   "metadata": {
    "id": "RP54eTvQ-3NK"
   },
   "source": [
    "**Hyperparameter tuning for LDA takes around 25-30 mins as we have to use a Sparse Matrix converting the X_train_bow to X_train_bow.toarray() while fitting the model. Please be patient :)**"
   ]
  },
  {
   "cell_type": "code",
   "execution_count": 66,
   "metadata": {
    "colab": {
     "base_uri": "https://localhost:8080/"
    },
    "id": "KC3LyLpHzLmF",
    "outputId": "5ba48944-6b0a-48f0-ef38-96ad27617f6f"
   },
   "outputs": [
    {
     "name": "stdout",
     "output_type": "stream",
     "text": [
      "dict_keys(['memory', 'steps', 'verbose', 'clf', 'clf__estimator__covariance_estimator', 'clf__estimator__n_components', 'clf__estimator__priors', 'clf__estimator__shrinkage', 'clf__estimator__solver', 'clf__estimator__store_covariance', 'clf__estimator__tol', 'clf__estimator', 'clf__n_jobs'])\n",
      "Fitting 5 folds for each of 2 candidates, totalling 10 fits\n",
      "The best parameters: \n",
      " {'clf__estimator__solver': 'svd'}\n",
      "The best score: \n",
      " 0.10062692541647862\n",
      "Accuracy score:  0.09219858156028368\n",
      "F1 score: Micro 0.5870320339637205\n",
      "Average precision score: Micro 0.4257304637709579\n",
      "Average recall score: Micro 0.6706349206349206\n",
      "Average ROC-AUC score:  0.7436968341664474\n",
      "\n",
      "\n",
      "\n",
      "\n",
      "Accuracy score:  0.09219858156028368\n",
      "F1 score: Macro 0.33878876224990356\n",
      "Average recall score: MAcro 0.45758325840223657\n",
      "\n",
      "\n",
      "\n",
      "\n",
      "Accuracy score:  0.09219858156028368\n",
      "F1 score: weighted 0.6459536756819231\n",
      "Average precision score: weighted 0.6129115279768472\n",
      "Average recall score: weighted 0.6706349206349206\n",
      "\n",
      "\n",
      "\n",
      "\n"
     ]
    }
   ],
   "source": [
    "tfidf_transformer = TfidfTransformer(smooth_idf=True)\n",
    "\n",
    "lda_reg_clf = OneVsRestClassifier(\n",
    "  estimator=LinearDiscriminantAnalysis(solver='svd'))\n",
    "\n",
    "param_grid = [{\n",
    "  #'tfidf__use_idf': (True, False),\n",
    "  'clf__estimator__solver': ['svd', 'lsqr']\n",
    "  #'clf__estimator__store_covariance': (True, False)\n",
    "  #'clf__estimator__shrinkage': np.arange(0, 1, 0.01)\n",
    "}]\n",
    "\n",
    "lda_reg_clf_tfidf = Pipeline([\n",
    "  #('tfidf', tfidf_transformer),\n",
    "  ('clf', lda_reg_clf)\n",
    "])\n",
    "\n",
    "gs_ldaReg_tfidf = GridSearchCV(\n",
    "  lda_reg_clf_tfidf,\n",
    "  param_grid,\n",
    "  scoring='accuracy',\n",
    "  cv=5,\n",
    "  verbose=1,\n",
    "  n_jobs=-1\n",
    ")\n",
    "\n",
    "print(lda_reg_clf_tfidf.get_params().keys())\n",
    "\n",
    "gs_ldaReg_tfidf.fit(X_train_bow.toarray(), y_train)\n",
    "print(\"The best parameters: \\n\", gs_ldaReg_tfidf.best_params_)\n",
    "print(\"The best score: \\n\", gs_ldaReg_tfidf.best_score_)\n",
    "\n",
    "df_test_predicted_idf = gs_ldaReg_tfidf.predict(X_test_bow)\n",
    "\n",
    "display_metrics_micro(y_test,df_test_predicted_idf)\n",
    "print(\"\\n\")\n",
    "print(\"\\n\")\n",
    "display_metrics_macro(y_test,df_test_predicted_idf)\n",
    "print(\"\\n\")\n",
    "print(\"\\n\")\n",
    "display_metrics_weighted(y_test,df_test_predicted_idf)\n",
    "print(\"\\n\")\n",
    "print(\"\\n\")\n"
   ]
  },
  {
   "cell_type": "markdown",
   "metadata": {
    "id": "cwHvezHM8W2G"
   },
   "source": [
    "## 5. Share insights on relative performance comparison"
   ]
  },
  {
   "cell_type": "markdown",
   "metadata": {
    "id": "Z0uJknUK_EPA"
   },
   "source": [
    "### A. Which vectorizer performed better? Probable reason?"
   ]
  },
  {
   "cell_type": "markdown",
   "metadata": {
    "id": "WG-n6WCa_HuJ"
   },
   "source": [
    "***The TDIF vectorizer performed better as in Bag of Words(Count Vectorizer), we witnessed how vectorization was just concerned with the frequency of vocabulary words in a given document. As a result, articles, prepositions, and conjunctions which don’t contribute a lot to the meaning get as much importance as, say, adjectives. TF-IDF helps us to overcome this issue. Words that get repeated too often don’t overpower less frequent but important words.***"
   ]
  },
  {
   "cell_type": "markdown",
   "metadata": {
    "id": "urfl-xOV_I9l"
   },
   "source": [
    "### B. Which model outperformed? Probable reason?"
   ]
  },
  {
   "cell_type": "markdown",
   "metadata": {
    "id": "8JPY67_E_MfF"
   },
   "source": [
    "***SVM model outperformed. Accuracy scores are the highest as compared to other models. Even Logistic regression did well, but SVM has slightly better accuracy. Also ROC-AUC score and Recall are high for SVM. LDA model was the worst as it gave lowest accuracy score.***"
   ]
  },
  {
   "cell_type": "markdown",
   "metadata": {
    "id": "qrNfxbYF_M6i"
   },
   "source": [
    "### C. Which parameter/hyperparameter significantly helped to improve performance?Probable reason?"
   ]
  },
  {
   "cell_type": "markdown",
   "metadata": {
    "id": "O4K3YZbO_VPT"
   },
   "source": [
    "***As SVM Model model was the best, we used tweaked the 'loss', 'C' and 'penalty' hyperparameters with Grid Search to get good statistics. These hyperparameters ensured that the model is generalised and not overfitting***"
   ]
  },
  {
   "cell_type": "markdown",
   "metadata": {
    "id": "jufNaiA5_RpE"
   },
   "source": [
    "### D. According to you, which performance metric should be given most importance, why?."
   ]
  },
  {
   "cell_type": "markdown",
   "metadata": {
    "id": "n5R1fujD_eSG"
   },
   "source": [
    "***According to me Accuracy and F1 Score should be given most importance because the Area Under the Curve (AUC) is the measure of the ability of a classifier to distinguish between classes and Accuracy simply measures how often the classifier correctly predicts. We can define accuracy as the ratio of the number of correct predictions and the total number of predictions. In this buisness scenario we see these two parameters should be given most importance.***"
   ]
  },
  {
   "cell_type": "markdown",
   "metadata": {
    "id": "nmBo9NfL_ek-"
   },
   "source": [
    "# Part B\n",
    "\n",
    "## Domain:\n",
    "Customer support\n",
    "\n",
    "## Context:\n",
    "Great Learning has a an academic support department which receives numerous support requests every day throughout the year.\n",
    "Teams are spread across geographies and try to provide support round the year. Sometimes there are circumstances where due to heavy\n",
    "workload certain request resolutions are delayed, impacting company’s business. Some of the requests are very generic where a proper\n",
    "resolution procedure delivered to the user can solve the problem. Company is looking forward to design an automation which can interact with\n",
    "the user, understand the problem and display the resolution procedure [ if found as a generic request ] or redirect the request to an actual human\n",
    "support executive if the request is complex or not in it’s database.\n",
    "\n",
    "## Data Description:\n",
    "A sample corpus is attached for your reference. Please enhance/add more data to the corpus using your linguistics skills.\n",
    "\n",
    "## Project Objective:\n",
    "Design a python based interactive semi - rule based chatbot which can do the following:\n",
    "1. Start chat session with greetings and ask what the user is looking for.\n",
    "2. Accept dynamic text based questions from the user. Reply back with relevant answer from the designed corpus.\n",
    "3. End the chat session only if the user requests to end else ask what the user is looking for. Loop continues till the user asks to end it.\n",
    "Hint: There are a lot of techniques using which one can clean and prepare the data which can be used to train a ML/DL classifier. Hence, it might\n",
    "require you to experiment, research, self learn and implement the above classifier. There might be many iterations between hand building the\n",
    "corpus and designing the best fit text classifier. As the quality and quantity of corpus increases the model’s performance i.e. ability to answer\n",
    "right questions also increases.\n",
    "Reference: https://www.mygreatlearning.com/blog/basics-of-building-an-artificial-intelligence-chatbot/\n",
    "\n",
    "## Evaluation: \n",
    "Evaluator will use linguistics to twist and turn sentences to ask questions on the topics described in DATA DESCRIPTION and check if\n",
    "the bot is giving relevant replies.\n"
   ]
  },
  {
   "cell_type": "markdown",
   "metadata": {
    "id": "s9droxCWAIxS"
   },
   "source": [
    "# Customer support"
   ]
  },
  {
   "cell_type": "markdown",
   "metadata": {
    "id": "7OLxLIoGAMoP"
   },
   "source": [
    "## Import the required Libraries"
   ]
  },
  {
   "cell_type": "code",
   "execution_count": 67,
   "metadata": {
    "colab": {
     "base_uri": "https://localhost:8080/"
    },
    "id": "pYaQVX1eOdCJ",
    "outputId": "0caff10c-f550-4207-c400-7524208c21eb"
   },
   "outputs": [
    {
     "name": "stdout",
     "output_type": "stream",
     "text": [
      "Collecting tflearn\n",
      "  Downloading tflearn-0.5.0.tar.gz (107 kB)\n",
      "\u001b[?25l\r",
      "\u001b[K     |███                             | 10 kB 24.9 MB/s eta 0:00:01\r",
      "\u001b[K     |██████                          | 20 kB 11.3 MB/s eta 0:00:01\r",
      "\u001b[K     |█████████▏                      | 30 kB 7.5 MB/s eta 0:00:01\r",
      "\u001b[K     |████████████▏                   | 40 kB 7.3 MB/s eta 0:00:01\r",
      "\u001b[K     |███████████████▎                | 51 kB 4.3 MB/s eta 0:00:01\r",
      "\u001b[K     |██████████████████▎             | 61 kB 5.1 MB/s eta 0:00:01\r",
      "\u001b[K     |█████████████████████▍          | 71 kB 5.2 MB/s eta 0:00:01\r",
      "\u001b[K     |████████████████████████▍       | 81 kB 5.8 MB/s eta 0:00:01\r",
      "\u001b[K     |███████████████████████████▌    | 92 kB 5.7 MB/s eta 0:00:01\r",
      "\u001b[K     |██████████████████████████████▌ | 102 kB 5.1 MB/s eta 0:00:01\r",
      "\u001b[K     |████████████████████████████████| 107 kB 5.1 MB/s \n",
      "\u001b[?25hRequirement already satisfied: numpy in /usr/local/lib/python3.7/dist-packages (from tflearn) (1.21.6)\n",
      "Requirement already satisfied: six in /usr/local/lib/python3.7/dist-packages (from tflearn) (1.15.0)\n",
      "Requirement already satisfied: Pillow in /usr/local/lib/python3.7/dist-packages (from tflearn) (7.1.2)\n",
      "Building wheels for collected packages: tflearn\n",
      "  Building wheel for tflearn (setup.py) ... \u001b[?25l\u001b[?25hdone\n",
      "  Created wheel for tflearn: filename=tflearn-0.5.0-py3-none-any.whl size=127299 sha256=f22cd1a35534149a5e6a624c27e6a017df6946b6261ec3cf42eb0a230a185726\n",
      "  Stored in directory: /root/.cache/pip/wheels/5f/14/2e/1d8e28cc47a5a931a2fb82438c9e37ef9246cc6a3774520271\n",
      "Successfully built tflearn\n",
      "Installing collected packages: tflearn\n",
      "Successfully installed tflearn-0.5.0\n",
      "WARNING:tensorflow:From /usr/local/lib/python3.7/dist-packages/tensorflow/python/compat/v2_compat.py:107: disable_resource_variables (from tensorflow.python.ops.variable_scope) is deprecated and will be removed in a future version.\n",
      "Instructions for updating:\n",
      "non-resource variables are not supported in the long term\n"
     ]
    }
   ],
   "source": [
    "!pip install tflearn\n",
    "import nltk\n",
    "import numpy\n",
    "import tensorflow\n",
    "import tflearn\n",
    "import random\n",
    "import json\n",
    "from nltk.chat.util import Chat, reflections\n",
    "from nltk.stem.lancaster import LancasterStemmer\n",
    "stemmer = LancasterStemmer()"
   ]
  },
  {
   "cell_type": "markdown",
   "metadata": {
    "id": "eUTqkV7Ilin3"
   },
   "source": [
    "## Algorithm for this text-based chatbot"
   ]
  },
  {
   "cell_type": "markdown",
   "metadata": {
    "id": "NEK0KB76lm3g"
   },
   "source": [
    "### Input the corpus"
   ]
  },
  {
   "cell_type": "code",
   "execution_count": 68,
   "metadata": {
    "colab": {
     "base_uri": "https://localhost:8080/"
    },
    "id": "Z938a7C9OhGH",
    "outputId": "796793da-167b-44d4-b166-d778f8cdbe18"
   },
   "outputs": [
    {
     "name": "stdout",
     "output_type": "stream",
     "text": [
      "{'intents': [{'tag': 'Intro', 'patterns': ['hi', 'how are you', 'is anyone there', 'hello', 'whats up', 'hey', 'yo', 'listen', 'please help me', 'i am learner from', 'i belong to', 'aiml batch', 'aifl batch', 'i am from', 'my pm is', 'blended', 'online', 'i am from', 'hey ya', 'talking to you for first time'], 'responses': ['Hello! how can i help you ?'], 'context_set': ''}, {'tag': 'Exit', 'patterns': ['thank you', 'thanks', 'cya', 'see you', 'later', 'see you later', 'goodbye', 'i am leaving', 'have a Good day', 'you helped me', 'thanks a lot', 'thanks a ton', 'you are the best', 'great help', 'too good', 'you are a good learning buddy'], 'responses': ['I hope I was able to assist you, Good Bye'], 'context_set': ''}, {'tag': 'Olympus', 'patterns': ['olympus', 'explain me how olympus works', 'I am not able to understand olympus', 'olympus window not working', 'no access to olympus', 'unable to see link in olympus', 'no link visible on olympus', 'whom to contact for olympus', 'lot of problem with olympus', 'olypus is not a good tool', 'lot of problems with olympus', 'how to use olympus', 'teach me olympus'], 'responses': ['Link: Olympus wiki'], 'context_set': ''}, {'tag': 'SL', 'patterns': ['i am not able to understand svm', 'explain me how machine learning works', 'i am not able to understand naive bayes', 'i am not able to understand logistic regression', 'i am not able to understand ensemble techb=niques', 'i am not able to understand knn', 'i am not able to understand knn imputer', 'i am not able to understand cross validation', 'i am not able to understand boosting', 'i am not able to understand random forest', 'i am not able to understand ada boosting', 'i am not able to understand gradient boosting', 'machine learning', 'ML', 'SL', 'supervised learning', 'knn', 'logistic regression', 'regression', 'classification', 'naive bayes', 'nb', 'ensemble techniques', 'bagging', 'boosting', 'ada boosting', 'ada', 'gradient boosting', 'hyper parameters'], 'responses': ['Link: Machine Learning wiki '], 'context_set': ''}, {'tag': 'NN', 'patterns': ['what is deep learning', 'unable to understand deep learning', 'explain me how deep learning works', 'i am not able to understand deep learning', 'not able to understand neural nets', 'very diffult to understand neural nets', 'unable to understand neural nets', 'ann', 'artificial intelligence', 'artificial neural networks', 'weights', 'activation function', 'hidden layers', 'softmax', 'sigmoid', 'relu', 'otimizer', 'forward propagation', 'backward propagation', 'epochs', 'epoch', 'what is an epoch', 'adam', 'sgd'], 'responses': ['Link: Neural Nets wiki'], 'context_set': ''}, {'tag': 'Bot', 'patterns': ['what is your name', 'who are you', 'name please', 'when are your hours of opertions', 'what are your working hours', 'hours of operation', 'working hours', 'hours'], 'responses': ['I am your virtual learning assistant'], 'context_set': ''}, {'tag': 'Profane', 'patterns': ['what the hell', 'bloody stupid bot', 'do you think you are very smart', 'screw you', 'i hate you', 'you are stupid', 'jerk', 'you are a joke', 'useless piece of shit'], 'responses': ['Please use respectful words'], 'context_set': ''}, {'tag': 'Ticket', 'patterns': ['my problem is not solved', 'you did not help me', 'not a good solution', 'bad solution', 'not good solution', 'no help', 'wasted my time', 'useless bot', 'create a ticket'], 'responses': ['Tarnsferring the request to your PM'], 'context_set': ''}]}\n"
     ]
    }
   ],
   "source": [
    "#importing corpus\n",
    "import json\n",
    "\n",
    "#importing corpus file\n",
    "with open(project_path + 'GL Bot.json') as file:\n",
    "    Corpus=json.load(file)\n",
    "\n",
    "#Display corpus\n",
    "print(Corpus)"
   ]
  },
  {
   "cell_type": "markdown",
   "metadata": {
    "id": "XW61dEftl1-_"
   },
   "source": [
    "### Perform data pre-processing on corpus:"
   ]
  },
  {
   "cell_type": "markdown",
   "metadata": {
    "id": "trzSthmml9Wi"
   },
   "source": [
    "### Text case [upper or lower] handling "
   ]
  },
  {
   "cell_type": "code",
   "execution_count": 69,
   "metadata": {
    "id": "ec5R_FPwPE8B"
   },
   "outputs": [],
   "source": [
    "def recursion_lower(x):\n",
    "    if type(x) is str:\n",
    "        return x.lower()\n",
    "    elif type(x) is list:\n",
    "        return [recursion_lower(i) for i in x]\n",
    "    elif type(x) is dict:\n",
    "        return {recursion_lower(k):recursion_lower(v) for k,v in x.items()}\n",
    "    else:\n",
    "        return x"
   ]
  },
  {
   "cell_type": "code",
   "execution_count": 70,
   "metadata": {
    "colab": {
     "base_uri": "https://localhost:8080/"
    },
    "id": "odN7CdORPFo3",
    "outputId": "2fef2d5b-fd5d-473f-d932-29f0e51211a4"
   },
   "outputs": [
    {
     "name": "stdout",
     "output_type": "stream",
     "text": [
      "{'intents': [{'tag': 'intro', 'patterns': ['hi', 'how are you', 'is anyone there', 'hello', 'whats up', 'hey', 'yo', 'listen', 'please help me', 'i am learner from', 'i belong to', 'aiml batch', 'aifl batch', 'i am from', 'my pm is', 'blended', 'online', 'i am from', 'hey ya', 'talking to you for first time'], 'responses': ['hello! how can i help you ?'], 'context_set': ''}, {'tag': 'exit', 'patterns': ['thank you', 'thanks', 'cya', 'see you', 'later', 'see you later', 'goodbye', 'i am leaving', 'have a good day', 'you helped me', 'thanks a lot', 'thanks a ton', 'you are the best', 'great help', 'too good', 'you are a good learning buddy'], 'responses': ['i hope i was able to assist you, good bye'], 'context_set': ''}, {'tag': 'olympus', 'patterns': ['olympus', 'explain me how olympus works', 'i am not able to understand olympus', 'olympus window not working', 'no access to olympus', 'unable to see link in olympus', 'no link visible on olympus', 'whom to contact for olympus', 'lot of problem with olympus', 'olypus is not a good tool', 'lot of problems with olympus', 'how to use olympus', 'teach me olympus'], 'responses': ['link: olympus wiki'], 'context_set': ''}, {'tag': 'sl', 'patterns': ['i am not able to understand svm', 'explain me how machine learning works', 'i am not able to understand naive bayes', 'i am not able to understand logistic regression', 'i am not able to understand ensemble techb=niques', 'i am not able to understand knn', 'i am not able to understand knn imputer', 'i am not able to understand cross validation', 'i am not able to understand boosting', 'i am not able to understand random forest', 'i am not able to understand ada boosting', 'i am not able to understand gradient boosting', 'machine learning', 'ml', 'sl', 'supervised learning', 'knn', 'logistic regression', 'regression', 'classification', 'naive bayes', 'nb', 'ensemble techniques', 'bagging', 'boosting', 'ada boosting', 'ada', 'gradient boosting', 'hyper parameters'], 'responses': ['link: machine learning wiki '], 'context_set': ''}, {'tag': 'nn', 'patterns': ['what is deep learning', 'unable to understand deep learning', 'explain me how deep learning works', 'i am not able to understand deep learning', 'not able to understand neural nets', 'very diffult to understand neural nets', 'unable to understand neural nets', 'ann', 'artificial intelligence', 'artificial neural networks', 'weights', 'activation function', 'hidden layers', 'softmax', 'sigmoid', 'relu', 'otimizer', 'forward propagation', 'backward propagation', 'epochs', 'epoch', 'what is an epoch', 'adam', 'sgd'], 'responses': ['link: neural nets wiki'], 'context_set': ''}, {'tag': 'bot', 'patterns': ['what is your name', 'who are you', 'name please', 'when are your hours of opertions', 'what are your working hours', 'hours of operation', 'working hours', 'hours'], 'responses': ['i am your virtual learning assistant'], 'context_set': ''}, {'tag': 'profane', 'patterns': ['what the hell', 'bloody stupid bot', 'do you think you are very smart', 'screw you', 'i hate you', 'you are stupid', 'jerk', 'you are a joke', 'useless piece of shit'], 'responses': ['please use respectful words'], 'context_set': ''}, {'tag': 'ticket', 'patterns': ['my problem is not solved', 'you did not help me', 'not a good solution', 'bad solution', 'not good solution', 'no help', 'wasted my time', 'useless bot', 'create a ticket'], 'responses': ['tarnsferring the request to your pm'], 'context_set': ''}]}\n"
     ]
    }
   ],
   "source": [
    "Corpus = recursion_lower(Corpus)\n",
    "print(Corpus)"
   ]
  },
  {
   "cell_type": "markdown",
   "metadata": {
    "id": "dc267ScPmCm6"
   },
   "source": [
    "### Tokenisation"
   ]
  },
  {
   "cell_type": "code",
   "execution_count": 71,
   "metadata": {
    "colab": {
     "base_uri": "https://localhost:8080/"
    },
    "id": "ddX1EJJiPHVW",
    "outputId": "dd8fc079-b0f3-48dd-b7d3-67e693b8d006"
   },
   "outputs": [
    {
     "name": "stdout",
     "output_type": "stream",
     "text": [
      "[nltk_data] Downloading package punkt to /root/nltk_data...\n",
      "[nltk_data]   Unzipping tokenizers/punkt.zip.\n"
     ]
    },
    {
     "data": {
      "text/plain": [
       "True"
      ]
     },
     "execution_count": 71,
     "metadata": {},
     "output_type": "execute_result"
    }
   ],
   "source": [
    "nltk.download('punkt')"
   ]
  },
  {
   "cell_type": "code",
   "execution_count": 72,
   "metadata": {
    "id": "b33NGwsoPI3f"
   },
   "outputs": [],
   "source": [
    "#Extract data\n",
    "W = [] #Tokens\n",
    "L = [] #Identified Tags or Labels\n",
    "doc_x = [] #Tokenised words\n",
    "doc_y = [] #Tags or labels\n",
    "\n",
    "for intent in Corpus['intents']:\n",
    "    for pattern in intent['patterns']:\n",
    "        w_temp = nltk.word_tokenize(pattern)\n",
    "        W.extend(w_temp)\n",
    "        doc_x.append(w_temp)\n",
    "        doc_y.append(intent[\"tag\"])\n",
    "        \n",
    "    #Add the missing tag if any\n",
    "    if intent['tag'] not in L:\n",
    "        L.append(intent['tag'])"
   ]
  },
  {
   "cell_type": "markdown",
   "metadata": {
    "id": "icOBn4o2nKwd"
   },
   "source": [
    "### Stemming"
   ]
  },
  {
   "cell_type": "code",
   "execution_count": 73,
   "metadata": {
    "id": "k_vD92S8nJEs"
   },
   "outputs": [],
   "source": [
    "# Stemming\n",
    "\n",
    "W = [stemmer.stem(w.lower()) for w in W if w!= \"?\"] #Stemming or learning the root word\n",
    "W = sorted(list(set(W))) #Sorted words\n",
    "L = sorted(L) #Sorted list of tags or labels\n",
    "Train = []\n",
    "Target = []"
   ]
  },
  {
   "cell_type": "markdown",
   "metadata": {
    "id": "e92TJmh_nQpf"
   },
   "source": [
    "### Generate BOW [Bag of Words]"
   ]
  },
  {
   "cell_type": "code",
   "execution_count": 74,
   "metadata": {
    "id": "LVaxUsRbnQ7t"
   },
   "outputs": [],
   "source": [
    "out_empty = [0 for _ in range(len(L))]\n",
    "\n",
    "#Loop to create bag of words and put the frequency count on each word\n",
    "for x,doc in enumerate(doc_x):\n",
    "    bag = []\n",
    "    \n",
    "    w_temp = [stemmer.stem(w.lower()) for w in doc]\n",
    "\n",
    "    for w in W:\n",
    "        if w in w_temp:\n",
    "            bag.append(1)\n",
    "        else:\n",
    "            bag.append(0)\n",
    "           \n",
    "    output_row = out_empty[:]\n",
    "    output_row[L.index(doc_y[x])] = 1\n",
    "        \n",
    "    Train.append(bag) #List\n",
    "    Target.append(output_row) #List"
   ]
  },
  {
   "cell_type": "markdown",
   "metadata": {
    "id": "FWj73rE7ndEW"
   },
   "source": [
    "### Generate one hot encoding for the target column"
   ]
  },
  {
   "cell_type": "code",
   "execution_count": 75,
   "metadata": {
    "id": "YjIMLfJ5ndNd"
   },
   "outputs": [],
   "source": [
    "Train = numpy.array(Train)\n",
    "Target = numpy.array(Target)"
   ]
  },
  {
   "cell_type": "code",
   "execution_count": 76,
   "metadata": {
    "colab": {
     "base_uri": "https://localhost:8080/"
    },
    "id": "jziDQIrQPJy3",
    "outputId": "1ec34691-731f-4266-9e37-03e2d2192423"
   },
   "outputs": [
    {
     "data": {
      "text/plain": [
       "8"
      ]
     },
     "execution_count": 76,
     "metadata": {},
     "output_type": "execute_result"
    }
   ],
   "source": [
    "len(Target[0])"
   ]
  },
  {
   "cell_type": "code",
   "execution_count": 77,
   "metadata": {
    "colab": {
     "base_uri": "https://localhost:8080/"
    },
    "id": "feXGUqQiPLlG",
    "outputId": "4a9f31dc-667e-4583-fc35-a032f93183b8"
   },
   "outputs": [
    {
     "data": {
      "text/plain": [
       "150"
      ]
     },
     "execution_count": 77,
     "metadata": {},
     "output_type": "execute_result"
    }
   ],
   "source": [
    "len(Train[0])"
   ]
  },
  {
   "cell_type": "code",
   "execution_count": 78,
   "metadata": {
    "colab": {
     "base_uri": "https://localhost:8080/"
    },
    "id": "UTmlI1q3mzgE",
    "outputId": "4d6c477f-f9e8-4754-b46f-4e5f8acd5f37"
   },
   "outputs": [
    {
     "data": {
      "text/plain": [
       "array([[0, 0, 1, ..., 0, 0, 0],\n",
       "       [0, 0, 1, ..., 0, 0, 0],\n",
       "       [0, 0, 1, ..., 0, 0, 0],\n",
       "       ...,\n",
       "       [0, 0, 0, ..., 0, 0, 1],\n",
       "       [0, 0, 0, ..., 0, 0, 1],\n",
       "       [0, 0, 0, ..., 0, 0, 1]])"
      ]
     },
     "execution_count": 78,
     "metadata": {},
     "output_type": "execute_result"
    }
   ],
   "source": [
    "Target"
   ]
  },
  {
   "cell_type": "code",
   "execution_count": 79,
   "metadata": {
    "colab": {
     "base_uri": "https://localhost:8080/"
    },
    "id": "cjVPpb19m0M_",
    "outputId": "cad6cfcf-07a0-4ee7-e032-2209c90ba023"
   },
   "outputs": [
    {
     "data": {
      "text/plain": [
       "array([[0, 0, 0, ..., 0, 0, 0],\n",
       "       [0, 0, 0, ..., 0, 0, 1],\n",
       "       [0, 0, 0, ..., 0, 0, 0],\n",
       "       ...,\n",
       "       [0, 0, 0, ..., 0, 0, 0],\n",
       "       [0, 0, 0, ..., 0, 0, 0],\n",
       "       [1, 0, 0, ..., 0, 0, 0]])"
      ]
     },
     "execution_count": 79,
     "metadata": {},
     "output_type": "execute_result"
    }
   ],
   "source": [
    "Train"
   ]
  },
  {
   "cell_type": "markdown",
   "metadata": {
    "id": "wvuJqoI1m6Q-"
   },
   "source": [
    "### Design a neural network to classify the words with TAGS as target outputs"
   ]
  },
  {
   "cell_type": "code",
   "execution_count": 80,
   "metadata": {
    "colab": {
     "base_uri": "https://localhost:8080/"
    },
    "id": "bU6SIyrWPMkv",
    "outputId": "1bdd5139-1d9b-492c-927f-0838858758a4"
   },
   "outputs": [
    {
     "name": "stdout",
     "output_type": "stream",
     "text": [
      "Train on 128 samples\n",
      "Epoch 1/200\n",
      "128/128 [==============================] - 0s 3ms/sample - loss: 2.0936 - acc: 0.1719\n",
      "Epoch 2/200\n",
      "128/128 [==============================] - 0s 301us/sample - loss: 2.0763 - acc: 0.1953\n",
      "Epoch 3/200\n",
      "128/128 [==============================] - 0s 417us/sample - loss: 2.0151 - acc: 0.2266\n",
      "Epoch 4/200\n",
      "128/128 [==============================] - 0s 348us/sample - loss: 1.9783 - acc: 0.2422\n",
      "Epoch 5/200\n",
      "128/128 [==============================] - 0s 312us/sample - loss: 1.9693 - acc: 0.2500\n",
      "Epoch 6/200\n",
      "128/128 [==============================] - 0s 432us/sample - loss: 1.9069 - acc: 0.3047\n",
      "Epoch 7/200\n",
      "128/128 [==============================] - 0s 388us/sample - loss: 1.9619 - acc: 0.2578\n",
      "Epoch 8/200\n",
      "128/128 [==============================] - 0s 303us/sample - loss: 1.9151 - acc: 0.2812\n",
      "Epoch 9/200\n",
      "128/128 [==============================] - 0s 331us/sample - loss: 1.8596 - acc: 0.2812\n",
      "Epoch 10/200\n",
      "128/128 [==============================] - 0s 359us/sample - loss: 1.8304 - acc: 0.2891\n",
      "Epoch 11/200\n",
      "128/128 [==============================] - 0s 368us/sample - loss: 1.8226 - acc: 0.3359\n",
      "Epoch 12/200\n",
      "128/128 [==============================] - 0s 316us/sample - loss: 1.7855 - acc: 0.3438\n",
      "Epoch 13/200\n",
      "128/128 [==============================] - 0s 397us/sample - loss: 1.7830 - acc: 0.3281\n",
      "Epoch 14/200\n",
      "128/128 [==============================] - 0s 397us/sample - loss: 1.7610 - acc: 0.3359\n",
      "Epoch 15/200\n",
      "128/128 [==============================] - 0s 328us/sample - loss: 1.7638 - acc: 0.3672\n",
      "Epoch 16/200\n",
      "128/128 [==============================] - 0s 350us/sample - loss: 1.6973 - acc: 0.3906\n",
      "Epoch 17/200\n",
      "128/128 [==============================] - 0s 307us/sample - loss: 1.6904 - acc: 0.3828\n",
      "Epoch 18/200\n",
      "128/128 [==============================] - 0s 286us/sample - loss: 1.7126 - acc: 0.3516\n",
      "Epoch 19/200\n",
      "128/128 [==============================] - 0s 359us/sample - loss: 1.7196 - acc: 0.3750\n",
      "Epoch 20/200\n",
      "128/128 [==============================] - 0s 406us/sample - loss: 1.7177 - acc: 0.3906\n",
      "Epoch 21/200\n",
      "128/128 [==============================] - 0s 269us/sample - loss: 1.6772 - acc: 0.4062\n",
      "Epoch 22/200\n",
      "128/128 [==============================] - 0s 370us/sample - loss: 1.5674 - acc: 0.4375\n",
      "Epoch 23/200\n",
      "128/128 [==============================] - 0s 298us/sample - loss: 1.5563 - acc: 0.4688\n",
      "Epoch 24/200\n",
      "128/128 [==============================] - 0s 274us/sample - loss: 1.5814 - acc: 0.4062\n",
      "Epoch 25/200\n",
      "128/128 [==============================] - 0s 398us/sample - loss: 1.4921 - acc: 0.4453\n",
      "Epoch 26/200\n",
      "128/128 [==============================] - 0s 347us/sample - loss: 1.5356 - acc: 0.4453\n",
      "Epoch 27/200\n",
      "128/128 [==============================] - 0s 364us/sample - loss: 1.3796 - acc: 0.4531\n",
      "Epoch 28/200\n",
      "128/128 [==============================] - 0s 365us/sample - loss: 1.4581 - acc: 0.4766\n",
      "Epoch 29/200\n",
      "128/128 [==============================] - 0s 364us/sample - loss: 1.4592 - acc: 0.4375\n",
      "Epoch 30/200\n",
      "128/128 [==============================] - 0s 286us/sample - loss: 1.4510 - acc: 0.5000\n",
      "Epoch 31/200\n",
      "128/128 [==============================] - 0s 334us/sample - loss: 1.2989 - acc: 0.5156\n",
      "Epoch 32/200\n",
      "128/128 [==============================] - 0s 358us/sample - loss: 1.2812 - acc: 0.5703\n",
      "Epoch 33/200\n",
      "128/128 [==============================] - 0s 285us/sample - loss: 1.2855 - acc: 0.5625\n",
      "Epoch 34/200\n",
      "128/128 [==============================] - 0s 296us/sample - loss: 1.2382 - acc: 0.5703\n",
      "Epoch 35/200\n",
      "128/128 [==============================] - 0s 358us/sample - loss: 1.2631 - acc: 0.5625\n",
      "Epoch 36/200\n",
      "128/128 [==============================] - 0s 293us/sample - loss: 1.1741 - acc: 0.6406\n",
      "Epoch 37/200\n",
      "128/128 [==============================] - 0s 483us/sample - loss: 1.2503 - acc: 0.5703\n",
      "Epoch 38/200\n",
      "128/128 [==============================] - 0s 346us/sample - loss: 1.1557 - acc: 0.6172\n",
      "Epoch 39/200\n",
      "128/128 [==============================] - 0s 319us/sample - loss: 1.1188 - acc: 0.6875\n",
      "Epoch 40/200\n",
      "128/128 [==============================] - 0s 346us/sample - loss: 1.1267 - acc: 0.5625\n",
      "Epoch 41/200\n",
      "128/128 [==============================] - 0s 373us/sample - loss: 1.1278 - acc: 0.6094\n",
      "Epoch 42/200\n",
      "128/128 [==============================] - 0s 352us/sample - loss: 1.0377 - acc: 0.6250\n",
      "Epoch 43/200\n",
      "128/128 [==============================] - 0s 311us/sample - loss: 1.0265 - acc: 0.6484\n",
      "Epoch 44/200\n",
      "128/128 [==============================] - 0s 345us/sample - loss: 1.0437 - acc: 0.6172\n",
      "Epoch 45/200\n",
      "128/128 [==============================] - 0s 360us/sample - loss: 0.9731 - acc: 0.6719\n",
      "Epoch 46/200\n",
      "128/128 [==============================] - 0s 340us/sample - loss: 0.8913 - acc: 0.7109\n",
      "Epoch 47/200\n",
      "128/128 [==============================] - 0s 314us/sample - loss: 0.9151 - acc: 0.6953\n",
      "Epoch 48/200\n",
      "128/128 [==============================] - 0s 338us/sample - loss: 1.0231 - acc: 0.6875\n",
      "Epoch 49/200\n",
      "128/128 [==============================] - 0s 353us/sample - loss: 0.9448 - acc: 0.6797\n",
      "Epoch 50/200\n",
      "128/128 [==============================] - 0s 380us/sample - loss: 0.9146 - acc: 0.6562\n",
      "Epoch 51/200\n",
      "128/128 [==============================] - 0s 339us/sample - loss: 0.8865 - acc: 0.7109\n",
      "Epoch 52/200\n",
      "128/128 [==============================] - 0s 504us/sample - loss: 0.8074 - acc: 0.7500\n",
      "Epoch 53/200\n",
      "128/128 [==============================] - 0s 368us/sample - loss: 0.8040 - acc: 0.7422\n",
      "Epoch 54/200\n",
      "128/128 [==============================] - 0s 358us/sample - loss: 0.8513 - acc: 0.7031\n",
      "Epoch 55/200\n",
      "128/128 [==============================] - 0s 394us/sample - loss: 0.7871 - acc: 0.7344\n",
      "Epoch 56/200\n",
      "128/128 [==============================] - 0s 278us/sample - loss: 0.8027 - acc: 0.7031\n",
      "Epoch 57/200\n",
      "128/128 [==============================] - 0s 290us/sample - loss: 0.8013 - acc: 0.7109\n",
      "Epoch 58/200\n",
      "128/128 [==============================] - 0s 373us/sample - loss: 0.6887 - acc: 0.7969\n",
      "Epoch 59/200\n",
      "128/128 [==============================] - 0s 356us/sample - loss: 0.7348 - acc: 0.7344\n",
      "Epoch 60/200\n",
      "128/128 [==============================] - 0s 327us/sample - loss: 0.6720 - acc: 0.7969\n",
      "Epoch 61/200\n",
      "128/128 [==============================] - 0s 301us/sample - loss: 0.6660 - acc: 0.7734\n",
      "Epoch 62/200\n",
      "128/128 [==============================] - 0s 378us/sample - loss: 0.6352 - acc: 0.8047\n",
      "Epoch 63/200\n",
      "128/128 [==============================] - 0s 319us/sample - loss: 0.6372 - acc: 0.8047\n",
      "Epoch 64/200\n",
      "128/128 [==============================] - 0s 314us/sample - loss: 0.6091 - acc: 0.8047\n",
      "Epoch 65/200\n",
      "128/128 [==============================] - 0s 523us/sample - loss: 0.6896 - acc: 0.7891\n",
      "Epoch 66/200\n",
      "128/128 [==============================] - 0s 373us/sample - loss: 0.6073 - acc: 0.8047\n",
      "Epoch 67/200\n",
      "128/128 [==============================] - 0s 389us/sample - loss: 0.6067 - acc: 0.7969\n",
      "Epoch 68/200\n",
      "128/128 [==============================] - 0s 373us/sample - loss: 0.6110 - acc: 0.8203\n",
      "Epoch 69/200\n",
      "128/128 [==============================] - 0s 341us/sample - loss: 0.5971 - acc: 0.8203\n",
      "Epoch 70/200\n",
      "128/128 [==============================] - 0s 305us/sample - loss: 0.5853 - acc: 0.8359\n",
      "Epoch 71/200\n",
      "128/128 [==============================] - 0s 293us/sample - loss: 0.5732 - acc: 0.8594\n",
      "Epoch 72/200\n",
      "128/128 [==============================] - 0s 326us/sample - loss: 0.5687 - acc: 0.8047\n",
      "Epoch 73/200\n",
      "128/128 [==============================] - 0s 316us/sample - loss: 0.6130 - acc: 0.7734\n",
      "Epoch 74/200\n",
      "128/128 [==============================] - 0s 355us/sample - loss: 0.5767 - acc: 0.7891\n",
      "Epoch 75/200\n",
      "128/128 [==============================] - 0s 402us/sample - loss: 0.5910 - acc: 0.7734\n",
      "Epoch 76/200\n",
      "128/128 [==============================] - 0s 364us/sample - loss: 0.4586 - acc: 0.8828\n",
      "Epoch 77/200\n",
      "128/128 [==============================] - 0s 336us/sample - loss: 0.4389 - acc: 0.8359\n",
      "Epoch 78/200\n",
      "128/128 [==============================] - 0s 395us/sample - loss: 0.5128 - acc: 0.8438\n",
      "Epoch 79/200\n",
      "128/128 [==============================] - 0s 455us/sample - loss: 0.5344 - acc: 0.8281\n",
      "Epoch 80/200\n",
      "128/128 [==============================] - 0s 376us/sample - loss: 0.4614 - acc: 0.8750\n",
      "Epoch 81/200\n",
      "128/128 [==============================] - 0s 319us/sample - loss: 0.4630 - acc: 0.8750\n",
      "Epoch 82/200\n",
      "128/128 [==============================] - 0s 334us/sample - loss: 0.4204 - acc: 0.8906\n",
      "Epoch 83/200\n",
      "128/128 [==============================] - 0s 378us/sample - loss: 0.4354 - acc: 0.8672\n",
      "Epoch 84/200\n",
      "128/128 [==============================] - 0s 354us/sample - loss: 0.4604 - acc: 0.8672\n",
      "Epoch 85/200\n",
      "128/128 [==============================] - 0s 315us/sample - loss: 0.4177 - acc: 0.8672\n",
      "Epoch 86/200\n",
      "128/128 [==============================] - 0s 294us/sample - loss: 0.4273 - acc: 0.8750\n",
      "Epoch 87/200\n",
      "128/128 [==============================] - 0s 322us/sample - loss: 0.3963 - acc: 0.8672\n",
      "Epoch 88/200\n",
      "128/128 [==============================] - 0s 315us/sample - loss: 0.4140 - acc: 0.8750\n",
      "Epoch 89/200\n",
      "128/128 [==============================] - 0s 411us/sample - loss: 0.3895 - acc: 0.8516\n",
      "Epoch 90/200\n",
      "128/128 [==============================] - 0s 283us/sample - loss: 0.3227 - acc: 0.9062\n",
      "Epoch 91/200\n",
      "128/128 [==============================] - 0s 411us/sample - loss: 0.3088 - acc: 0.9062\n",
      "Epoch 92/200\n",
      "128/128 [==============================] - 0s 329us/sample - loss: 0.4090 - acc: 0.8438\n",
      "Epoch 93/200\n",
      "128/128 [==============================] - 0s 341us/sample - loss: 0.4383 - acc: 0.8672\n",
      "Epoch 94/200\n",
      "128/128 [==============================] - 0s 364us/sample - loss: 0.3311 - acc: 0.8984\n",
      "Epoch 95/200\n",
      "128/128 [==============================] - 0s 289us/sample - loss: 0.4188 - acc: 0.8359\n",
      "Epoch 96/200\n",
      "128/128 [==============================] - 0s 352us/sample - loss: 0.3800 - acc: 0.8750\n",
      "Epoch 97/200\n",
      "128/128 [==============================] - 0s 328us/sample - loss: 0.3571 - acc: 0.9062\n",
      "Epoch 98/200\n",
      "128/128 [==============================] - 0s 398us/sample - loss: 0.3421 - acc: 0.8906\n",
      "Epoch 99/200\n",
      "128/128 [==============================] - 0s 360us/sample - loss: 0.3211 - acc: 0.8984\n",
      "Epoch 100/200\n",
      "128/128 [==============================] - 0s 331us/sample - loss: 0.2783 - acc: 0.9297\n",
      "Epoch 101/200\n",
      "128/128 [==============================] - 0s 270us/sample - loss: 0.2875 - acc: 0.9062\n",
      "Epoch 102/200\n",
      "128/128 [==============================] - 0s 258us/sample - loss: 0.3330 - acc: 0.8672\n",
      "Epoch 103/200\n",
      "128/128 [==============================] - 0s 264us/sample - loss: 0.2899 - acc: 0.8984\n",
      "Epoch 104/200\n",
      "128/128 [==============================] - 0s 280us/sample - loss: 0.2623 - acc: 0.9219\n",
      "Epoch 105/200\n",
      "128/128 [==============================] - 0s 266us/sample - loss: 0.3092 - acc: 0.8828\n",
      "Epoch 106/200\n",
      "128/128 [==============================] - 0s 262us/sample - loss: 0.3164 - acc: 0.8984\n",
      "Epoch 107/200\n",
      "128/128 [==============================] - 0s 266us/sample - loss: 0.3155 - acc: 0.8750\n",
      "Epoch 108/200\n",
      "128/128 [==============================] - 0s 260us/sample - loss: 0.2668 - acc: 0.9062\n",
      "Epoch 109/200\n",
      "128/128 [==============================] - 0s 315us/sample - loss: 0.2398 - acc: 0.9062\n",
      "Epoch 110/200\n",
      "128/128 [==============================] - 0s 291us/sample - loss: 0.2490 - acc: 0.9219\n",
      "Epoch 111/200\n",
      "128/128 [==============================] - 0s 304us/sample - loss: 0.3274 - acc: 0.8906\n",
      "Epoch 112/200\n",
      "128/128 [==============================] - 0s 279us/sample - loss: 0.2751 - acc: 0.9062\n",
      "Epoch 113/200\n",
      "128/128 [==============================] - 0s 273us/sample - loss: 0.2577 - acc: 0.9141\n",
      "Epoch 114/200\n",
      "128/128 [==============================] - 0s 252us/sample - loss: 0.3083 - acc: 0.9219\n",
      "Epoch 115/200\n",
      "128/128 [==============================] - 0s 275us/sample - loss: 0.2535 - acc: 0.9062\n",
      "Epoch 116/200\n",
      "128/128 [==============================] - 0s 276us/sample - loss: 0.2444 - acc: 0.9141\n",
      "Epoch 117/200\n",
      "128/128 [==============================] - 0s 299us/sample - loss: 0.2066 - acc: 0.9453\n",
      "Epoch 118/200\n",
      "128/128 [==============================] - 0s 266us/sample - loss: 0.2128 - acc: 0.9219\n",
      "Epoch 119/200\n",
      "128/128 [==============================] - 0s 375us/sample - loss: 0.1936 - acc: 0.9375\n",
      "Epoch 120/200\n",
      "128/128 [==============================] - 0s 272us/sample - loss: 0.2818 - acc: 0.8984\n",
      "Epoch 121/200\n",
      "128/128 [==============================] - 0s 291us/sample - loss: 0.1634 - acc: 0.9609\n",
      "Epoch 122/200\n",
      "128/128 [==============================] - 0s 282us/sample - loss: 0.2334 - acc: 0.9062\n",
      "Epoch 123/200\n",
      "128/128 [==============================] - 0s 295us/sample - loss: 0.3452 - acc: 0.8750\n",
      "Epoch 124/200\n",
      "128/128 [==============================] - 0s 287us/sample - loss: 0.2028 - acc: 0.9297\n",
      "Epoch 125/200\n",
      "128/128 [==============================] - 0s 282us/sample - loss: 0.3123 - acc: 0.9219\n",
      "Epoch 126/200\n",
      "128/128 [==============================] - 0s 367us/sample - loss: 0.1638 - acc: 0.9531\n",
      "Epoch 127/200\n",
      "128/128 [==============================] - 0s 287us/sample - loss: 0.2051 - acc: 0.9375\n",
      "Epoch 128/200\n",
      "128/128 [==============================] - 0s 313us/sample - loss: 0.2809 - acc: 0.8906\n",
      "Epoch 129/200\n",
      "128/128 [==============================] - 0s 276us/sample - loss: 0.2103 - acc: 0.9219\n",
      "Epoch 130/200\n",
      "128/128 [==============================] - 0s 277us/sample - loss: 0.2450 - acc: 0.9297\n",
      "Epoch 131/200\n",
      "128/128 [==============================] - 0s 286us/sample - loss: 0.1985 - acc: 0.9219\n",
      "Epoch 132/200\n",
      "128/128 [==============================] - 0s 294us/sample - loss: 0.1938 - acc: 0.9219\n",
      "Epoch 133/200\n",
      "128/128 [==============================] - 0s 277us/sample - loss: 0.1827 - acc: 0.9453\n",
      "Epoch 134/200\n",
      "128/128 [==============================] - 0s 451us/sample - loss: 0.2281 - acc: 0.9141\n",
      "Epoch 135/200\n",
      "128/128 [==============================] - 0s 347us/sample - loss: 0.1932 - acc: 0.9531\n",
      "Epoch 136/200\n",
      "128/128 [==============================] - 0s 372us/sample - loss: 0.1689 - acc: 0.9453\n",
      "Epoch 137/200\n",
      "128/128 [==============================] - 0s 305us/sample - loss: 0.1355 - acc: 0.9688\n",
      "Epoch 138/200\n",
      "128/128 [==============================] - 0s 316us/sample - loss: 0.1858 - acc: 0.9375\n",
      "Epoch 139/200\n",
      "128/128 [==============================] - 0s 382us/sample - loss: 0.1857 - acc: 0.9375\n",
      "Epoch 140/200\n",
      "128/128 [==============================] - 0s 423us/sample - loss: 0.1605 - acc: 0.9375\n",
      "Epoch 141/200\n",
      "128/128 [==============================] - 0s 412us/sample - loss: 0.2238 - acc: 0.9531\n",
      "Epoch 142/200\n",
      "128/128 [==============================] - 0s 354us/sample - loss: 0.1459 - acc: 0.9531\n",
      "Epoch 143/200\n",
      "128/128 [==============================] - 0s 372us/sample - loss: 0.1880 - acc: 0.9375\n",
      "Epoch 144/200\n",
      "128/128 [==============================] - 0s 375us/sample - loss: 0.2050 - acc: 0.9453\n",
      "Epoch 145/200\n",
      "128/128 [==============================] - 0s 352us/sample - loss: 0.2180 - acc: 0.9141\n",
      "Epoch 146/200\n",
      "128/128 [==============================] - 0s 348us/sample - loss: 0.2909 - acc: 0.9219\n",
      "Epoch 147/200\n",
      "128/128 [==============================] - 0s 489us/sample - loss: 0.1458 - acc: 0.9609\n",
      "Epoch 148/200\n",
      "128/128 [==============================] - 0s 267us/sample - loss: 0.2183 - acc: 0.9219\n",
      "Epoch 149/200\n",
      "128/128 [==============================] - 0s 294us/sample - loss: 0.1698 - acc: 0.9219\n",
      "Epoch 150/200\n",
      "128/128 [==============================] - 0s 289us/sample - loss: 0.1525 - acc: 0.9375\n",
      "Epoch 151/200\n",
      "128/128 [==============================] - 0s 279us/sample - loss: 0.2222 - acc: 0.9141\n",
      "Epoch 152/200\n",
      "128/128 [==============================] - 0s 313us/sample - loss: 0.1409 - acc: 0.9531\n",
      "Epoch 153/200\n",
      "128/128 [==============================] - 0s 292us/sample - loss: 0.1384 - acc: 0.9531\n",
      "Epoch 154/200\n",
      "128/128 [==============================] - 0s 281us/sample - loss: 0.1664 - acc: 0.9453\n",
      "Epoch 155/200\n",
      "128/128 [==============================] - 0s 322us/sample - loss: 0.1263 - acc: 0.9609\n",
      "Epoch 156/200\n",
      "128/128 [==============================] - 0s 294us/sample - loss: 0.1414 - acc: 0.9531\n",
      "Epoch 157/200\n",
      "128/128 [==============================] - 0s 266us/sample - loss: 0.1533 - acc: 0.9375\n",
      "Epoch 158/200\n",
      "128/128 [==============================] - 0s 299us/sample - loss: 0.1991 - acc: 0.9219\n",
      "Epoch 159/200\n",
      "128/128 [==============================] - 0s 285us/sample - loss: 0.1524 - acc: 0.9453\n",
      "Epoch 160/200\n",
      "128/128 [==============================] - 0s 334us/sample - loss: 0.2233 - acc: 0.9297\n",
      "Epoch 161/200\n",
      "128/128 [==============================] - 0s 256us/sample - loss: 0.1562 - acc: 0.9609\n",
      "Epoch 162/200\n",
      "128/128 [==============================] - 0s 290us/sample - loss: 0.1434 - acc: 0.9297\n",
      "Epoch 163/200\n",
      "128/128 [==============================] - 0s 286us/sample - loss: 0.0945 - acc: 0.9844\n",
      "Epoch 164/200\n",
      "128/128 [==============================] - 0s 306us/sample - loss: 0.1634 - acc: 0.9531\n",
      "Epoch 165/200\n",
      "128/128 [==============================] - 0s 299us/sample - loss: 0.1886 - acc: 0.9297\n",
      "Epoch 166/200\n",
      "128/128 [==============================] - 0s 292us/sample - loss: 0.1233 - acc: 0.9531\n",
      "Epoch 167/200\n",
      "128/128 [==============================] - 0s 269us/sample - loss: 0.1601 - acc: 0.9375\n",
      "Epoch 168/200\n",
      "128/128 [==============================] - 0s 293us/sample - loss: 0.1291 - acc: 0.9375\n",
      "Epoch 169/200\n",
      "128/128 [==============================] - 0s 306us/sample - loss: 0.1576 - acc: 0.9375\n",
      "Epoch 170/200\n",
      "128/128 [==============================] - 0s 326us/sample - loss: 0.1107 - acc: 0.9688\n",
      "Epoch 171/200\n",
      "128/128 [==============================] - 0s 299us/sample - loss: 0.0926 - acc: 0.9688\n",
      "Epoch 172/200\n",
      "128/128 [==============================] - 0s 294us/sample - loss: 0.1171 - acc: 0.9609\n",
      "Epoch 173/200\n",
      "128/128 [==============================] - 0s 287us/sample - loss: 0.2063 - acc: 0.9141\n",
      "Epoch 174/200\n",
      "128/128 [==============================] - 0s 317us/sample - loss: 0.1469 - acc: 0.9375\n",
      "Epoch 175/200\n",
      "128/128 [==============================] - 0s 309us/sample - loss: 0.1360 - acc: 0.9453\n",
      "Epoch 176/200\n",
      "128/128 [==============================] - 0s 282us/sample - loss: 0.1307 - acc: 0.9453\n",
      "Epoch 177/200\n",
      "128/128 [==============================] - 0s 250us/sample - loss: 0.2037 - acc: 0.9453\n",
      "Epoch 178/200\n",
      "128/128 [==============================] - 0s 272us/sample - loss: 0.2036 - acc: 0.9297\n",
      "Epoch 179/200\n",
      "128/128 [==============================] - 0s 282us/sample - loss: 0.1932 - acc: 0.9219\n",
      "Epoch 180/200\n",
      "128/128 [==============================] - 0s 308us/sample - loss: 0.1694 - acc: 0.9375\n",
      "Epoch 181/200\n",
      "128/128 [==============================] - 0s 271us/sample - loss: 0.1187 - acc: 0.9688\n",
      "Epoch 182/200\n",
      "128/128 [==============================] - 0s 274us/sample - loss: 0.1452 - acc: 0.9453\n",
      "Epoch 183/200\n",
      "128/128 [==============================] - 0s 281us/sample - loss: 0.1633 - acc: 0.9453\n",
      "Epoch 184/200\n",
      "128/128 [==============================] - 0s 283us/sample - loss: 0.1010 - acc: 0.9766\n",
      "Epoch 185/200\n",
      "128/128 [==============================] - 0s 354us/sample - loss: 0.1098 - acc: 0.9453\n",
      "Epoch 186/200\n",
      "128/128 [==============================] - 0s 317us/sample - loss: 0.1994 - acc: 0.9375\n",
      "Epoch 187/200\n",
      "128/128 [==============================] - 0s 297us/sample - loss: 0.1290 - acc: 0.9609\n",
      "Epoch 188/200\n",
      "128/128 [==============================] - 0s 312us/sample - loss: 0.1801 - acc: 0.9531\n",
      "Epoch 189/200\n",
      "128/128 [==============================] - 0s 300us/sample - loss: 0.1345 - acc: 0.9766\n",
      "Epoch 190/200\n",
      "128/128 [==============================] - 0s 314us/sample - loss: 0.0962 - acc: 0.9609\n",
      "Epoch 191/200\n",
      "128/128 [==============================] - 0s 278us/sample - loss: 0.1821 - acc: 0.9609\n",
      "Epoch 192/200\n",
      "128/128 [==============================] - 0s 270us/sample - loss: 0.1327 - acc: 0.9531\n",
      "Epoch 193/200\n",
      "128/128 [==============================] - 0s 259us/sample - loss: 0.0986 - acc: 0.9766\n",
      "Epoch 194/200\n",
      "128/128 [==============================] - 0s 303us/sample - loss: 0.1214 - acc: 0.9609\n",
      "Epoch 195/200\n",
      "128/128 [==============================] - 0s 295us/sample - loss: 0.1343 - acc: 0.9531\n",
      "Epoch 196/200\n",
      "128/128 [==============================] - 0s 354us/sample - loss: 0.1596 - acc: 0.9375\n",
      "Epoch 197/200\n",
      "128/128 [==============================] - 0s 289us/sample - loss: 0.1244 - acc: 0.9453\n",
      "Epoch 198/200\n",
      "128/128 [==============================] - 0s 270us/sample - loss: 0.1024 - acc: 0.9688\n",
      "Epoch 199/200\n",
      "128/128 [==============================] - 0s 297us/sample - loss: 0.2647 - acc: 0.9453\n",
      "Epoch 200/200\n",
      "128/128 [==============================] - 0s 303us/sample - loss: 0.1036 - acc: 0.9609\n",
      "model created\n"
     ]
    }
   ],
   "source": [
    "from keras.models import Sequential\n",
    "from keras.layers import Dense, Activation, Dropout\n",
    "from tensorflow.keras.optimizers import SGD\n",
    "import random\n",
    "model = Sequential()\n",
    "model.add(Dense(64, input_shape=(len(Train[0]),), activation='relu'))\n",
    "model.add(Dropout(0.5))\n",
    "model.add(Dense(32, activation='relu'))\n",
    "model.add(Dropout(0.5))\n",
    "model.add(Dense(len(Target[0]), activation='softmax'))\n",
    "# Compile model. Stochastic gradient descent with Nesterov accelerated gradient gives good results for this model\n",
    "sgd = SGD(lr=0.01, decay=1e-6, momentum=0.9, nesterov=True)\n",
    "model.compile(loss='categorical_crossentropy', metrics=['accuracy'])\n",
    "#fitting and saving the model \n",
    "hist = model.fit(Train, Target, epochs=200, batch_size=5, verbose=1)\n",
    "model.save('chatbot_model.h5', hist)\n",
    "print(\"model created\")"
   ]
  },
  {
   "cell_type": "markdown",
   "metadata": {
    "id": "wmr1c9eBn23c"
   },
   "source": [
    "### Defination of Bag Of Words"
   ]
  },
  {
   "cell_type": "code",
   "execution_count": 81,
   "metadata": {
    "id": "0gvVNx_VPNvo"
   },
   "outputs": [],
   "source": [
    "def bag_of_words(inp, W):\n",
    "    bag = [0 for _ in range(len(W))]\n",
    "\n",
    "    inp_W = nltk.word_tokenize(inp)\n",
    "    inp_W = [stemmer.stem(W.lower()) for W in inp_W]\n",
    "\n",
    "    for t in inp_W:\n",
    "        for i, w in enumerate(W):\n",
    "            if w == t:\n",
    "                bag[i] = 1\n",
    "            \n",
    "    return numpy.array(bag)"
   ]
  },
  {
   "cell_type": "markdown",
   "metadata": {
    "id": "Qa-yurMIn-v5"
   },
   "source": [
    "### Design a chat utility as a function to interact with the user till the user calls a “quit”"
   ]
  },
  {
   "cell_type": "markdown",
   "metadata": {
    "id": "y9mynYSxoBzK"
   },
   "source": [
    "### If the user does not understand or finds the bot’s answer irrelevant, the user calls a “*” asking the bot to re-evaluate what the user has asked"
   ]
  },
  {
   "cell_type": "code",
   "execution_count": 82,
   "metadata": {
    "id": "VvhExKeNPV0Y"
   },
   "outputs": [],
   "source": [
    "#Text chat utility function\n",
    "import random\n",
    "def chat():\n",
    "    print(\"Chat with Surajit(type:stop to quit)\")\n",
    "    print(\"If answer is not right(type:*)\")\n",
    "    while True:\n",
    "        inp=input(\"\\n\\nYou:\")\n",
    "        if inp.lower()==\"*\":\n",
    "            print(\"BOT:Please rephrase your question and try again\")\n",
    "        if inp.lower()==\"quit\":\n",
    "            break\n",
    "            \n",
    "        results=model.predict([[bag_of_words(inp,W)]])\n",
    "        results_index=numpy.argmax(results)\n",
    "        tag=L[results_index]\n",
    "        \n",
    "        for tg in Corpus[\"intents\"]:\n",
    "            if tg['tag']==tag:\n",
    "                responses=tg['responses']\n",
    "        print(random.choice(responses))"
   ]
  },
  {
   "cell_type": "markdown",
   "metadata": {
    "id": "18QyTqnZoHJB"
   },
   "source": [
    "### Run the chat utility function"
   ]
  },
  {
   "cell_type": "code",
   "execution_count": 83,
   "metadata": {
    "colab": {
     "base_uri": "https://localhost:8080/"
    },
    "id": "0ZI7sjPOPXF_",
    "outputId": "84a540c3-df0e-44c2-f3bb-898a146a4bfb"
   },
   "outputs": [
    {
     "name": "stdout",
     "output_type": "stream",
     "text": [
      "Chat with Surajit(type:stop to quit)\n",
      "If answer is not right(type:*)\n",
      "\n",
      "\n",
      "You:hello\n",
      "hello! how can i help you ?\n",
      "\n",
      "\n",
      "You:olympus\n",
      "link: olympus wiki\n",
      "\n",
      "\n",
      "You:*\n",
      "BOT:Please rephrase your question and try again\n",
      "hello! how can i help you ?\n",
      "\n",
      "\n",
      "You:not good\n",
      "tarnsferring the request to your pm\n",
      "\n",
      "\n",
      "You:stupid bot\n",
      "please use respectful words\n",
      "\n",
      "\n",
      "You:you are good\n",
      "i hope i was able to assist you, good bye\n",
      "\n",
      "\n",
      "You:machine learning\n",
      "link: machine learning wiki \n",
      "\n",
      "\n",
      "You:Surajit\n",
      "hello! how can i help you ?\n",
      "\n",
      "\n",
      "You:what is your name?\n",
      "i am your virtual learning assistant\n",
      "\n",
      "\n",
      "You:thanks\n",
      "i hope i was able to assist you, good bye\n",
      "\n",
      "\n",
      "You:bye\n",
      "hello! how can i help you ?\n",
      "\n",
      "\n",
      "You:quit\n"
     ]
    }
   ],
   "source": [
    "chat()"
   ]
  },
  {
   "cell_type": "markdown",
   "metadata": {
    "id": "GO8X_foaA8Yf"
   },
   "source": [
    "## Simple Text-based Chatbot using NLTK with Python"
   ]
  },
  {
   "cell_type": "code",
   "execution_count": 137,
   "metadata": {
    "id": "2gPzvPUZBOkM"
   },
   "outputs": [],
   "source": [
    "#create a variable named pairs\n",
    "pairs =[\n",
    "    [\n",
    "        r\"(.*)my name is (.*)\", #request\n",
    "        [\"Hello %2, How are you today ?\",] #response\n",
    "    ],\n",
    "        [\n",
    "        r\"(.*)help(.*) \",\n",
    "        [\"I can help you \",]\n",
    "    ],\n",
    "         [\n",
    "        r\"(.*) your name ?\",\n",
    "        [\"My name is Suri, but you can just call me Robo Sur and I'm a chatbot .\",]\n",
    "    ],\n",
    "        [\n",
    "        r\"(.*) are you ?\",\n",
    "        [\"My name is Suri, but you can just call me Robo Sur and I'm a chatbot .\",]\n",
    "    ],\n",
    "        [\n",
    "        r\"how are you (.*) ?\",\n",
    "        [\"I'm doing very well\", \"i am great !\"]\n",
    "    ],\n",
    "        [\n",
    "        r\"sorry (.*)\",\n",
    "        [\"Its alright\",\"Its OK, never mind that\",]\n",
    "    ],\n",
    "        [\n",
    "        r\"i'm (.*) (good|well|okay|ok)\",\n",
    "        [\"Nice to hear that\",\"Alright, great !\",]\n",
    "    ],\n",
    "        [\n",
    "        r\"(hi|hey|hello|hola|holla)(.*)\",\n",
    "        [\"Hello\", \"Hey there\",]\n",
    "    ],\n",
    "        [\n",
    "        r\"what (.*) want ?\",\n",
    "        [\"Make me an offer I can't refuse\",]\n",
    "    ],\n",
    "        [\n",
    "        r\"(.*)created(.*)\",\n",
    "        [\"Surajit Pal created me using Python's NLTK library \",\"top secret ;)\",]\n",
    "    ],\n",
    "        [\n",
    "        r\"(.*) (location|city) ?\",\n",
    "        ['New Delhi, India',]\n",
    "    ],\n",
    "        [\n",
    "        r\"stay(.*) (location|city) ?\",\n",
    "        ['New Delhi, India',]\n",
    "    ],\n",
    "        [\n",
    "        r\"(.*)raining in (.*)\",\n",
    "        [\"No rain in the past 4 days here in %2\",\"In %2 there is a 50% chance of rain\",]\n",
    "    ],\n",
    "        [\n",
    "        r\"(.*)(music|songs|hobby)(.*)\",\n",
    "        [\"I love listening to Music\",]\n",
    "    ],\n",
    "        [\n",
    "        r\"(.*)(artist|band) ?\",\n",
    "        [\"Jimmy Hendrix\"]\n",
    "    ],\n",
    "        [\n",
    "        r\"quit\",\n",
    "        [\"Bye for now. See you soon :) \",\"It was nice talking to you. See you soon :)\"]\n",
    "    ],\n",
    "        [\n",
    "        r\"(.*)\",\n",
    "        ['That is nice to hear']\n",
    "    ],\n",
    "]"
   ]
  },
  {
   "cell_type": "code",
   "execution_count": 138,
   "metadata": {
    "id": "-S8ZSR-kBQLM"
   },
   "outputs": [],
   "source": [
    "def chatbot():\n",
    "    print(\"Hello,\\tMy name is Surajit \\n\\n\\tI am your virtual assistant \\n\\tNote: I do understand ENGLISH if written in lowercase\")\n",
    "    print(\"\\n\\tPlease let me know your user name\\n\")\n",
    "    chat=Chat(pairs,reflections)\n",
    "    chat.converse()"
   ]
  },
  {
   "cell_type": "code",
   "execution_count": 139,
   "metadata": {
    "colab": {
     "base_uri": "https://localhost:8080/"
    },
    "id": "VjwgkMEtBS6E",
    "outputId": "45ba0e96-2b17-4781-85d8-cead00fd0f69"
   },
   "outputs": [
    {
     "name": "stdout",
     "output_type": "stream",
     "text": [
      "Hello,\tMy name is Surajit \n",
      "\n",
      "\tI am your virtual assistant \n",
      "\tNote: I do understand ENGLISH if written in lowercase\n",
      "\n",
      "\tPlease let me know your user name\n",
      "\n",
      ">surajitpal21\n",
      "That is nice to hear\n",
      ">What are you?\n",
      "My name is Suri, but you can just call me Robo Sur and I'm a chatbot .\n",
      ">Who are you?\n",
      "My name is Suri, but you can just call me Robo Sur and I'm a chatbot .\n",
      ">Who created you?\n",
      "Surajit Pal created me using Python's NLTK library \n",
      ">What is your hobby?\n",
      "I love listening to Music\n",
      ">Who is favorite artist?\n",
      "Jimmy Hendrix\n",
      ">What is your location?\n",
      "New Delhi, India\n",
      ">what do you want?\n",
      "Make me an offer I can't refuse\n",
      ">is it raining in New Delhi?\n",
      "No rain in the past 4 days here in new delhi?\n",
      ">bye\n",
      "That is nice to hear\n",
      ">quit\n",
      "It was nice talking to you. See you soon :)\n"
     ]
    }
   ],
   "source": [
    "#Function to keep the chat window live and looped ready to take inputs from user\n",
    "if __name__==\"__main__\":\n",
    "\n",
    "#Calling the chat bot utlity function\n",
    "            chatbot()"
   ]
  }
 ],
 "metadata": {
  "colab": {
   "collapsed_sections": [],
   "machine_shape": "hm",
   "name": "NLP_Project.ipynb",
   "provenance": []
  },
  "kernelspec": {
   "display_name": "Python 3",
   "language": "python",
   "name": "python3"
  },
  "language_info": {
   "codemirror_mode": {
    "name": "ipython",
    "version": 3
   },
   "file_extension": ".py",
   "mimetype": "text/x-python",
   "name": "python",
   "nbconvert_exporter": "python",
   "pygments_lexer": "ipython3",
   "version": "3.8.8"
  }
 },
 "nbformat": 4,
 "nbformat_minor": 1
}
